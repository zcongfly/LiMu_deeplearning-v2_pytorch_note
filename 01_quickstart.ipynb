{
 "cells": [
  {
   "cell_type": "markdown",
   "source": [
    "# 数据操作"
   ],
   "metadata": {
    "collapsed": false
   }
  },
  {
   "cell_type": "code",
   "execution_count": 1,
   "metadata": {
    "collapsed": true
   },
   "outputs": [],
   "source": [
    "import torch"
   ]
  },
  {
   "cell_type": "code",
   "execution_count": 2,
   "outputs": [
    {
     "name": "stdout",
     "output_type": "stream",
     "text": [
      "tensor([ 0,  1,  2,  3,  4,  5,  6,  7,  8,  9, 10, 11])\n",
      "torch.Size([12])\n",
      "12\n",
      "tensor([[ 0,  1,  2,  3],\n",
      "        [ 4,  5,  6,  7],\n",
      "        [ 8,  9, 10, 11]])\n",
      "12\n"
     ]
    }
   ],
   "source": [
    "# 注释后边是tensorflow相同形式的代码\n",
    "x = torch.arange(12)  #创建张量tf.range(12)\n",
    "print(x)\n",
    "print(x.shape)  #形状x.shape\n",
    "print(x.numel())  #元素总数x.size\n",
    "x = x.reshape(3, 4)  # x转换为3行4列的形状x=tf.reshape(x,(3,4))\n",
    "print(x)\n",
    "print(x.numel())  #转换后的元素总数（不变）"
   ],
   "metadata": {
    "collapsed": false,
    "pycharm": {
     "name": "#%%\n"
    }
   }
  },
  {
   "cell_type": "code",
   "execution_count": 3,
   "outputs": [
    {
     "name": "stdout",
     "output_type": "stream",
     "text": [
      "tensor([[[0., 0., 0., 0., 0.],\n",
      "         [0., 0., 0., 0., 0.],\n",
      "         [0., 0., 0., 0., 0.],\n",
      "         [0., 0., 0., 0., 0.]],\n",
      "\n",
      "        [[0., 0., 0., 0., 0.],\n",
      "         [0., 0., 0., 0., 0.],\n",
      "         [0., 0., 0., 0., 0.],\n",
      "         [0., 0., 0., 0., 0.]],\n",
      "\n",
      "        [[0., 0., 0., 0., 0.],\n",
      "         [0., 0., 0., 0., 0.],\n",
      "         [0., 0., 0., 0., 0.],\n",
      "         [0., 0., 0., 0., 0.]]])\n",
      "tensor([[[1., 1., 1., 1., 1.],\n",
      "         [1., 1., 1., 1., 1.],\n",
      "         [1., 1., 1., 1., 1.],\n",
      "         [1., 1., 1., 1., 1.]],\n",
      "\n",
      "        [[1., 1., 1., 1., 1.],\n",
      "         [1., 1., 1., 1., 1.],\n",
      "         [1., 1., 1., 1., 1.],\n",
      "         [1., 1., 1., 1., 1.]],\n",
      "\n",
      "        [[1., 1., 1., 1., 1.],\n",
      "         [1., 1., 1., 1., 1.],\n",
      "         [1., 1., 1., 1., 1.],\n",
      "         [1., 1., 1., 1., 1.]]])\n"
     ]
    }
   ],
   "source": [
    "print(torch.zeros(3, 4, 5))  #全零张量tf.zeros(3,4,5)\n",
    "print(torch.ones(3, 4, 5))  #全1张量tf.ones(3,4,5)"
   ],
   "metadata": {
    "collapsed": false,
    "pycharm": {
     "name": "#%%\n"
    }
   }
  },
  {
   "cell_type": "code",
   "execution_count": 4,
   "outputs": [
    {
     "data": {
      "text/plain": "tensor([[ 1.3241, -0.0426, -0.0885],\n        [-1.0526, -1.0706,  2.1644]])"
     },
     "execution_count": 4,
     "metadata": {},
     "output_type": "execute_result"
    }
   ],
   "source": [
    "torch.randn(2, 3)  #正太分布tf.random.normal(shape=[2,3])"
   ],
   "metadata": {
    "collapsed": false,
    "pycharm": {
     "name": "#%%\n"
    }
   }
  },
  {
   "cell_type": "code",
   "execution_count": 5,
   "outputs": [
    {
     "data": {
      "text/plain": "tensor([[1, 2, 3],\n        [4, 5, 6],\n        [7, 8, 9]])"
     },
     "execution_count": 5,
     "metadata": {},
     "output_type": "execute_result"
    }
   ],
   "source": [
    "torch.tensor([[1, 2, 3], [4, 5, 6], [7, 8, 9]])  #创建张量tf.constant()"
   ],
   "metadata": {
    "collapsed": false,
    "pycharm": {
     "name": "#%%\n"
    }
   }
  },
  {
   "cell_type": "code",
   "execution_count": 6,
   "outputs": [
    {
     "name": "stdout",
     "output_type": "stream",
     "text": [
      "tensor([2.7183e+00, 7.3891e+00, 5.4598e+01, 2.9810e+03])\n",
      "tensor([[ 0.,  1.,  2.,  3.],\n",
      "        [ 4.,  5.,  6.,  7.],\n",
      "        [ 8.,  9., 10., 11.],\n",
      "        [ 2.,  1.,  4.,  3.],\n",
      "        [ 1.,  2.,  3.,  4.],\n",
      "        [ 4.,  3.,  2.,  1.]]) tensor([[ 0.,  1.,  2.,  3.,  2.,  1.,  4.,  3.],\n",
      "        [ 4.,  5.,  6.,  7.,  1.,  2.,  3.,  4.],\n",
      "        [ 8.,  9., 10., 11.,  4.,  3.,  2.,  1.]])\n",
      "tensor([[False,  True, False,  True],\n",
      "        [False, False, False, False],\n",
      "        [False, False, False, False]])\n",
      "tensor(66.)\n"
     ]
    }
   ],
   "source": [
    "# 运算符\n",
    "# 元素级别的加减乘除乘方跟python运算符的语法一样\n",
    "x = torch.tensor([1.0, 2, 4, 8])\n",
    "y = torch.tensor([2, 2, 2, 2])\n",
    "# x + y, x - y, x * y, x / y, x ** y  # **运算符是求幂运算\n",
    "\n",
    "print(torch.exp(x))  #tf.exp(x)\n",
    "\n",
    "# 按某个轴进行张量拼接\n",
    "X = torch.arange(12, dtype=torch.float32).reshape((3, 4))\n",
    "Y = torch.tensor([[2.0, 1, 4, 3], [1, 2, 3, 4], [4, 3, 2, 1]])\n",
    "print(torch.cat((X, Y), dim=0), torch.cat((X, Y), dim=1))  #tf.concat()\n",
    "\n",
    "print(X == Y)  #判断对应位置的元素是否相等，返回一个boolean类型的矩阵\n",
    "# 上面这个式子改成>、<也是一样的逻辑\n",
    "print(X.sum())  #对所有元素求和tf.reduce_sum(X)"
   ],
   "metadata": {
    "collapsed": false,
    "pycharm": {
     "name": "#%%\n"
    }
   }
  },
  {
   "cell_type": "code",
   "execution_count": 7,
   "outputs": [
    {
     "name": "stdout",
     "output_type": "stream",
     "text": [
      "tensor([[0],\n",
      "        [1],\n",
      "        [2]])\n",
      "tensor([[0, 1]])\n",
      "tensor([[0, 1],\n",
      "        [1, 2],\n",
      "        [2, 3]])\n"
     ]
    }
   ],
   "source": [
    "# 广播\n",
    "a = torch.arange(3).reshape((3, 1))\n",
    "b = torch.arange(2).reshape((1, 2))\n",
    "print(a)\n",
    "print(b)\n",
    "print(a + b)"
   ],
   "metadata": {
    "collapsed": false,
    "pycharm": {
     "name": "#%%\n"
    }
   }
  },
  {
   "cell_type": "code",
   "execution_count": 8,
   "outputs": [
    {
     "data": {
      "text/plain": "tensor([[ 4.,  5.,  6.,  7.],\n        [ 8.,  9., 10., 11.]])"
     },
     "execution_count": 8,
     "metadata": {},
     "output_type": "execute_result"
    }
   ],
   "source": [
    "# 索引和切片：都是左闭右开区间\n",
    "X[1:3]  #取到的是第1、2个元素"
   ],
   "metadata": {
    "collapsed": false,
    "pycharm": {
     "name": "#%%\n"
    }
   }
  },
  {
   "cell_type": "code",
   "execution_count": 9,
   "outputs": [],
   "source": [
    "# 节省内存\n",
    "# 使用切片来减少内存\n",
    "X[:] = X + Y"
   ],
   "metadata": {
    "collapsed": false,
    "pycharm": {
     "name": "#%%\n"
    }
   }
  },
  {
   "cell_type": "code",
   "execution_count": 10,
   "outputs": [
    {
     "name": "stdout",
     "output_type": "stream",
     "text": [
      "<class 'numpy.ndarray'> <class 'torch.Tensor'>\n",
      "tensor([3.5000]) 3.5 3.5 3\n"
     ]
    }
   ],
   "source": [
    "# 转为其他python对象\n",
    "A = X.numpy()\n",
    "B = torch.tensor(A)\n",
    "print(type(A), type(B))\n",
    "# 将大小为1的张量转为标量\n",
    "a = torch.tensor([3.5])\n",
    "print(a, a.item(), float(a), int(a))"
   ],
   "metadata": {
    "collapsed": false,
    "pycharm": {
     "name": "#%%\n"
    }
   }
  },
  {
   "cell_type": "markdown",
   "source": [
    "# 数据预处理"
   ],
   "metadata": {
    "collapsed": false
   }
  },
  {
   "cell_type": "markdown",
   "source": [
    "## os.makedirs()\n",
    "exist_ok=True是os.makedirs()方法的一个参数，它的作用是当目录已经存在时不会抛出异常，即不会报错。如果没有设置该参数，默认为False，则当路径已经存在时会抛出FileExistsError异常。\n",
    "\n",
    "除此之外，os.makedirs()方法还有一些其他的常用参数：\n",
    "\n",
    "- mode：指定创建目录的权限，默认是0o777（即rwxrwxrwx），可以使用八进制表示。\n",
    "- exist_ok：如上所述，指定当目录已存在时是否抛出异常。\n",
    "- parents：指定是否同时创建中间目录。如果该参数为True，则在父目录不存在时也会自动创建。\n",
    "- dir_fd：指定要在哪个文件描述符下创建目录。默认为None，即在当前工作目录下创建。\n",
    "- onerror：指定在创建目录时遇到错误时的处理方式。默认为raise，即抛出异常。可以将其设置为一个回调函数来自定义处理方式。\n",
    "\n",
    "需要注意的是，在使用os.makedirs()方法时，应该确保目标路径合法且安全，以避免意外覆盖或删除现有文件。建议使用绝对路径或可靠的相对路径，并仔细检查参数设置、路径拼接等操作。"
   ],
   "metadata": {
    "collapsed": false
   }
  },
  {
   "cell_type": "code",
   "execution_count": 11,
   "outputs": [],
   "source": [
    "import os\n",
    "\n",
    "os.makedirs(os.path.join('.', 'datasets'), exist_ok=True)\n",
    "data_file = os.path.join('.', 'datasets', 'house_tiny.csv')\n",
    "with open(data_file, 'w') as f:\n",
    "    f.write('NumRooms,Alley,Price\\n')  #表头，分别表示房间数量（“NumRooms”）、巷子类型（“Alley”）和房屋价格（“Price”）\n",
    "    f.write('NA,Pave,127500\\n')\n",
    "    f.write('2,NA,106000\\n')\n",
    "    f.write('4,NA,178100\\n')\n",
    "    f.write('NA,NA,140000\\n')"
   ],
   "metadata": {
    "collapsed": false,
    "pycharm": {
     "name": "#%%\n"
    }
   }
  },
  {
   "cell_type": "code",
   "execution_count": 12,
   "outputs": [
    {
     "name": "stdout",
     "output_type": "stream",
     "text": [
      "   NumRooms Alley   Price\n",
      "0       NaN  Pave  127500\n",
      "1       2.0   NaN  106000\n",
      "2       4.0   NaN  178100\n",
      "3       NaN   NaN  140000\n"
     ]
    }
   ],
   "source": [
    "import pandas as pd\n",
    "\n",
    "data = pd.read_csv(data_file)\n",
    "print(data)"
   ],
   "metadata": {
    "collapsed": false,
    "pycharm": {
     "name": "#%%\n"
    }
   }
  },
  {
   "cell_type": "code",
   "execution_count": 13,
   "outputs": [
    {
     "name": "stdout",
     "output_type": "stream",
     "text": [
      "   NumRooms Alley\n",
      "0       3.0  Pave\n",
      "1       2.0   NaN\n",
      "2       4.0   NaN\n",
      "3       3.0   NaN\n"
     ]
    }
   ],
   "source": [
    "inputs, outputs = data.iloc[:, 0:2], data.iloc[:, 2]\n",
    "inputs = inputs.fillna(inputs.mean())\n",
    "print(inputs)"
   ],
   "metadata": {
    "collapsed": false,
    "pycharm": {
     "name": "#%%\n"
    }
   }
  },
  {
   "cell_type": "markdown",
   "source": [
    "## pd.get_dummies()\n",
    "dummy_na=True是将输入变量中的缺失值也视为一种类别进行编码，即将缺失值也转化为哑变量(dummy variable)。\n",
    "\n",
    "pd.get_dummies()函数的作用是将分类变量转换为哑变量（0或1）。在该函数中，参数dummy_na是一个可选参数，如果设置为True，则会自动为缺失值创建额外的列，并将其编码为1或0，以表示每行数据是否缺失。\n",
    "\n",
    "还有另外两个需要注意的参数：\n",
    "\n",
    "- columns：指定要进行哑变量转换的列名，如果不指定则会对所有分类变量进行转换。\n",
    "- prefix：指定哑变量的前缀，默认为原始的列名。\n",
    "\n",
    "例如，如果我们有一个“Gender”列，其中包含“Male”、“Female”和缺失值，那么使用pd.get_dummies(inputs, dummy_na=True)将生成三列：“Gender_Female”、“Gender_Male”和“Gender_nan”，其中“Gender_nan”代表缺失值。"
   ],
   "metadata": {
    "collapsed": false
   }
  },
  {
   "cell_type": "code",
   "execution_count": 14,
   "outputs": [
    {
     "name": "stdout",
     "output_type": "stream",
     "text": [
      "   NumRooms  Alley_Pave  Alley_nan\n",
      "0       3.0           1          0\n",
      "1       2.0           0          1\n",
      "2       4.0           0          1\n",
      "3       3.0           0          1\n"
     ]
    }
   ],
   "source": [
    "inputs = pd.get_dummies(inputs, dummy_na=True)\n",
    "print(inputs)"
   ],
   "metadata": {
    "collapsed": false,
    "pycharm": {
     "name": "#%%\n"
    }
   }
  },
  {
   "cell_type": "code",
   "execution_count": 15,
   "outputs": [
    {
     "name": "stdout",
     "output_type": "stream",
     "text": [
      "<class 'pandas.core.frame.DataFrame'>\n"
     ]
    },
    {
     "data": {
      "text/plain": "(tensor([[3., 1., 0.],\n         [2., 0., 1.],\n         [4., 0., 1.],\n         [3., 0., 1.]], dtype=torch.float64),\n tensor([127500, 106000, 178100, 140000]))"
     },
     "execution_count": 15,
     "metadata": {},
     "output_type": "execute_result"
    }
   ],
   "source": [
    "print(type(inputs))\n",
    "X, y = torch.tensor(inputs.values), torch.tensor(outputs.values)\n",
    "X, y"
   ],
   "metadata": {
    "collapsed": false,
    "pycharm": {
     "name": "#%%\n"
    }
   }
  },
  {
   "cell_type": "markdown",
   "source": [
    "# 线性代数"
   ],
   "metadata": {
    "collapsed": false
   }
  },
  {
   "cell_type": "code",
   "execution_count": 16,
   "outputs": [
    {
     "data": {
      "text/plain": "(tensor([[ 0.,  1.,  2.,  3.],\n         [ 4.,  5.,  6.,  7.],\n         [ 8.,  9., 10., 11.],\n         [12., 13., 14., 15.],\n         [16., 17., 18., 19.]]),\n tensor([[ 0.,  2.,  4.,  6.],\n         [ 8., 10., 12., 14.],\n         [16., 18., 20., 22.],\n         [24., 26., 28., 30.],\n         [32., 34., 36., 38.]]))"
     },
     "execution_count": 16,
     "metadata": {},
     "output_type": "execute_result"
    }
   ],
   "source": [
    "A = torch.arange(20, dtype=torch.float32).reshape(5, 4)\n",
    "B = A.clone()  # 通过分配新内存，将A的一个副本分配给B\n",
    "A, A + B"
   ],
   "metadata": {
    "collapsed": false,
    "pycharm": {
     "name": "#%%\n"
    }
   }
  },
  {
   "cell_type": "code",
   "execution_count": 17,
   "outputs": [
    {
     "name": "stdout",
     "output_type": "stream",
     "text": [
      "tensor([[ 0.,  1.,  2.,  3.],\n",
      "        [ 4.,  5.,  6.,  7.],\n",
      "        [ 8.,  9., 10., 11.],\n",
      "        [12., 13., 14., 15.],\n",
      "        [16., 17., 18., 19.]])\n",
      "tensor(190.)\n",
      "tensor([40., 45., 50., 55.])\n",
      "tensor([ 6., 22., 38., 54., 70.])\n",
      "tensor(190.)\n"
     ]
    }
   ],
   "source": [
    "# 降维求和\n",
    "print(A)\n",
    "print(A.sum())\n",
    "print(A.sum(axis=0))\n",
    "print(A.sum(axis=1))\n",
    "print(A.sum(axis=[0, 1]))  #沿着0轴和1轴对张量求和\n",
    "# A.mean()均值函数同理"
   ],
   "metadata": {
    "collapsed": false,
    "pycharm": {
     "name": "#%%\n"
    }
   }
  },
  {
   "cell_type": "code",
   "execution_count": 20,
   "outputs": [
    {
     "name": "stdout",
     "output_type": "stream",
     "text": [
      "tensor([[40., 45., 50., 55.]])\n",
      "tensor([[ 6.],\n",
      "        [22.],\n",
      "        [38.],\n",
      "        [54.],\n",
      "        [70.]])\n",
      "tensor([[0.0000, 0.0222, 0.0400, 0.0545],\n",
      "        [0.1000, 0.1111, 0.1200, 0.1273],\n",
      "        [0.2000, 0.2000, 0.2000, 0.2000],\n",
      "        [0.3000, 0.2889, 0.2800, 0.2727],\n",
      "        [0.4000, 0.3778, 0.3600, 0.3455]])\n",
      "tensor([[ 0.,  1.,  2.,  3.],\n",
      "        [ 4.,  6.,  8., 10.],\n",
      "        [12., 15., 18., 21.],\n",
      "        [24., 28., 32., 36.],\n",
      "        [40., 45., 50., 55.]])\n",
      "tensor([[ 0.,  1.,  3.,  6.],\n",
      "        [ 4.,  9., 15., 22.],\n",
      "        [ 8., 17., 27., 38.],\n",
      "        [12., 25., 39., 54.],\n",
      "        [16., 33., 51., 70.]])\n"
     ]
    }
   ],
   "source": [
    "# 非降维求和\n",
    "print(A.sum(axis=0, keepdims=True))\n",
    "print(A.sum(axis=1, keepdims=True))\n",
    "\n",
    "sum_A = A.sum(axis=0, keepdims=True)\n",
    "print(A / sum_A)\n",
    "\n",
    "print(A.cumsum(axis=0))  #累加和\n",
    "print(A.cumsum(axis=1))"
   ],
   "metadata": {
    "collapsed": false,
    "pycharm": {
     "name": "#%%\n"
    }
   }
  },
  {
   "cell_type": "code",
   "execution_count": 21,
   "outputs": [
    {
     "name": "stdout",
     "output_type": "stream",
     "text": [
      "tensor([1., 2., 4., 8.]) tensor([1., 1., 1., 1.]) tensor(15.)\n",
      "torch.Size([5, 4]) torch.Size([4]) tensor([ 34.,  94., 154., 214., 274.])\n"
     ]
    },
    {
     "data": {
      "text/plain": "tensor([[ 6.,  6.,  6.],\n        [22., 22., 22.],\n        [38., 38., 38.],\n        [54., 54., 54.],\n        [70., 70., 70.]])"
     },
     "execution_count": 21,
     "metadata": {},
     "output_type": "execute_result"
    }
   ],
   "source": [
    "y = torch.ones(4, dtype=torch.float32)\n",
    "print(x, y, torch.dot(x, y))  #点积\n",
    "print(A.shape, x.shape, torch.mv(A, x))  #向量积\n",
    "B = torch.ones(4, 3)\n",
    "torch.mm(A, B)  #矩阵乘法"
   ],
   "metadata": {
    "collapsed": false,
    "pycharm": {
     "name": "#%%\n"
    }
   }
  },
  {
   "cell_type": "code",
   "execution_count": null,
   "outputs": [],
   "source": [
    "u = torch.tensor([3.0, -4.0])\n",
    "torch.norm(u)  #范数，向量的范数是表示一个向量有多大。 这里考虑的大小（size）概念不涉及维度，而是分量的大小\n",
    "# torch.norm()计算矩阵的Frobenius范数"
   ],
   "metadata": {
    "collapsed": false,
    "pycharm": {
     "name": "#%%\n"
    }
   }
  },
  {
   "cell_type": "markdown",
   "source": [
    "# 自动微分"
   ],
   "metadata": {
    "collapsed": false
   }
  },
  {
   "cell_type": "code",
   "execution_count": 2,
   "outputs": [
    {
     "name": "stdout",
     "output_type": "stream",
     "text": [
      "None\n"
     ]
    }
   ],
   "source": [
    "import torch\n",
    "\n",
    "x = torch.arange(4.0)\n",
    "x.requires_grad_(True)  # 等价于x=torch.arange(4.0,requires_grad=True)，同tf.Variable(x)\n",
    "print(x.grad)  # 默认值是None"
   ],
   "metadata": {
    "collapsed": false,
    "pycharm": {
     "name": "#%%\n"
    }
   }
  },
  {
   "cell_type": "code",
   "execution_count": 3,
   "outputs": [
    {
     "name": "stdout",
     "output_type": "stream",
     "text": [
      "tensor(28., grad_fn=<MulBackward0>)\n",
      "tensor([ 0.,  4.,  8., 12.])\n"
     ]
    }
   ],
   "source": [
    "y = 2 * torch.dot(x, x)\n",
    "# tf需要把所有计算记录在磁带上\n",
    "# with tf.GradientTape() as t:\n",
    "#     y = 2 * tf.tensordot(x, x, axes=1)\n",
    "print(y)\n",
    "y.backward()  #x_grad=t.gradient(y,x)\n",
    "print(x.grad)"
   ],
   "metadata": {
    "collapsed": false,
    "pycharm": {
     "name": "#%%\n"
    }
   }
  },
  {
   "cell_type": "code",
   "execution_count": 4,
   "outputs": [
    {
     "data": {
      "text/plain": "tensor([True, True, True, True])"
     },
     "execution_count": 4,
     "metadata": {},
     "output_type": "execute_result"
    }
   ],
   "source": [
    "# 函数y=2x.T*x关于x的梯度应为4x，验证这个梯度是否计算正确\n",
    "x.grad == 4 * x"
   ],
   "metadata": {
    "collapsed": false,
    "pycharm": {
     "name": "#%%\n"
    }
   }
  },
  {
   "cell_type": "code",
   "execution_count": 5,
   "outputs": [
    {
     "name": "stdout",
     "output_type": "stream",
     "text": [
      "tensor(6., grad_fn=<SumBackward0>)\n",
      "tensor([1., 1., 1., 1.])\n"
     ]
    }
   ],
   "source": [
    "# 计算x的另一个函数\n",
    "# 在默认情况下，PyTorch会累积梯度，我们需要清除之前的值（tf默认直接覆盖）\n",
    "# with tf.GradientTape() as t:\n",
    "#     y = tf.reduce_sum(x)\n",
    "# t.gradient(y, x)  # 被新计算的梯度覆盖\n",
    "\n",
    "x.grad.zero_()\n",
    "y = x.sum()\n",
    "print(y)\n",
    "y.backward()\n",
    "print(x.grad)"
   ],
   "metadata": {
    "collapsed": false,
    "pycharm": {
     "name": "#%%\n"
    }
   }
  },
  {
   "cell_type": "markdown",
   "source": [
    "当y不是标量时，向量y关于向量x的导数的最自然解释是一个矩阵。 对于高阶和高维的y和x，求导的结果可以是一个高阶张量。\n",
    "\n",
    "然而，虽然这些更奇特的对象确实出现在高级机器学习中（包括深度学习中）， 但当调用向量的反向计算时，我们通常会试图计算一批训练样本中每个组成部分的损失函数的导数。 这里，我们的目的不是计算微分矩阵，而是单独计算批量中每个样本的偏导数之和。"
   ],
   "metadata": {
    "collapsed": false
   }
  },
  {
   "cell_type": "code",
   "execution_count": 7,
   "outputs": [
    {
     "name": "stdout",
     "output_type": "stream",
     "text": [
      "tensor([0., 1., 4., 9.], grad_fn=<MulBackward0>)\n",
      "tensor([0., 2., 4., 6.])\n"
     ]
    }
   ],
   "source": [
    "# 对非标量调用backward需要传入一个gradient参数，该参数指定微分函数关于self的梯度\n",
    "# 本例只想求偏导数的和，所以传入一个1的梯度是合适的\n",
    "x.grad.zero_()\n",
    "y = x * x  #对应元素相乘\n",
    "print(y)\n",
    "y.sum().backward()  #等价于y.backward(torch.ones(len(x)))\n",
    "print(x.grad)"
   ],
   "metadata": {
    "collapsed": false,
    "pycharm": {
     "name": "#%%\n"
    }
   }
  },
  {
   "cell_type": "markdown",
   "source": [
    "对上面这段代码的解释：\n",
    "\n",
    "这段代码使用了PyTorch库进行数值计算和自动求导。\n",
    "\n",
    "首先，`x.grad.zero_()`是将`x`的梯度初始化为零。这是为了确保每次计算梯度之前，都将梯度清零，以避免之前的梯度对当前计算的影响。\n",
    "\n",
    "接下来，`y = x * x`表示将`x`的每个元素与自身相乘，即逐元素平方。\n",
    "\n",
    "然后，`y.sum().backward()`是对`y`进行求和并进行反向传播。`sum()`将`y`中的所有元素相加得到一个标量值，然后使用自动求导函数`backward()`计算关于`x`的梯度。这里不需要传入参数，因为默认情况下，`backward()`函数会将梯度传播为1。\n",
    "\n",
    "`y.backward(torch.ones(len(x)))`是等价的写法，其中`torch.ones(len(x))`创建了一个与`x`具有相同长度的张量，并且每个元素的值都为1。在这种情况下，我们将该张量作为参数传递给`backward()`函数，它会将这个张量的值作为梯度的缩放因子。因为所有元素的值都是1，所以实际上等价于不传递参数，默认缩放因子为1。\n",
    "\n",
    "这个参数的作用是用于梯度的缩放。在某些情况下，我们可能希望对梯度进行缩放或加权。通过传递一个张量作为参数，我们可以对梯度进行按元素缩放，以实现自定义的加权求和操作。在大多数情况下，不传递参数即可，使用默认的缩放因子1即可满足需求。"
   ],
   "metadata": {
    "collapsed": false
   }
  },
  {
   "cell_type": "markdown",
   "source": [
    "**分离计算**\n",
    "\n",
    "有时，我们希望将某些计算移动到记录的计算图之外。 例如，假设y是作为x的函数计算的，而z则是作为y和x的函数计算的。 想象一下，我们想计算z关于x的梯度，但由于某种原因，希望将y视为一个常数， 并且只考虑到x在y被计算后发挥的作用。\n",
    "\n",
    "这里可以分离y来返回一个新变量u，该变量与y具有相同的值， 但丢弃计算图中如何计算y的任何信息。 换句话说，梯度不会向后流经u到x。 因此，下面的反向传播函数计算z=u\\*x关于x的偏导数，同时将u作为常数处理， 而不是z=x\\*x\\*x关于x的偏导数。"
   ],
   "metadata": {
    "collapsed": false
   }
  },
  {
   "cell_type": "code",
   "execution_count": 9,
   "outputs": [
    {
     "data": {
      "text/plain": "tensor([True, True, True, True])"
     },
     "execution_count": 9,
     "metadata": {},
     "output_type": "execute_result"
    }
   ],
   "source": [
    "x.grad.zero_()\n",
    "y = x * x\n",
    "u = y.detach()  # 分离y并将其赋值给u，将u作为一个常数\n",
    "z = u * x\n",
    "\n",
    "z.sum().backward()\n",
    "x.grad == u"
   ],
   "metadata": {
    "collapsed": false,
    "pycharm": {
     "name": "#%%\n"
    }
   }
  },
  {
   "cell_type": "markdown",
   "source": [
    "由于记录了y的计算结果，我们可以随后在y上调用反向传播， 得到y=x\\*x关于的x的导数，即2\\*x。"
   ],
   "metadata": {
    "collapsed": false
   }
  },
  {
   "cell_type": "code",
   "execution_count": 10,
   "outputs": [
    {
     "data": {
      "text/plain": "tensor([True, True, True, True])"
     },
     "execution_count": 10,
     "metadata": {},
     "output_type": "execute_result"
    }
   ],
   "source": [
    "x.grad.zero_()\n",
    "y.sum().backward()\n",
    "x.grad == 2 * x"
   ],
   "metadata": {
    "collapsed": false,
    "pycharm": {
     "name": "#%%\n"
    }
   }
  },
  {
   "cell_type": "markdown",
   "source": [
    "使用自动微分的一个好处是： 即使构建函数的计算图需要通过Python控制流（例如，条件、循环或任意函数调用），我们仍然可以计算得到的变量的梯度。 在下面的代码中，while循环的迭代次数和if语句的结果都取决于输入a的值。"
   ],
   "metadata": {
    "collapsed": false
   }
  },
  {
   "cell_type": "code",
   "execution_count": 11,
   "outputs": [],
   "source": [
    "def f(a):\n",
    "    b=a*2\n",
    "    while b.norm()<1000:    # 计算b的范数\n",
    "        b=b*2\n",
    "    if b.sum()>0:\n",
    "        c=b\n",
    "    else:\n",
    "        c=100*b\n",
    "    return c"
   ],
   "metadata": {
    "collapsed": false,
    "pycharm": {
     "name": "#%%\n"
    }
   }
  },
  {
   "cell_type": "code",
   "execution_count": 14,
   "outputs": [
    {
     "name": "stdout",
     "output_type": "stream",
     "text": [
      "tensor(0.6090, requires_grad=True)\n",
      "tensor(1247.1744, grad_fn=<MulBackward0>)\n",
      "tensor(2048.)\n",
      "tensor(True)\n"
     ]
    }
   ],
   "source": [
    "a=torch.randn(size=(),requires_grad=True)\n",
    "print(a)\n",
    "d=f(a)\n",
    "print(d)\n",
    "d.backward()\n",
    "print(a.grad)\n",
    "print(a.grad==d/a)"
   ],
   "metadata": {
    "collapsed": false,
    "pycharm": {
     "name": "#%%\n"
    }
   }
  },
  {
   "cell_type": "markdown",
   "source": [
    "# 概率"
   ],
   "metadata": {
    "collapsed": false
   }
  },
  {
   "cell_type": "code",
   "execution_count": 24,
   "outputs": [
    {
     "data": {
      "text/plain": "tensor([1., 0., 0., 0., 1., 0.])"
     },
     "execution_count": 24,
     "metadata": {},
     "output_type": "execute_result"
    }
   ],
   "source": [
    "%matplotlib inline\n",
    "from torch.distributions import multinomial #多项式分布\n",
    "from d2l import torch as d2l\n",
    "\n",
    "fair_probs=torch.ones([6])/6    #设置每个样本抽到的概率\n",
    "multinomial.Multinomial(2,fair_probs).sample()  #按fair_probs概率抽样"
   ],
   "metadata": {
    "collapsed": false,
    "pycharm": {
     "name": "#%%\n"
    }
   }
  },
  {
   "cell_type": "markdown",
   "source": [
    "这段代码使用了Python中的numpy库中的multinomial函数，用于从多项分布中抽取样本。\n",
    "\n",
    "具体来说，该函数接受两个参数：n和p。其中，n表示抽取的次数，p是一个k维向量，表示每个离散事件发生的概率（k为离散事件的种类数）。\n",
    "\n",
    "在这里，由于第一个参数是1，所以只抽取了一次样本。而fair_probs是一个包含k个元素的列表，表示每个离散事件发生的概率相等，即是一个公平的概率分布。\n",
    "\n",
    "因此，这行代码实际上是在从一个公平的多项分布中随机抽取了一个样本，返回的结果是一个包含k个元素的列表，其中仅有一个元素为1，其他元素均为0，表示哪个离散事件被抽中了。"
   ],
   "metadata": {
    "collapsed": false
   }
  },
  {
   "cell_type": "code",
   "execution_count": 26,
   "outputs": [
    {
     "data": {
      "text/plain": "tensor([0.1840, 0.1620, 0.1590, 0.1750, 0.1670, 0.1530])"
     },
     "execution_count": 26,
     "metadata": {},
     "output_type": "execute_result"
    }
   ],
   "source": [
    "# 抽取1000次\n",
    "# 将结果存储为32位浮点数以进行除法\n",
    "counts = multinomial.Multinomial(1000, fair_probs).sample()\n",
    "counts / 1000  # 相对频率作为估计值"
   ],
   "metadata": {
    "collapsed": false,
    "pycharm": {
     "name": "#%%\n"
    }
   }
  },
  {
   "cell_type": "code",
   "execution_count": 33,
   "outputs": [
    {
     "name": "stdout",
     "output_type": "stream",
     "text": [
      "tensor([[2., 0., 2., 4., 2., 0.],\n",
      "        [0., 1., 3., 3., 1., 2.],\n",
      "        [1., 0., 4., 1., 0., 4.],\n",
      "        ...,\n",
      "        [3., 0., 2., 3., 2., 0.],\n",
      "        [3., 3., 2., 1., 1., 0.],\n",
      "        [3., 1., 0., 2., 2., 2.]])\n",
      "tensor([[  2.,   0.,   2.,   4.,   2.,   0.],\n",
      "        [  2.,   1.,   5.,   7.,   3.,   2.],\n",
      "        [  3.,   1.,   9.,   8.,   3.,   6.],\n",
      "        ...,\n",
      "        [820., 770., 875., 786., 862., 867.],\n",
      "        [823., 773., 877., 787., 863., 867.],\n",
      "        [826., 774., 877., 789., 865., 869.]])\n",
      "tensor([[0.2000, 0.0000, 0.2000, 0.4000, 0.2000, 0.0000],\n",
      "        [0.1000, 0.0500, 0.2500, 0.3500, 0.1500, 0.1000],\n",
      "        [0.1000, 0.0333, 0.3000, 0.2667, 0.1000, 0.2000],\n",
      "        ...,\n",
      "        [0.1647, 0.1546, 0.1757, 0.1578, 0.1731, 0.1741],\n",
      "        [0.1649, 0.1549, 0.1758, 0.1577, 0.1729, 0.1737],\n",
      "        [0.1652, 0.1548, 0.1754, 0.1578, 0.1730, 0.1738]])\n"
     ]
    },
    {
     "data": {
      "text/plain": "<Figure size 600x450 with 1 Axes>",
      "image/svg+xml": "<?xml version=\"1.0\" encoding=\"utf-8\" standalone=\"no\"?>\n<!DOCTYPE svg PUBLIC \"-//W3C//DTD SVG 1.1//EN\"\n  \"http://www.w3.org/Graphics/SVG/1.1/DTD/svg11.dtd\">\n<svg xmlns:xlink=\"http://www.w3.org/1999/xlink\" width=\"392.14375pt\" height=\"294.23625pt\" viewBox=\"0 0 392.14375 294.23625\" xmlns=\"http://www.w3.org/2000/svg\" version=\"1.1\">\n <metadata>\n  <rdf:RDF xmlns:dc=\"http://purl.org/dc/elements/1.1/\" xmlns:cc=\"http://creativecommons.org/ns#\" xmlns:rdf=\"http://www.w3.org/1999/02/22-rdf-syntax-ns#\">\n   <cc:Work>\n    <dc:type rdf:resource=\"http://purl.org/dc/dcmitype/StillImage\"/>\n    <dc:date>2023-05-20T12:18:47.975095</dc:date>\n    <dc:format>image/svg+xml</dc:format>\n    <dc:creator>\n     <cc:Agent>\n      <dc:title>Matplotlib v3.5.1, https://matplotlib.org/</dc:title>\n     </cc:Agent>\n    </dc:creator>\n   </cc:Work>\n  </rdf:RDF>\n </metadata>\n <defs>\n  <style type=\"text/css\">*{stroke-linejoin: round; stroke-linecap: butt}</style>\n </defs>\n <g id=\"figure_1\">\n  <g id=\"patch_1\">\n   <path d=\"M 0 294.23625 \nL 392.14375 294.23625 \nL 392.14375 0 \nL 0 0 \nz\n\" style=\"fill: #ffffff\"/>\n  </g>\n  <g id=\"axes_1\">\n   <g id=\"patch_2\">\n    <path d=\"M 50.14375 256.68 \nL 384.94375 256.68 \nL 384.94375 7.2 \nL 50.14375 7.2 \nz\n\" style=\"fill: #ffffff\"/>\n   </g>\n   <g id=\"matplotlib.axis_1\">\n    <g id=\"xtick_1\">\n     <g id=\"line2d_1\">\n      <defs>\n       <path id=\"m316887edbe\" d=\"M 0 0 \nL 0 3.5 \n\" style=\"stroke: #000000; stroke-width: 0.8\"/>\n      </defs>\n      <g>\n       <use xlink:href=\"#m316887edbe\" x=\"65.361932\" y=\"256.68\" style=\"stroke: #000000; stroke-width: 0.8\"/>\n      </g>\n     </g>\n     <g id=\"text_1\">\n      <!-- 0 -->\n      <g transform=\"translate(62.180682 271.278438)scale(0.1 -0.1)\">\n       <defs>\n        <path id=\"DejaVuSans-30\" d=\"M 2034 4250 \nQ 1547 4250 1301 3770 \nQ 1056 3291 1056 2328 \nQ 1056 1369 1301 889 \nQ 1547 409 2034 409 \nQ 2525 409 2770 889 \nQ 3016 1369 3016 2328 \nQ 3016 3291 2770 3770 \nQ 2525 4250 2034 4250 \nz\nM 2034 4750 \nQ 2819 4750 3233 4129 \nQ 3647 3509 3647 2328 \nQ 3647 1150 3233 529 \nQ 2819 -91 2034 -91 \nQ 1250 -91 836 529 \nQ 422 1150 422 2328 \nQ 422 3509 836 4129 \nQ 1250 4750 2034 4750 \nz\n\" transform=\"scale(0.015625)\"/>\n       </defs>\n       <use xlink:href=\"#DejaVuSans-30\"/>\n      </g>\n     </g>\n    </g>\n    <g id=\"xtick_2\">\n     <g id=\"line2d_2\">\n      <g>\n       <use xlink:href=\"#m316887edbe\" x=\"126.356649\" y=\"256.68\" style=\"stroke: #000000; stroke-width: 0.8\"/>\n      </g>\n     </g>\n     <g id=\"text_2\">\n      <!-- 100 -->\n      <g transform=\"translate(116.812899 271.278438)scale(0.1 -0.1)\">\n       <defs>\n        <path id=\"DejaVuSans-31\" d=\"M 794 531 \nL 1825 531 \nL 1825 4091 \nL 703 3866 \nL 703 4441 \nL 1819 4666 \nL 2450 4666 \nL 2450 531 \nL 3481 531 \nL 3481 0 \nL 794 0 \nL 794 531 \nz\n\" transform=\"scale(0.015625)\"/>\n       </defs>\n       <use xlink:href=\"#DejaVuSans-31\"/>\n       <use xlink:href=\"#DejaVuSans-30\" x=\"63.623047\"/>\n       <use xlink:href=\"#DejaVuSans-30\" x=\"127.246094\"/>\n      </g>\n     </g>\n    </g>\n    <g id=\"xtick_3\">\n     <g id=\"line2d_3\">\n      <g>\n       <use xlink:href=\"#m316887edbe\" x=\"187.351365\" y=\"256.68\" style=\"stroke: #000000; stroke-width: 0.8\"/>\n      </g>\n     </g>\n     <g id=\"text_3\">\n      <!-- 200 -->\n      <g transform=\"translate(177.807615 271.278438)scale(0.1 -0.1)\">\n       <defs>\n        <path id=\"DejaVuSans-32\" d=\"M 1228 531 \nL 3431 531 \nL 3431 0 \nL 469 0 \nL 469 531 \nQ 828 903 1448 1529 \nQ 2069 2156 2228 2338 \nQ 2531 2678 2651 2914 \nQ 2772 3150 2772 3378 \nQ 2772 3750 2511 3984 \nQ 2250 4219 1831 4219 \nQ 1534 4219 1204 4116 \nQ 875 4013 500 3803 \nL 500 4441 \nQ 881 4594 1212 4672 \nQ 1544 4750 1819 4750 \nQ 2544 4750 2975 4387 \nQ 3406 4025 3406 3419 \nQ 3406 3131 3298 2873 \nQ 3191 2616 2906 2266 \nQ 2828 2175 2409 1742 \nQ 1991 1309 1228 531 \nz\n\" transform=\"scale(0.015625)\"/>\n       </defs>\n       <use xlink:href=\"#DejaVuSans-32\"/>\n       <use xlink:href=\"#DejaVuSans-30\" x=\"63.623047\"/>\n       <use xlink:href=\"#DejaVuSans-30\" x=\"127.246094\"/>\n      </g>\n     </g>\n    </g>\n    <g id=\"xtick_4\">\n     <g id=\"line2d_4\">\n      <g>\n       <use xlink:href=\"#m316887edbe\" x=\"248.346082\" y=\"256.68\" style=\"stroke: #000000; stroke-width: 0.8\"/>\n      </g>\n     </g>\n     <g id=\"text_4\">\n      <!-- 300 -->\n      <g transform=\"translate(238.802332 271.278438)scale(0.1 -0.1)\">\n       <defs>\n        <path id=\"DejaVuSans-33\" d=\"M 2597 2516 \nQ 3050 2419 3304 2112 \nQ 3559 1806 3559 1356 \nQ 3559 666 3084 287 \nQ 2609 -91 1734 -91 \nQ 1441 -91 1130 -33 \nQ 819 25 488 141 \nL 488 750 \nQ 750 597 1062 519 \nQ 1375 441 1716 441 \nQ 2309 441 2620 675 \nQ 2931 909 2931 1356 \nQ 2931 1769 2642 2001 \nQ 2353 2234 1838 2234 \nL 1294 2234 \nL 1294 2753 \nL 1863 2753 \nQ 2328 2753 2575 2939 \nQ 2822 3125 2822 3475 \nQ 2822 3834 2567 4026 \nQ 2313 4219 1838 4219 \nQ 1578 4219 1281 4162 \nQ 984 4106 628 3988 \nL 628 4550 \nQ 988 4650 1302 4700 \nQ 1616 4750 1894 4750 \nQ 2613 4750 3031 4423 \nQ 3450 4097 3450 3541 \nQ 3450 3153 3228 2886 \nQ 3006 2619 2597 2516 \nz\n\" transform=\"scale(0.015625)\"/>\n       </defs>\n       <use xlink:href=\"#DejaVuSans-33\"/>\n       <use xlink:href=\"#DejaVuSans-30\" x=\"63.623047\"/>\n       <use xlink:href=\"#DejaVuSans-30\" x=\"127.246094\"/>\n      </g>\n     </g>\n    </g>\n    <g id=\"xtick_5\">\n     <g id=\"line2d_5\">\n      <g>\n       <use xlink:href=\"#m316887edbe\" x=\"309.340799\" y=\"256.68\" style=\"stroke: #000000; stroke-width: 0.8\"/>\n      </g>\n     </g>\n     <g id=\"text_5\">\n      <!-- 400 -->\n      <g transform=\"translate(299.797049 271.278438)scale(0.1 -0.1)\">\n       <defs>\n        <path id=\"DejaVuSans-34\" d=\"M 2419 4116 \nL 825 1625 \nL 2419 1625 \nL 2419 4116 \nz\nM 2253 4666 \nL 3047 4666 \nL 3047 1625 \nL 3713 1625 \nL 3713 1100 \nL 3047 1100 \nL 3047 0 \nL 2419 0 \nL 2419 1100 \nL 313 1100 \nL 313 1709 \nL 2253 4666 \nz\n\" transform=\"scale(0.015625)\"/>\n       </defs>\n       <use xlink:href=\"#DejaVuSans-34\"/>\n       <use xlink:href=\"#DejaVuSans-30\" x=\"63.623047\"/>\n       <use xlink:href=\"#DejaVuSans-30\" x=\"127.246094\"/>\n      </g>\n     </g>\n    </g>\n    <g id=\"xtick_6\">\n     <g id=\"line2d_6\">\n      <g>\n       <use xlink:href=\"#m316887edbe\" x=\"370.335515\" y=\"256.68\" style=\"stroke: #000000; stroke-width: 0.8\"/>\n      </g>\n     </g>\n     <g id=\"text_6\">\n      <!-- 500 -->\n      <g transform=\"translate(360.791765 271.278438)scale(0.1 -0.1)\">\n       <defs>\n        <path id=\"DejaVuSans-35\" d=\"M 691 4666 \nL 3169 4666 \nL 3169 4134 \nL 1269 4134 \nL 1269 2991 \nQ 1406 3038 1543 3061 \nQ 1681 3084 1819 3084 \nQ 2600 3084 3056 2656 \nQ 3513 2228 3513 1497 \nQ 3513 744 3044 326 \nQ 2575 -91 1722 -91 \nQ 1428 -91 1123 -41 \nQ 819 9 494 109 \nL 494 744 \nQ 775 591 1075 516 \nQ 1375 441 1709 441 \nQ 2250 441 2565 725 \nQ 2881 1009 2881 1497 \nQ 2881 1984 2565 2268 \nQ 2250 2553 1709 2553 \nQ 1456 2553 1204 2497 \nQ 953 2441 691 2322 \nL 691 4666 \nz\n\" transform=\"scale(0.015625)\"/>\n       </defs>\n       <use xlink:href=\"#DejaVuSans-35\"/>\n       <use xlink:href=\"#DejaVuSans-30\" x=\"63.623047\"/>\n       <use xlink:href=\"#DejaVuSans-30\" x=\"127.246094\"/>\n      </g>\n     </g>\n    </g>\n    <g id=\"text_7\">\n     <!-- Groups of experiments -->\n     <g transform=\"translate(160.397656 284.956563)scale(0.1 -0.1)\">\n      <defs>\n       <path id=\"DejaVuSans-47\" d=\"M 3809 666 \nL 3809 1919 \nL 2778 1919 \nL 2778 2438 \nL 4434 2438 \nL 4434 434 \nQ 4069 175 3628 42 \nQ 3188 -91 2688 -91 \nQ 1594 -91 976 548 \nQ 359 1188 359 2328 \nQ 359 3472 976 4111 \nQ 1594 4750 2688 4750 \nQ 3144 4750 3555 4637 \nQ 3966 4525 4313 4306 \nL 4313 3634 \nQ 3963 3931 3569 4081 \nQ 3175 4231 2741 4231 \nQ 1884 4231 1454 3753 \nQ 1025 3275 1025 2328 \nQ 1025 1384 1454 906 \nQ 1884 428 2741 428 \nQ 3075 428 3337 486 \nQ 3600 544 3809 666 \nz\n\" transform=\"scale(0.015625)\"/>\n       <path id=\"DejaVuSans-72\" d=\"M 2631 2963 \nQ 2534 3019 2420 3045 \nQ 2306 3072 2169 3072 \nQ 1681 3072 1420 2755 \nQ 1159 2438 1159 1844 \nL 1159 0 \nL 581 0 \nL 581 3500 \nL 1159 3500 \nL 1159 2956 \nQ 1341 3275 1631 3429 \nQ 1922 3584 2338 3584 \nQ 2397 3584 2469 3576 \nQ 2541 3569 2628 3553 \nL 2631 2963 \nz\n\" transform=\"scale(0.015625)\"/>\n       <path id=\"DejaVuSans-6f\" d=\"M 1959 3097 \nQ 1497 3097 1228 2736 \nQ 959 2375 959 1747 \nQ 959 1119 1226 758 \nQ 1494 397 1959 397 \nQ 2419 397 2687 759 \nQ 2956 1122 2956 1747 \nQ 2956 2369 2687 2733 \nQ 2419 3097 1959 3097 \nz\nM 1959 3584 \nQ 2709 3584 3137 3096 \nQ 3566 2609 3566 1747 \nQ 3566 888 3137 398 \nQ 2709 -91 1959 -91 \nQ 1206 -91 779 398 \nQ 353 888 353 1747 \nQ 353 2609 779 3096 \nQ 1206 3584 1959 3584 \nz\n\" transform=\"scale(0.015625)\"/>\n       <path id=\"DejaVuSans-75\" d=\"M 544 1381 \nL 544 3500 \nL 1119 3500 \nL 1119 1403 \nQ 1119 906 1312 657 \nQ 1506 409 1894 409 \nQ 2359 409 2629 706 \nQ 2900 1003 2900 1516 \nL 2900 3500 \nL 3475 3500 \nL 3475 0 \nL 2900 0 \nL 2900 538 \nQ 2691 219 2414 64 \nQ 2138 -91 1772 -91 \nQ 1169 -91 856 284 \nQ 544 659 544 1381 \nz\nM 1991 3584 \nL 1991 3584 \nz\n\" transform=\"scale(0.015625)\"/>\n       <path id=\"DejaVuSans-70\" d=\"M 1159 525 \nL 1159 -1331 \nL 581 -1331 \nL 581 3500 \nL 1159 3500 \nL 1159 2969 \nQ 1341 3281 1617 3432 \nQ 1894 3584 2278 3584 \nQ 2916 3584 3314 3078 \nQ 3713 2572 3713 1747 \nQ 3713 922 3314 415 \nQ 2916 -91 2278 -91 \nQ 1894 -91 1617 61 \nQ 1341 213 1159 525 \nz\nM 3116 1747 \nQ 3116 2381 2855 2742 \nQ 2594 3103 2138 3103 \nQ 1681 3103 1420 2742 \nQ 1159 2381 1159 1747 \nQ 1159 1113 1420 752 \nQ 1681 391 2138 391 \nQ 2594 391 2855 752 \nQ 3116 1113 3116 1747 \nz\n\" transform=\"scale(0.015625)\"/>\n       <path id=\"DejaVuSans-73\" d=\"M 2834 3397 \nL 2834 2853 \nQ 2591 2978 2328 3040 \nQ 2066 3103 1784 3103 \nQ 1356 3103 1142 2972 \nQ 928 2841 928 2578 \nQ 928 2378 1081 2264 \nQ 1234 2150 1697 2047 \nL 1894 2003 \nQ 2506 1872 2764 1633 \nQ 3022 1394 3022 966 \nQ 3022 478 2636 193 \nQ 2250 -91 1575 -91 \nQ 1294 -91 989 -36 \nQ 684 19 347 128 \nL 347 722 \nQ 666 556 975 473 \nQ 1284 391 1588 391 \nQ 1994 391 2212 530 \nQ 2431 669 2431 922 \nQ 2431 1156 2273 1281 \nQ 2116 1406 1581 1522 \nL 1381 1569 \nQ 847 1681 609 1914 \nQ 372 2147 372 2553 \nQ 372 3047 722 3315 \nQ 1072 3584 1716 3584 \nQ 2034 3584 2315 3537 \nQ 2597 3491 2834 3397 \nz\n\" transform=\"scale(0.015625)\"/>\n       <path id=\"DejaVuSans-20\" transform=\"scale(0.015625)\"/>\n       <path id=\"DejaVuSans-66\" d=\"M 2375 4863 \nL 2375 4384 \nL 1825 4384 \nQ 1516 4384 1395 4259 \nQ 1275 4134 1275 3809 \nL 1275 3500 \nL 2222 3500 \nL 2222 3053 \nL 1275 3053 \nL 1275 0 \nL 697 0 \nL 697 3053 \nL 147 3053 \nL 147 3500 \nL 697 3500 \nL 697 3744 \nQ 697 4328 969 4595 \nQ 1241 4863 1831 4863 \nL 2375 4863 \nz\n\" transform=\"scale(0.015625)\"/>\n       <path id=\"DejaVuSans-65\" d=\"M 3597 1894 \nL 3597 1613 \nL 953 1613 \nQ 991 1019 1311 708 \nQ 1631 397 2203 397 \nQ 2534 397 2845 478 \nQ 3156 559 3463 722 \nL 3463 178 \nQ 3153 47 2828 -22 \nQ 2503 -91 2169 -91 \nQ 1331 -91 842 396 \nQ 353 884 353 1716 \nQ 353 2575 817 3079 \nQ 1281 3584 2069 3584 \nQ 2775 3584 3186 3129 \nQ 3597 2675 3597 1894 \nz\nM 3022 2063 \nQ 3016 2534 2758 2815 \nQ 2500 3097 2075 3097 \nQ 1594 3097 1305 2825 \nQ 1016 2553 972 2059 \nL 3022 2063 \nz\n\" transform=\"scale(0.015625)\"/>\n       <path id=\"DejaVuSans-78\" d=\"M 3513 3500 \nL 2247 1797 \nL 3578 0 \nL 2900 0 \nL 1881 1375 \nL 863 0 \nL 184 0 \nL 1544 1831 \nL 300 3500 \nL 978 3500 \nL 1906 2253 \nL 2834 3500 \nL 3513 3500 \nz\n\" transform=\"scale(0.015625)\"/>\n       <path id=\"DejaVuSans-69\" d=\"M 603 3500 \nL 1178 3500 \nL 1178 0 \nL 603 0 \nL 603 3500 \nz\nM 603 4863 \nL 1178 4863 \nL 1178 4134 \nL 603 4134 \nL 603 4863 \nz\n\" transform=\"scale(0.015625)\"/>\n       <path id=\"DejaVuSans-6d\" d=\"M 3328 2828 \nQ 3544 3216 3844 3400 \nQ 4144 3584 4550 3584 \nQ 5097 3584 5394 3201 \nQ 5691 2819 5691 2113 \nL 5691 0 \nL 5113 0 \nL 5113 2094 \nQ 5113 2597 4934 2840 \nQ 4756 3084 4391 3084 \nQ 3944 3084 3684 2787 \nQ 3425 2491 3425 1978 \nL 3425 0 \nL 2847 0 \nL 2847 2094 \nQ 2847 2600 2669 2842 \nQ 2491 3084 2119 3084 \nQ 1678 3084 1418 2786 \nQ 1159 2488 1159 1978 \nL 1159 0 \nL 581 0 \nL 581 3500 \nL 1159 3500 \nL 1159 2956 \nQ 1356 3278 1631 3431 \nQ 1906 3584 2284 3584 \nQ 2666 3584 2933 3390 \nQ 3200 3197 3328 2828 \nz\n\" transform=\"scale(0.015625)\"/>\n       <path id=\"DejaVuSans-6e\" d=\"M 3513 2113 \nL 3513 0 \nL 2938 0 \nL 2938 2094 \nQ 2938 2591 2744 2837 \nQ 2550 3084 2163 3084 \nQ 1697 3084 1428 2787 \nQ 1159 2491 1159 1978 \nL 1159 0 \nL 581 0 \nL 581 3500 \nL 1159 3500 \nL 1159 2956 \nQ 1366 3272 1645 3428 \nQ 1925 3584 2291 3584 \nQ 2894 3584 3203 3211 \nQ 3513 2838 3513 2113 \nz\n\" transform=\"scale(0.015625)\"/>\n       <path id=\"DejaVuSans-74\" d=\"M 1172 4494 \nL 1172 3500 \nL 2356 3500 \nL 2356 3053 \nL 1172 3053 \nL 1172 1153 \nQ 1172 725 1289 603 \nQ 1406 481 1766 481 \nL 2356 481 \nL 2356 0 \nL 1766 0 \nQ 1100 0 847 248 \nQ 594 497 594 1153 \nL 594 3053 \nL 172 3053 \nL 172 3500 \nL 594 3500 \nL 594 4494 \nL 1172 4494 \nz\n\" transform=\"scale(0.015625)\"/>\n      </defs>\n      <use xlink:href=\"#DejaVuSans-47\"/>\n      <use xlink:href=\"#DejaVuSans-72\" x=\"77.490234\"/>\n      <use xlink:href=\"#DejaVuSans-6f\" x=\"116.353516\"/>\n      <use xlink:href=\"#DejaVuSans-75\" x=\"177.535156\"/>\n      <use xlink:href=\"#DejaVuSans-70\" x=\"240.914062\"/>\n      <use xlink:href=\"#DejaVuSans-73\" x=\"304.390625\"/>\n      <use xlink:href=\"#DejaVuSans-20\" x=\"356.490234\"/>\n      <use xlink:href=\"#DejaVuSans-6f\" x=\"388.277344\"/>\n      <use xlink:href=\"#DejaVuSans-66\" x=\"449.458984\"/>\n      <use xlink:href=\"#DejaVuSans-20\" x=\"484.664062\"/>\n      <use xlink:href=\"#DejaVuSans-65\" x=\"516.451172\"/>\n      <use xlink:href=\"#DejaVuSans-78\" x=\"576.224609\"/>\n      <use xlink:href=\"#DejaVuSans-70\" x=\"635.404297\"/>\n      <use xlink:href=\"#DejaVuSans-65\" x=\"698.880859\"/>\n      <use xlink:href=\"#DejaVuSans-72\" x=\"760.404297\"/>\n      <use xlink:href=\"#DejaVuSans-69\" x=\"801.517578\"/>\n      <use xlink:href=\"#DejaVuSans-6d\" x=\"829.300781\"/>\n      <use xlink:href=\"#DejaVuSans-65\" x=\"926.712891\"/>\n      <use xlink:href=\"#DejaVuSans-6e\" x=\"988.236328\"/>\n      <use xlink:href=\"#DejaVuSans-74\" x=\"1051.615234\"/>\n      <use xlink:href=\"#DejaVuSans-73\" x=\"1090.824219\"/>\n     </g>\n    </g>\n   </g>\n   <g id=\"matplotlib.axis_2\">\n    <g id=\"ytick_1\">\n     <g id=\"line2d_7\">\n      <defs>\n       <path id=\"mf3742261ef\" d=\"M 0 0 \nL -3.5 0 \n\" style=\"stroke: #000000; stroke-width: 0.8\"/>\n      </defs>\n      <g>\n       <use xlink:href=\"#mf3742261ef\" x=\"50.14375\" y=\"245.34\" style=\"stroke: #000000; stroke-width: 0.8\"/>\n      </g>\n     </g>\n     <g id=\"text_8\">\n      <!-- 0.00 -->\n      <g transform=\"translate(20.878125 249.139219)scale(0.1 -0.1)\">\n       <defs>\n        <path id=\"DejaVuSans-2e\" d=\"M 684 794 \nL 1344 794 \nL 1344 0 \nL 684 0 \nL 684 794 \nz\n\" transform=\"scale(0.015625)\"/>\n       </defs>\n       <use xlink:href=\"#DejaVuSans-30\"/>\n       <use xlink:href=\"#DejaVuSans-2e\" x=\"63.623047\"/>\n       <use xlink:href=\"#DejaVuSans-30\" x=\"95.410156\"/>\n       <use xlink:href=\"#DejaVuSans-30\" x=\"159.033203\"/>\n      </g>\n     </g>\n    </g>\n    <g id=\"ytick_2\">\n     <g id=\"line2d_8\">\n      <g>\n       <use xlink:href=\"#mf3742261ef\" x=\"50.14375\" y=\"216.99\" style=\"stroke: #000000; stroke-width: 0.8\"/>\n      </g>\n     </g>\n     <g id=\"text_9\">\n      <!-- 0.05 -->\n      <g transform=\"translate(20.878125 220.789219)scale(0.1 -0.1)\">\n       <use xlink:href=\"#DejaVuSans-30\"/>\n       <use xlink:href=\"#DejaVuSans-2e\" x=\"63.623047\"/>\n       <use xlink:href=\"#DejaVuSans-30\" x=\"95.410156\"/>\n       <use xlink:href=\"#DejaVuSans-35\" x=\"159.033203\"/>\n      </g>\n     </g>\n    </g>\n    <g id=\"ytick_3\">\n     <g id=\"line2d_9\">\n      <g>\n       <use xlink:href=\"#mf3742261ef\" x=\"50.14375\" y=\"188.640001\" style=\"stroke: #000000; stroke-width: 0.8\"/>\n      </g>\n     </g>\n     <g id=\"text_10\">\n      <!-- 0.10 -->\n      <g transform=\"translate(20.878125 192.43922)scale(0.1 -0.1)\">\n       <use xlink:href=\"#DejaVuSans-30\"/>\n       <use xlink:href=\"#DejaVuSans-2e\" x=\"63.623047\"/>\n       <use xlink:href=\"#DejaVuSans-31\" x=\"95.410156\"/>\n       <use xlink:href=\"#DejaVuSans-30\" x=\"159.033203\"/>\n      </g>\n     </g>\n    </g>\n    <g id=\"ytick_4\">\n     <g id=\"line2d_10\">\n      <g>\n       <use xlink:href=\"#mf3742261ef\" x=\"50.14375\" y=\"160.290001\" style=\"stroke: #000000; stroke-width: 0.8\"/>\n      </g>\n     </g>\n     <g id=\"text_11\">\n      <!-- 0.15 -->\n      <g transform=\"translate(20.878125 164.08922)scale(0.1 -0.1)\">\n       <use xlink:href=\"#DejaVuSans-30\"/>\n       <use xlink:href=\"#DejaVuSans-2e\" x=\"63.623047\"/>\n       <use xlink:href=\"#DejaVuSans-31\" x=\"95.410156\"/>\n       <use xlink:href=\"#DejaVuSans-35\" x=\"159.033203\"/>\n      </g>\n     </g>\n    </g>\n    <g id=\"ytick_5\">\n     <g id=\"line2d_11\">\n      <g>\n       <use xlink:href=\"#mf3742261ef\" x=\"50.14375\" y=\"131.940002\" style=\"stroke: #000000; stroke-width: 0.8\"/>\n      </g>\n     </g>\n     <g id=\"text_12\">\n      <!-- 0.20 -->\n      <g transform=\"translate(20.878125 135.73922)scale(0.1 -0.1)\">\n       <use xlink:href=\"#DejaVuSans-30\"/>\n       <use xlink:href=\"#DejaVuSans-2e\" x=\"63.623047\"/>\n       <use xlink:href=\"#DejaVuSans-32\" x=\"95.410156\"/>\n       <use xlink:href=\"#DejaVuSans-30\" x=\"159.033203\"/>\n      </g>\n     </g>\n    </g>\n    <g id=\"ytick_6\">\n     <g id=\"line2d_12\">\n      <g>\n       <use xlink:href=\"#mf3742261ef\" x=\"50.14375\" y=\"103.590002\" style=\"stroke: #000000; stroke-width: 0.8\"/>\n      </g>\n     </g>\n     <g id=\"text_13\">\n      <!-- 0.25 -->\n      <g transform=\"translate(20.878125 107.389221)scale(0.1 -0.1)\">\n       <use xlink:href=\"#DejaVuSans-30\"/>\n       <use xlink:href=\"#DejaVuSans-2e\" x=\"63.623047\"/>\n       <use xlink:href=\"#DejaVuSans-32\" x=\"95.410156\"/>\n       <use xlink:href=\"#DejaVuSans-35\" x=\"159.033203\"/>\n      </g>\n     </g>\n    </g>\n    <g id=\"ytick_7\">\n     <g id=\"line2d_13\">\n      <g>\n       <use xlink:href=\"#mf3742261ef\" x=\"50.14375\" y=\"75.240003\" style=\"stroke: #000000; stroke-width: 0.8\"/>\n      </g>\n     </g>\n     <g id=\"text_14\">\n      <!-- 0.30 -->\n      <g transform=\"translate(20.878125 79.039221)scale(0.1 -0.1)\">\n       <use xlink:href=\"#DejaVuSans-30\"/>\n       <use xlink:href=\"#DejaVuSans-2e\" x=\"63.623047\"/>\n       <use xlink:href=\"#DejaVuSans-33\" x=\"95.410156\"/>\n       <use xlink:href=\"#DejaVuSans-30\" x=\"159.033203\"/>\n      </g>\n     </g>\n    </g>\n    <g id=\"ytick_8\">\n     <g id=\"line2d_14\">\n      <g>\n       <use xlink:href=\"#mf3742261ef\" x=\"50.14375\" y=\"46.890003\" style=\"stroke: #000000; stroke-width: 0.8\"/>\n      </g>\n     </g>\n     <g id=\"text_15\">\n      <!-- 0.35 -->\n      <g transform=\"translate(20.878125 50.689222)scale(0.1 -0.1)\">\n       <use xlink:href=\"#DejaVuSans-30\"/>\n       <use xlink:href=\"#DejaVuSans-2e\" x=\"63.623047\"/>\n       <use xlink:href=\"#DejaVuSans-33\" x=\"95.410156\"/>\n       <use xlink:href=\"#DejaVuSans-35\" x=\"159.033203\"/>\n      </g>\n     </g>\n    </g>\n    <g id=\"ytick_9\">\n     <g id=\"line2d_15\">\n      <g>\n       <use xlink:href=\"#mf3742261ef\" x=\"50.14375\" y=\"18.540003\" style=\"stroke: #000000; stroke-width: 0.8\"/>\n      </g>\n     </g>\n     <g id=\"text_16\">\n      <!-- 0.40 -->\n      <g transform=\"translate(20.878125 22.339222)scale(0.1 -0.1)\">\n       <use xlink:href=\"#DejaVuSans-30\"/>\n       <use xlink:href=\"#DejaVuSans-2e\" x=\"63.623047\"/>\n       <use xlink:href=\"#DejaVuSans-34\" x=\"95.410156\"/>\n       <use xlink:href=\"#DejaVuSans-30\" x=\"159.033203\"/>\n      </g>\n     </g>\n    </g>\n    <g id=\"text_17\">\n     <!-- Estimated probability -->\n     <g transform=\"translate(14.798438 185.463438)rotate(-90)scale(0.1 -0.1)\">\n      <defs>\n       <path id=\"DejaVuSans-45\" d=\"M 628 4666 \nL 3578 4666 \nL 3578 4134 \nL 1259 4134 \nL 1259 2753 \nL 3481 2753 \nL 3481 2222 \nL 1259 2222 \nL 1259 531 \nL 3634 531 \nL 3634 0 \nL 628 0 \nL 628 4666 \nz\n\" transform=\"scale(0.015625)\"/>\n       <path id=\"DejaVuSans-61\" d=\"M 2194 1759 \nQ 1497 1759 1228 1600 \nQ 959 1441 959 1056 \nQ 959 750 1161 570 \nQ 1363 391 1709 391 \nQ 2188 391 2477 730 \nQ 2766 1069 2766 1631 \nL 2766 1759 \nL 2194 1759 \nz\nM 3341 1997 \nL 3341 0 \nL 2766 0 \nL 2766 531 \nQ 2569 213 2275 61 \nQ 1981 -91 1556 -91 \nQ 1019 -91 701 211 \nQ 384 513 384 1019 \nQ 384 1609 779 1909 \nQ 1175 2209 1959 2209 \nL 2766 2209 \nL 2766 2266 \nQ 2766 2663 2505 2880 \nQ 2244 3097 1772 3097 \nQ 1472 3097 1187 3025 \nQ 903 2953 641 2809 \nL 641 3341 \nQ 956 3463 1253 3523 \nQ 1550 3584 1831 3584 \nQ 2591 3584 2966 3190 \nQ 3341 2797 3341 1997 \nz\n\" transform=\"scale(0.015625)\"/>\n       <path id=\"DejaVuSans-64\" d=\"M 2906 2969 \nL 2906 4863 \nL 3481 4863 \nL 3481 0 \nL 2906 0 \nL 2906 525 \nQ 2725 213 2448 61 \nQ 2172 -91 1784 -91 \nQ 1150 -91 751 415 \nQ 353 922 353 1747 \nQ 353 2572 751 3078 \nQ 1150 3584 1784 3584 \nQ 2172 3584 2448 3432 \nQ 2725 3281 2906 2969 \nz\nM 947 1747 \nQ 947 1113 1208 752 \nQ 1469 391 1925 391 \nQ 2381 391 2643 752 \nQ 2906 1113 2906 1747 \nQ 2906 2381 2643 2742 \nQ 2381 3103 1925 3103 \nQ 1469 3103 1208 2742 \nQ 947 2381 947 1747 \nz\n\" transform=\"scale(0.015625)\"/>\n       <path id=\"DejaVuSans-62\" d=\"M 3116 1747 \nQ 3116 2381 2855 2742 \nQ 2594 3103 2138 3103 \nQ 1681 3103 1420 2742 \nQ 1159 2381 1159 1747 \nQ 1159 1113 1420 752 \nQ 1681 391 2138 391 \nQ 2594 391 2855 752 \nQ 3116 1113 3116 1747 \nz\nM 1159 2969 \nQ 1341 3281 1617 3432 \nQ 1894 3584 2278 3584 \nQ 2916 3584 3314 3078 \nQ 3713 2572 3713 1747 \nQ 3713 922 3314 415 \nQ 2916 -91 2278 -91 \nQ 1894 -91 1617 61 \nQ 1341 213 1159 525 \nL 1159 0 \nL 581 0 \nL 581 4863 \nL 1159 4863 \nL 1159 2969 \nz\n\" transform=\"scale(0.015625)\"/>\n       <path id=\"DejaVuSans-6c\" d=\"M 603 4863 \nL 1178 4863 \nL 1178 0 \nL 603 0 \nL 603 4863 \nz\n\" transform=\"scale(0.015625)\"/>\n       <path id=\"DejaVuSans-79\" d=\"M 2059 -325 \nQ 1816 -950 1584 -1140 \nQ 1353 -1331 966 -1331 \nL 506 -1331 \nL 506 -850 \nL 844 -850 \nQ 1081 -850 1212 -737 \nQ 1344 -625 1503 -206 \nL 1606 56 \nL 191 3500 \nL 800 3500 \nL 1894 763 \nL 2988 3500 \nL 3597 3500 \nL 2059 -325 \nz\n\" transform=\"scale(0.015625)\"/>\n      </defs>\n      <use xlink:href=\"#DejaVuSans-45\"/>\n      <use xlink:href=\"#DejaVuSans-73\" x=\"63.183594\"/>\n      <use xlink:href=\"#DejaVuSans-74\" x=\"115.283203\"/>\n      <use xlink:href=\"#DejaVuSans-69\" x=\"154.492188\"/>\n      <use xlink:href=\"#DejaVuSans-6d\" x=\"182.275391\"/>\n      <use xlink:href=\"#DejaVuSans-61\" x=\"279.6875\"/>\n      <use xlink:href=\"#DejaVuSans-74\" x=\"340.966797\"/>\n      <use xlink:href=\"#DejaVuSans-65\" x=\"380.175781\"/>\n      <use xlink:href=\"#DejaVuSans-64\" x=\"441.699219\"/>\n      <use xlink:href=\"#DejaVuSans-20\" x=\"505.175781\"/>\n      <use xlink:href=\"#DejaVuSans-70\" x=\"536.962891\"/>\n      <use xlink:href=\"#DejaVuSans-72\" x=\"600.439453\"/>\n      <use xlink:href=\"#DejaVuSans-6f\" x=\"639.302734\"/>\n      <use xlink:href=\"#DejaVuSans-62\" x=\"700.484375\"/>\n      <use xlink:href=\"#DejaVuSans-61\" x=\"763.960938\"/>\n      <use xlink:href=\"#DejaVuSans-62\" x=\"825.240234\"/>\n      <use xlink:href=\"#DejaVuSans-69\" x=\"888.716797\"/>\n      <use xlink:href=\"#DejaVuSans-6c\" x=\"916.5\"/>\n      <use xlink:href=\"#DejaVuSans-69\" x=\"944.283203\"/>\n      <use xlink:href=\"#DejaVuSans-74\" x=\"972.066406\"/>\n      <use xlink:href=\"#DejaVuSans-79\" x=\"1011.275391\"/>\n     </g>\n    </g>\n   </g>\n   <g id=\"line2d_16\">\n    <path d=\"M 65.361932 131.94 \nL 65.971879 188.64 \nL 67.80172 188.64 \nL 68.411668 160.289998 \nL 69.021615 148.139999 \nL 69.631562 153.202505 \nL 70.241509 150.839999 \nL 71.461403 147.403638 \nL 72.071351 136.665004 \nL 72.681298 140.663076 \nL 73.291245 140.039999 \nL 73.901192 128.160004 \nL 75.121086 135.275294 \nL 75.731034 125.64 \nL 76.950928 126.270005 \nL 77.560875 129.24 \nL 78.170822 126.78546 \nL 78.780769 129.474788 \nL 79.390717 129.577502 \nL 80.000664 131.94 \nL 80.610611 136.301538 \nL 81.220558 136.140003 \nL 82.440452 139.760694 \nL 83.0504 141.389999 \nL 83.660347 144.74323 \nL 84.270294 146.115003 \nL 84.880241 145.685458 \nL 85.490188 148.616469 \nL 86.710083 150.839999 \nL 87.32003 144.199464 \nL 87.929977 143.87684 \nL 88.539924 145.024614 \nL 89.149871 147.532502 \nL 89.759819 148.535123 \nL 90.369766 145.439999 \nL 90.979713 143.807441 \nL 91.58966 143.537733 \nL 92.199607 142.020004 \nL 92.809554 141.800872 \nL 93.419502 142.797452 \nL 94.029449 142.571248 \nL 94.639396 143.511431 \nL 95.249343 143.279997 \nL 97.079185 145.847551 \nL 97.689132 146.640005 \nL 98.299079 145.341822 \nL 99.518973 144.871578 \nL 100.12892 145.626206 \nL 100.738868 147.316276 \nL 101.348815 148.005001 \nL 101.958762 147.741639 \nL 102.568709 148.401291 \nL 103.178656 146.339999 \nL 103.788603 145.229062 \nL 104.398551 145.024614 \nL 105.008498 143.967278 \nL 106.228392 145.281175 \nL 106.838339 145.08783 \nL 107.448286 145.710002 \nL 108.058234 147.113239 \nL 108.668181 146.902505 \nL 109.278128 147.474246 \nL 109.888075 147.264323 \nL 111.107969 148.353158 \nL 111.717917 148.139999 \nL 112.937811 149.165314 \nL 114.157705 148.740002 \nL 115.3776 149.701451 \nL 115.987547 148.815003 \nL 116.597494 147.282353 \nL 117.207441 146.444656 \nL 117.817388 146.92966 \nL 118.427335 148.047956 \nL 119.64723 148.95 \nL 121.477071 146.572261 \nL 122.087018 147.019785 \nL 122.696966 148.05474 \nL 123.306913 147.296252 \nL 124.526807 148.139999 \nL 125.746701 147.815998 \nL 126.966596 148.616469 \nL 127.576543 147.904079 \nL 128.18649 147.750578 \nL 129.406384 146.382455 \nL 130.016332 146.247474 \nL 130.626279 146.640005 \nL 131.236226 147.545505 \nL 131.846173 147.403638 \nL 132.45612 147.775139 \nL 133.066067 147.127501 \nL 133.676015 145.989561 \nL 134.285962 146.36369 \nL 134.895909 145.252179 \nL 136.115803 145.993845 \nL 136.72575 145.874749 \nL 137.335698 144.804705 \nL 137.945645 143.279997 \nL 138.555592 144.123474 \nL 139.165539 144.488359 \nL 139.775486 145.308297 \nL 140.385433 145.657746 \nL 140.995381 145.548002 \nL 141.605328 145.889999 \nL 142.825222 147.443906 \nL 143.435169 147.32372 \nL 144.655064 147.954502 \nL 145.874958 149.418951 \nL 146.484905 149.288508 \nL 147.094852 149.580005 \nL 148.314747 149.322481 \nL 148.924694 149.607389 \nL 149.534641 149.072375 \nL 150.144588 148.95 \nL 150.754535 149.633623 \nL 151.364482 149.908315 \nL 151.97443 150.575664 \nL 152.584377 150.446252 \nL 153.194324 151.100691 \nL 154.414218 151.611431 \nL 155.024165 152.244731 \nL 155.634113 151.347384 \nL 156.24406 151.596003 \nL 156.854007 151.46583 \nL 157.463954 152.083423 \nL 158.073901 151.951763 \nL 158.683848 150.349089 \nL 159.903743 150.839999 \nL 160.51369 150.719618 \nL 161.123637 149.883036 \nL 161.733584 149.770191 \nL 162.953479 148.844346 \nL 163.563426 149.09 \nL 164.173373 148.984785 \nL 164.78332 148.535123 \nL 165.393267 149.121818 \nL 166.003214 149.359885 \nL 167.223109 149.152505 \nL 168.443003 149.617063 \nL 169.05295 149.51369 \nL 169.662897 149.741161 \nL 170.882792 149.536552 \nL 171.492739 148.463999 \nL 173.32258 148.185505 \nL 173.932528 147.461226 \nL 175.762369 147.205383 \nL 176.372316 147.431807 \nL 176.982263 147.963914 \nL 177.592211 147.877295 \nL 180.031999 148.740002 \nL 180.641946 149.248426 \nL 181.251894 149.157803 \nL 182.471788 149.566943 \nL 183.081735 149.183817 \nL 183.691682 149.386153 \nL 184.301629 148.718575 \nL 184.911577 149.209037 \nL 185.521524 149.408187 \nL 186.131471 149.320403 \nL 187.351365 148.583282 \nL 187.961312 148.500896 \nL 188.57126 148.977933 \nL 189.181207 149.172352 \nL 191.620995 148.840967 \nL 192.230943 148.488806 \nL 194.060784 149.056981 \nL 194.670731 148.976623 \nL 196.500573 150.314997 \nL 197.11052 149.707745 \nL 198.330414 150.581097 \nL 198.940361 150.496363 \nL 199.550309 150.155836 \nL 200.160256 150.329191 \nL 201.38015 151.177501 \nL 203.209992 151.672601 \nL 204.429886 151.500259 \nL 205.039833 151.90826 \nL 205.64978 151.821818 \nL 206.259727 151.980515 \nL 206.869675 151.407811 \nL 207.479622 151.809229 \nL 208.089569 151.724681 \nL 209.309463 152.036202 \nL 209.91941 152.428234 \nL 210.529358 152.579749 \nL 211.139305 152.966255 \nL 211.749252 152.408463 \nL 212.359199 152.323889 \nL 212.969146 152.473334 \nL 215.408935 153.977249 \nL 216.628829 154.255667 \nL 217.238776 153.9396 \nL 217.848724 154.077851 \nL 218.458671 153.989998 \nL 219.068618 154.126956 \nL 220.288512 153.952941 \nL 220.898459 154.309927 \nL 221.508407 154.443505 \nL 222.118354 154.795818 \nL 222.728301 154.707568 \nL 223.338248 154.401927 \nL 224.558142 154.663287 \nL 225.778037 154.49114 \nL 226.387984 154.620003 \nL 228.827773 154.282755 \nL 230.657614 155.287057 \nL 231.877508 155.116642 \nL 232.487456 154.826183 \nL 233.097403 153.92152 \nL 233.70735 154.04686 \nL 236.757086 153.654896 \nL 237.367033 153.377812 \nL 237.97698 153.50197 \nL 238.586927 153.22737 \nL 239.196874 153.35119 \nL 239.806822 153.276585 \nL 240.416769 153.005627 \nL 241.026716 152.932738 \nL 242.856557 153.299592 \nL 243.466505 152.452626 \nL 244.076452 152.768575 \nL 244.686399 152.890172 \nL 245.296346 152.819395 \nL 245.906293 152.940004 \nL 246.51624 152.869531 \nL 247.126188 152.609903 \nL 248.346082 152.849305 \nL 248.956029 152.780065 \nL 249.565976 152.898418 \nL 250.175923 152.829475 \nL 250.785871 153.132792 \nL 251.395818 153.063528 \nL 252.615712 153.294548 \nL 253.225659 153.041941 \nL 253.835606 152.60807 \nL 254.445554 152.723922 \nL 255.055501 152.475582 \nL 255.665448 152.591121 \nL 256.275395 152.886497 \nL 256.885342 152.820004 \nL 257.495289 152.933355 \nL 258.105237 152.688267 \nL 258.715184 152.979621 \nL 259.325131 152.913669 \nL 260.545025 153.136265 \nL 261.154972 152.718261 \nL 262.374867 152.239999 \nL 262.984814 152.351999 \nL 263.594761 152.115462 \nL 264.814655 151.992437 \nL 265.424603 151.414469 \nL 266.03455 151.183635 \nL 266.644497 151.468094 \nL 267.864391 151.350814 \nL 268.474338 151.122937 \nL 269.084286 150.557913 \nL 270.914127 150.39266 \nL 271.524074 150.505487 \nL 272.134021 150.284116 \nL 272.743969 150.562873 \nL 273.353916 150.674213 \nL 273.963863 150.619591 \nL 274.57381 150.894942 \nL 275.183757 150.675649 \nL 276.403652 150.567663 \nL 277.623546 151.110779 \nL 278.233493 151.218005 \nL 278.84344 151.001543 \nL 280.063335 151.214786 \nL 280.673282 150.679832 \nL 281.283229 150.946481 \nL 281.893176 151.052363 \nL 282.503123 150.998822 \nL 283.11307 151.103969 \nL 283.723018 150.734708 \nL 284.942912 151.258839 \nL 286.162806 151.464791 \nL 287.992648 151.304759 \nL 288.602595 151.560982 \nL 289.212542 151.661744 \nL 289.822489 151.454635 \nL 291.652331 151.754514 \nL 292.872225 151.648555 \nL 293.482172 151.8984 \nL 294.092119 151.99612 \nL 295.312014 151.890001 \nL 295.921961 152.136567 \nL 297.141855 152.03055 \nL 297.751802 151.829532 \nL 298.36175 151.777596 \nL 298.971697 151.873593 \nL 299.581644 152.116366 \nL 301.411485 151.960364 \nL 302.63138 151.566922 \nL 303.241327 151.661744 \nL 303.851274 151.611431 \nL 304.461221 151.417105 \nL 305.681116 150.744306 \nL 306.291063 150.839999 \nL 306.90101 151.07804 \nL 307.510957 151.029948 \nL 309.340799 151.311324 \nL 309.950746 151.545225 \nL 310.560693 151.355884 \nL 311.17064 151.588517 \nL 311.780587 151.540003 \nL 312.390534 151.77104 \nL 313.000482 151.722315 \nL 314.220376 151.902835 \nL 314.830323 151.854144 \nL 315.44027 151.943652 \nL 316.050217 151.757479 \nL 316.660165 151.846785 \nL 317.270112 151.661744 \nL 317.880059 151.614219 \nL 319.7099 151.066076 \nL 320.319848 150.749789 \nL 321.539742 150.929786 \nL 322.759636 151.376169 \nL 323.369583 151.464056 \nL 324.589478 151.904787 \nL 325.199425 151.990823 \nL 325.809372 151.811494 \nL 327.029266 151.71907 \nL 327.639214 151.804734 \nL 330.079002 151.622068 \nL 330.688949 151.186795 \nL 331.298897 151.012999 \nL 331.908844 151.098908 \nL 332.518791 151.055261 \nL 333.738685 151.482854 \nL 335.568527 151.733924 \nL 336.178474 151.944269 \nL 336.788421 152.026545 \nL 338.008315 151.936876 \nL 338.618263 151.766055 \nL 339.22821 151.974001 \nL 339.838157 152.055297 \nL 340.448104 152.010796 \nL 341.667998 151.672601 \nL 342.277946 151.629233 \nL 342.887893 151.710393 \nL 343.49784 151.667135 \nL 344.107787 151.500259 \nL 345.327681 151.415221 \nL 345.937629 151.618959 \nL 346.547576 151.699089 \nL 347.157523 151.656413 \nL 347.76747 151.73612 \nL 348.377417 151.693546 \nL 349.597312 151.851778 \nL 350.207259 151.809229 \nL 350.817206 152.008658 \nL 352.0371 152.164204 \nL 352.647048 152.121359 \nL 353.256995 152.198566 \nL 354.476889 152.590741 \nL 355.086836 152.428234 \nL 355.696783 152.623016 \nL 356.306731 152.579749 \nL 356.916678 152.418289 \nL 357.526625 152.375631 \nL 358.136572 152.451021 \nL 359.966414 151.972438 \nL 360.576361 151.931139 \nL 361.186308 152.006665 \nL 361.796255 151.849032 \nL 363.016149 151.999508 \nL 363.626097 151.842856 \nL 367.28578 152.402304 \nL 368.505674 151.978555 \nL 369.725568 151.671604 \nL 369.725568 151.671604 \n\" clip-path=\"url(#pe0f8ecf4f9)\" style=\"fill: none; stroke: #1f77b4; stroke-width: 1.5; stroke-linecap: square\"/>\n   </g>\n   <g id=\"line2d_17\">\n    <path d=\"M 65.361932 245.34 \nL 65.971879 216.99 \nL 66.581826 226.439999 \nL 67.191773 216.99 \nL 67.80172 211.320001 \nL 68.411668 216.99 \nL 69.021615 212.94 \nL 69.631562 202.814999 \nL 70.241509 207.539999 \nL 70.851456 211.320001 \nL 71.461403 204.103638 \nL 72.071351 202.814999 \nL 72.681298 193.001538 \nL 73.291245 196.739999 \nL 73.901192 196.200001 \nL 74.511139 192.183751 \nL 75.121086 191.975294 \nL 75.731034 188.64 \nL 76.340981 191.62421 \nL 76.950928 185.805003 \nL 77.560875 188.64 \nL 78.170822 188.64 \nL 78.780769 181.244348 \nL 79.390717 179.190001 \nL 80.000664 181.835999 \nL 80.610611 177.736155 \nL 81.830505 174.465001 \nL 82.440452 174.953794 \nL 83.0504 173.520002 \nL 83.660347 168.520644 \nL 84.270294 170.921254 \nL 84.880241 171.458186 \nL 85.490188 170.295879 \nL 87.32003 171.783243 \nL 87.929977 173.71895 \nL 89.149871 174.465001 \nL 89.759819 173.427807 \nL 90.369766 175.140001 \nL 91.58966 173.176366 \nL 92.199607 174.779999 \nL 94.029449 175.64625 \nL 94.639396 174.754285 \nL 95.249343 175.032002 \nL 96.469237 171.193843 \nL 97.079185 171.523023 \nL 97.689132 169.739997 \nL 98.909026 168.389997 \nL 99.518973 168.745268 \nL 100.12892 170.065865 \nL 100.738868 168.458645 \nL 101.348815 164.070003 \nL 101.958762 164.47279 \nL 103.178656 167.039997 \nL 103.788603 166.491567 \nL 104.398551 165.087697 \nL 106.228392 166.126766 \nL 106.838339 165.631303 \nL 108.058234 166.279439 \nL 108.668181 167.377499 \nL 109.278128 167.668769 \nL 109.888075 166.419734 \nL 110.498022 164.448001 \nL 111.107969 164.766315 \nL 111.717917 164.339998 \nL 112.327864 163.19769 \nL 112.937811 163.519747 \nL 113.547758 162.416254 \nL 115.3776 163.364101 \nL 115.987547 164.339998 \nL 117.817388 163.222758 \nL 118.427335 162.222959 \nL 119.64723 161.549999 \nL 120.257177 161.84769 \nL 120.867124 161.522608 \nL 121.477071 162.423875 \nL 122.696966 161.782109 \nL 123.306913 162.06188 \nL 124.526807 161.447142 \nL 125.136754 160.576367 \nL 125.746701 158.589003 \nL 126.356649 158.886533 \nL 127.576543 160.565248 \nL 128.18649 160.289998 \nL 128.796437 161.1 \nL 130.016332 161.614769 \nL 130.626279 161.340001 \nL 131.236226 159.509728 \nL 132.45612 157.991349 \nL 133.676015 158.533806 \nL 134.285962 158.30053 \nL 134.895909 158.564349 \nL 135.505856 157.357246 \nL 136.115803 157.139998 \nL 137.335698 157.66941 \nL 137.945645 158.4 \nL 138.555592 158.64992 \nL 139.165539 158.430982 \nL 139.775486 158.676585 \nL 140.385433 158.460967 \nL 140.995381 159.156004 \nL 141.605328 159.389998 \nL 142.825222 160.732968 \nL 143.435169 160.509772 \nL 144.655064 160.939241 \nL 145.265011 159.860453 \nL 145.874958 159.65053 \nL 147.094852 160.079999 \nL 147.704799 159.873092 \nL 148.314747 159.25533 \nL 148.924694 159.468261 \nL 149.534641 159.270217 \nL 150.144588 159.480005 \nL 150.754535 159.284682 \nL 151.364482 159.890709 \nL 151.97443 159.695242 \nL 152.584377 159.108749 \nL 153.194324 159.312411 \nL 153.804271 157.959868 \nL 154.414218 158.554286 \nL 155.634113 158.958121 \nL 156.854007 158.600265 \nL 157.463954 158.797895 \nL 158.073901 157.881175 \nL 159.293796 158.278064 \nL 159.903743 157.745772 \nL 160.51369 157.942548 \nL 161.123637 158.495701 \nL 161.733584 158.685287 \nL 162.343531 159.226874 \nL 162.953479 159.409566 \nL 163.563426 159.94 \nL 164.173373 159.768224 \nL 164.78332 159.944267 \nL 165.393267 160.461816 \nL 166.613162 160.120241 \nL 167.223109 160.289998 \nL 167.833056 160.122252 \nL 169.05295 159.129474 \nL 169.662897 159.301047 \nL 170.882792 158.986552 \nL 172.102686 159.323522 \nL 172.712633 158.848479 \nL 174.542475 160.289998 \nL 175.152422 159.820109 \nL 176.372316 160.754758 \nL 176.982263 160.289998 \nL 177.592211 160.136759 \nL 178.202158 159.375483 \nL 178.812105 159.83519 \nL 180.031999 159.540001 \nL 180.641946 159.693155 \nL 181.861841 159.404065 \nL 182.471788 158.674202 \nL 183.081735 158.244125 \nL 183.691682 158.690771 \nL 184.301629 158.84357 \nL 184.911577 159.282637 \nL 186.131471 159.577692 \nL 186.741418 160.006502 \nL 187.351365 159.866866 \nL 187.961312 160.009307 \nL 188.57126 159.871039 \nL 189.181207 159.456179 \nL 189.791154 159.598535 \nL 190.401101 159.464273 \nL 191.011048 159.605218 \nL 191.620995 159.199618 \nL 192.230943 159.611775 \nL 192.84089 159.210001 \nL 193.450837 159.618204 \nL 195.280678 158.435325 \nL 195.890626 158.83954 \nL 196.500573 158.452502 \nL 198.330414 158.866027 \nL 198.940361 158.743636 \nL 199.550309 158.878912 \nL 200.160256 158.757568 \nL 200.770203 158.891569 \nL 201.38015 159.2775 \nL 202.600044 158.533806 \nL 203.209992 158.416653 \nL 204.429886 157.195026 \nL 205.039833 157.085215 \nL 205.64978 157.221818 \nL 206.259727 157.112843 \nL 206.869675 157.248153 \nL 207.479622 156.89769 \nL 208.089569 157.274041 \nL 208.699516 157.406951 \nL 209.309463 157.060257 \nL 210.529358 157.324523 \nL 211.139305 157.69125 \nL 211.749252 157.819666 \nL 212.359199 158.181324 \nL 212.969146 158.073338 \nL 213.579093 158.19861 \nL 214.189041 157.628576 \nL 215.408935 158.338787 \nL 216.628829 157.671328 \nL 217.238776 157.795198 \nL 217.848724 157.466297 \nL 218.458671 157.589998 \nL 219.068618 157.488619 \nL 220.288512 156.843533 \nL 222.118354 157.213259 \nL 222.728301 157.115674 \nL 223.338248 157.236925 \nL 223.948195 156.922759 \nL 225.16809 156.732775 \nL 225.778037 157.06841 \nL 226.387984 157.187549 \nL 226.997931 157.092633 \nL 227.607878 156.786071 \nL 228.217825 156.270229 \nL 228.827773 156.390559 \nL 229.43772 156.300003 \nL 230.047667 156.419336 \nL 230.657614 156.746251 \nL 231.267561 156.655383 \nL 233.097403 157.003049 \nL 234.317297 156.414824 \nL 234.927244 156.530321 \nL 235.537191 156.442503 \nL 236.147139 156.557079 \nL 236.757086 156.469785 \nL 238.586927 156.808419 \nL 239.196874 156.721471 \nL 239.806822 156.43756 \nL 240.416769 156.746251 \nL 241.026716 156.856612 \nL 241.636663 157.161729 \nL 242.856557 156.988973 \nL 243.466505 157.290516 \nL 244.076452 157.01143 \nL 244.686399 157.310853 \nL 247.126188 157.729972 \nL 249.565976 157.389504 \nL 250.175923 157.492303 \nL 251.395818 158.066469 \nL 252.005765 158.166057 \nL 252.615712 157.896822 \nL 253.225659 157.812814 \nL 254.445554 158.01106 \nL 255.665448 157.844472 \nL 256.275395 158.123119 \nL 256.885342 157.860001 \nL 257.495289 157.957409 \nL 258.105237 157.875336 \nL 258.715184 158.150375 \nL 259.935078 157.986567 \nL 260.545025 158.258691 \nL 263.594761 157.855033 \nL 264.204708 157.428995 \nL 264.814655 157.351281 \nL 265.424603 157.446383 \nL 266.03455 157.712728 \nL 266.644497 157.634862 \nL 267.254444 157.728257 \nL 268.474338 157.573835 \nL 269.694233 157.758749 \nL 270.914127 157.605975 \nL 271.524074 157.69752 \nL 272.134021 157.621766 \nL 273.353916 157.139998 \nL 274.57381 157.652791 \nL 275.183757 157.742612 \nL 275.793704 157.995785 \nL 276.403652 157.92069 \nL 277.013599 157.520176 \nL 277.623546 157.284416 \nL 278.233493 157.212 \nL 278.84344 157.301542 \nL 280.063335 157.800343 \nL 280.673282 157.727294 \nL 281.283229 157.814369 \nL 281.893176 157.741691 \nL 282.503123 157.828233 \nL 283.11307 157.280783 \nL 283.723018 157.368137 \nL 284.332965 157.297504 \nL 286.772753 157.641925 \nL 287.382701 157.882197 \nL 287.992648 157.81131 \nL 288.602595 158.049807 \nL 289.212542 157.824786 \nL 289.822489 158.061948 \nL 290.432436 157.83811 \nL 291.042384 157.768305 \nL 292.262278 157.933837 \nL 292.872225 158.167544 \nL 295.921961 157.821533 \nL 298.36175 158.143396 \nL 298.971697 157.632192 \nL 299.581644 157.712728 \nL 300.191591 157.939743 \nL 300.801538 157.872557 \nL 301.411485 157.659592 \nL 302.021433 157.884985 \nL 303.241327 157.752277 \nL 304.461221 158.198019 \nL 305.071168 158.275285 \nL 305.681116 158.495701 \nL 306.90101 158.076269 \nL 307.510957 158.15307 \nL 308.120904 158.371577 \nL 308.730851 158.447255 \nL 309.340799 157.956962 \nL 309.950746 157.892243 \nL 310.560693 157.968537 \nL 312.390534 157.357246 \nL 313.000482 157.434106 \nL 313.610429 157.232649 \nL 314.220376 157.448072 \nL 314.830323 157.385854 \nL 316.050217 157.812814 \nL 316.660165 157.750173 \nL 317.270112 157.961744 \nL 317.880059 157.899036 \nL 318.490006 157.97293 \nL 319.099953 158.182447 \nL 319.7099 158.255311 \nL 320.319848 158.057183 \nL 322.149689 158.2746 \nL 322.759636 158.480425 \nL 323.369583 158.284105 \nL 323.979531 158.222115 \nL 325.199425 157.833446 \nL 325.809372 157.905423 \nL 327.029266 157.784654 \nL 327.639214 157.856242 \nL 328.859108 158.260322 \nL 330.079002 158.139316 \nL 330.688949 158.209264 \nL 331.298897 158.408651 \nL 331.908844 158.348225 \nL 332.518791 158.417219 \nL 333.128738 158.357045 \nL 333.738685 158.425718 \nL 334.348632 158.237509 \nL 334.95858 158.30614 \nL 335.568527 158.246761 \nL 336.178474 157.932806 \nL 336.788421 158.128788 \nL 338.008315 158.01188 \nL 338.618263 158.080088 \nL 339.22821 157.770003 \nL 341.058051 157.974443 \nL 342.887893 158.549208 \nL 343.49784 158.61506 \nL 344.107787 158.804409 \nL 344.717734 158.622351 \nL 345.327681 158.564349 \nL 345.937629 158.752583 \nL 347.157523 158.881683 \nL 347.76747 158.823622 \nL 348.377417 159.009677 \nL 348.987365 158.95159 \nL 349.597312 159.01516 \nL 350.207259 158.95731 \nL 350.817206 159.020601 \nL 352.647048 158.127715 \nL 353.256995 158.312097 \nL 353.866942 158.376081 \nL 354.476889 158.320419 \nL 355.086836 158.384116 \nL 355.696783 158.209814 \nL 356.306731 158.392091 \nL 356.916678 158.218499 \nL 357.526625 158.281875 \nL 358.136572 158.227109 \nL 358.746519 157.819666 \nL 359.356466 157.766091 \nL 359.966414 157.947026 \nL 360.576361 158.010308 \nL 361.186308 157.956666 \nL 363.626097 158.207144 \nL 364.236044 158.038165 \nL 364.845991 157.985122 \nL 365.455938 158.047306 \nL 366.065885 157.994458 \nL 366.675832 157.598185 \nL 367.28578 157.432138 \nL 367.895727 157.49493 \nL 368.505674 157.671328 \nL 369.115621 157.506134 \nL 369.725568 157.568403 \nL 369.725568 157.568403 \n\" clip-path=\"url(#pe0f8ecf4f9)\" style=\"fill: none; stroke: #ff7f0e; stroke-width: 1.5; stroke-linecap: square\"/>\n   </g>\n   <g id=\"line2d_18\">\n    <path d=\"M 65.361932 131.94 \nL 66.581826 75.239996 \nL 67.191773 61.06501 \nL 67.80172 52.560001 \nL 68.411668 46.890006 \nL 69.021615 50.939998 \nL 69.631562 75.239996 \nL 70.241509 87.839995 \nL 70.851456 80.910007 \nL 72.071351 108.315006 \nL 72.681298 105.770771 \nL 73.291245 91.439995 \nL 73.901192 101.700004 \nL 75.121086 105.257649 \nL 75.731034 106.740002 \nL 76.340981 111.050525 \nL 77.560875 107.640002 \nL 78.170822 106.167272 \nL 78.780769 112.218264 \nL 80.000664 113.796006 \nL 81.220558 119.340001 \nL 82.440452 124.119315 \nL 83.0504 126.270005 \nL 83.660347 124.62387 \nL 84.270294 126.62438 \nL 84.880241 126.78546 \nL 85.490188 128.604706 \nL 86.100135 128.700002 \nL 86.710083 125.64 \nL 87.929977 128.955794 \nL 88.539924 127.578462 \nL 89.149871 127.687504 \nL 89.759819 125.025364 \nL 90.369766 126.54 \nL 91.58966 126.78546 \nL 92.199607 123.120006 \nL 92.809554 122.079136 \nL 93.419502 122.288941 \nL 94.029449 123.67125 \nL 95.249343 121.734005 \nL 95.85929 124.157648 \nL 96.469237 125.397693 \nL 97.079185 125.521132 \nL 97.689132 127.740006 \nL 98.299079 127.816368 \nL 98.909026 125.865005 \nL 100.738868 129.056954 \nL 101.958762 132.869512 \nL 102.568709 131.025485 \nL 103.178656 131.04 \nL 103.788603 131.94 \nL 105.008498 131.94 \nL 105.618445 129.401198 \nL 106.228392 130.272353 \nL 106.838339 130.296526 \nL 107.448286 129.510004 \nL 108.058234 130.342817 \nL 108.668181 129.577502 \nL 109.888075 131.173789 \nL 110.498022 131.184004 \nL 111.717917 132.676369 \nL 112.327864 134.120769 \nL 113.547758 134.066248 \nL 114.157705 134.740002 \nL 114.767652 134.014388 \nL 115.3776 134.672528 \nL 115.987547 133.965004 \nL 116.597494 135.275294 \nL 117.207441 134.577207 \nL 117.817388 134.546901 \nL 118.427335 135.161596 \nL 119.037283 134.488316 \nL 120.257177 134.432308 \nL 120.867124 135.021521 \nL 121.477071 133.76903 \nL 124.526807 136.568576 \nL 125.136754 137.094549 \nL 125.746701 138.177004 \nL 126.356649 138.115251 \nL 126.966596 137.498823 \nL 127.576543 137.995343 \nL 128.18649 139.027502 \nL 128.796437 139.500001 \nL 130.016332 139.358692 \nL 130.626279 140.340005 \nL 131.236226 140.262934 \nL 133.066067 141.55875 \nL 134.285962 141.389999 \nL 134.895909 140.814786 \nL 135.505856 140.73828 \nL 136.115803 141.632307 \nL 136.72575 141.069665 \nL 137.945645 141.862499 \nL 138.555592 142.717685 \nL 139.775486 143.464396 \nL 140.385433 143.371449 \nL 140.995381 142.826398 \nL 141.605328 142.739999 \nL 143.435169 143.807441 \nL 144.045116 143.716158 \nL 144.655064 143.193438 \nL 145.265011 143.537733 \nL 145.874958 143.024214 \nL 146.484905 142.095225 \nL 147.094852 141.599998 \nL 147.704799 141.945882 \nL 148.314747 142.700585 \nL 149.534641 142.545758 \nL 150.144588 142.875005 \nL 150.754535 142.395324 \nL 151.364482 142.720989 \nL 152.584377 141.783755 \nL 153.804271 141.648909 \nL 154.414218 140.811432 \nL 155.024165 140.368377 \nL 155.634113 140.692352 \nL 156.24406 140.634003 \nL 156.854007 140.951921 \nL 157.463954 140.146583 \nL 158.073901 140.834117 \nL 159.293796 141.450967 \nL 159.903743 141.389999 \nL 160.51369 141.69096 \nL 161.123637 141.62924 \nL 161.733584 140.855096 \nL 162.343531 140.445 \nL 163.563426 140.340005 \nL 164.173373 139.592762 \nL 164.78332 139.546099 \nL 165.393267 139.843637 \nL 166.003214 139.454461 \nL 166.613162 139.748983 \nL 167.223109 139.027502 \nL 167.833056 138.985561 \nL 168.443003 139.27765 \nL 169.05295 138.903158 \nL 169.662897 138.862679 \nL 170.272845 138.494913 \nL 171.492739 139.715999 \nL 172.102686 139.671819 \nL 172.712633 140.268814 \nL 174.542475 140.129998 \nL 175.152422 139.771492 \nL 175.762369 140.039999 \nL 176.372316 139.066232 \nL 176.982263 139.027502 \nL 177.592211 139.29568 \nL 178.202158 139.25613 \nL 178.812105 138.30738 \nL 179.422052 138.273508 \nL 180.031999 138.840002 \nL 180.641946 138.803689 \nL 181.251894 139.064609 \nL 183.081735 138.954435 \nL 184.301629 138.304288 \nL 184.911577 138.559801 \nL 185.521524 137.667278 \nL 186.131471 137.923417 \nL 186.741418 137.893499 \nL 189.181207 138.888533 \nL 189.791154 139.407806 \nL 190.401101 139.371552 \nL 191.620995 139.845293 \nL 192.230943 139.536171 \nL 192.84089 139.770004 \nL 193.450837 140.270335 \nL 195.280678 140.153553 \nL 195.890626 139.85163 \nL 196.500573 140.340005 \nL 197.720467 140.783119 \nL 199.550309 140.663076 \nL 200.160256 140.368377 \nL 200.770203 140.330584 \nL 201.38015 139.786877 \nL 201.990097 139.752 \nL 202.600044 139.466552 \nL 203.209992 139.683175 \nL 203.819939 140.146583 \nL 204.429886 140.110743 \nL 205.039833 140.568262 \nL 205.64978 140.039999 \nL 207.479622 139.936153 \nL 208.699516 140.348902 \nL 209.309463 140.313416 \nL 209.91941 140.51647 \nL 211.139305 139.972501 \nL 211.749252 139.93917 \nL 212.359199 139.671819 \nL 212.969146 139.64 \nL 213.579093 139.376063 \nL 214.189041 139.577149 \nL 214.798988 138.854636 \nL 215.408935 138.367528 \nL 216.018882 138.798873 \nL 216.628829 138.999037 \nL 217.238776 139.4244 \nL 217.848724 139.620483 \nL 218.458671 139.365004 \nL 219.678565 139.752997 \nL 220.288512 139.722352 \nL 220.898459 139.913442 \nL 221.508407 139.66179 \nL 222.118354 139.631864 \nL 222.728301 139.821078 \nL 223.338248 140.226924 \nL 223.948195 140.195173 \nL 225.16809 140.994757 \nL 226.387984 140.070568 \nL 226.997931 140.039999 \nL 228.217825 140.402688 \nL 228.827773 140.792793 \nL 229.43772 140.760003 \nL 230.047667 141.145909 \nL 230.657614 140.903601 \nL 231.267561 141.286153 \nL 231.877508 141.045113 \nL 232.487456 141.424361 \nL 234.317297 141.322019 \nL 234.927244 141.491615 \nL 235.537191 141.457498 \nL 236.757086 141.792127 \nL 237.367033 142.158027 \nL 238.586927 142.08632 \nL 239.196874 142.249089 \nL 242.24661 142.071957 \nL 242.856557 142.231439 \nL 243.466505 142.002802 \nL 244.076452 142.354287 \nL 244.686399 142.511185 \nL 245.296346 142.283924 \nL 245.906293 142.249089 \nL 247.126188 142.93866 \nL 248.956029 143.392647 \nL 250.175923 144.06336 \nL 251.395818 143.984117 \nL 252.005765 144.129574 \nL 252.615712 144.458179 \nL 253.225659 144.234172 \nL 253.835606 144.560327 \nL 254.445554 144.337427 \nL 255.055501 144.297691 \nL 256.275395 143.857839 \nL 257.495289 144.500128 \nL 258.105237 144.639367 \nL 258.715184 144.064534 \nL 259.935078 144.697505 \nL 260.545025 144.834395 \nL 261.154972 144.794347 \nL 261.76492 144.579008 \nL 262.374867 144.715002 \nL 262.984814 145.024614 \nL 263.594761 145.158404 \nL 264.204708 145.117984 \nL 264.814655 144.732078 \nL 265.424603 144.865537 \nL 267.254444 144.748739 \nL 269.694233 145.271248 \nL 270.30418 145.23169 \nL 270.914127 144.689115 \nL 271.524074 144.651508 \nL 273.353916 145.037372 \nL 273.963863 144.999183 \nL 274.57381 144.7964 \nL 275.183757 144.759131 \nL 275.793704 144.885959 \nL 278.233493 144.738 \nL 278.84344 144.863079 \nL 280.063335 144.468614 \nL 281.283229 144.398031 \nL 281.893176 144.522307 \nL 282.503123 144.328234 \nL 283.11307 144.452012 \nL 283.723018 144.733041 \nL 286.162806 144.59207 \nL 286.772753 144.713076 \nL 287.382701 144.988765 \nL 287.992648 145.108031 \nL 288.602595 144.608664 \nL 289.212542 144.728318 \nL 289.822489 144.69366 \nL 290.432436 144.812436 \nL 291.042384 144.624911 \nL 291.652331 144.74323 \nL 294.092119 144.003828 \nL 295.312014 143.940005 \nL 295.921961 143.758732 \nL 297.141855 143.696692 \nL 297.751802 143.814343 \nL 298.971697 144.34313 \nL 299.581644 144.16364 \nL 300.191591 144.131974 \nL 300.801538 143.953954 \nL 302.021433 143.892184 \nL 303.851274 144.234645 \nL 305.071168 144.747869 \nL 306.291063 144.969544 \nL 306.90101 144.793907 \nL 307.510957 144.761607 \nL 309.340799 145.089874 \nL 309.950746 145.339254 \nL 310.560693 145.446699 \nL 311.17064 145.413266 \nL 311.780587 145.660001 \nL 312.390534 145.765867 \nL 313.000482 145.731894 \nL 313.610429 145.837058 \nL 314.220376 145.803085 \nL 315.44027 146.011537 \nL 316.660165 145.943388 \nL 317.270112 146.046524 \nL 317.880059 146.012534 \nL 318.490006 145.706107 \nL 319.099953 145.673097 \nL 319.7099 145.911535 \nL 320.319848 145.878187 \nL 320.929795 145.979997 \nL 321.539742 145.811973 \nL 322.149689 145.510379 \nL 323.369583 145.178918 \nL 323.979531 145.147766 \nL 324.589478 144.983662 \nL 325.199425 145.218687 \nL 325.809372 145.187662 \nL 327.029266 144.862327 \nL 327.639214 144.9639 \nL 328.249161 144.8025 \nL 328.859108 144.772793 \nL 330.079002 144.974487 \nL 330.688949 145.204679 \nL 331.298897 145.304072 \nL 331.908844 145.273563 \nL 332.518791 145.11403 \nL 333.128738 145.084095 \nL 333.738685 144.797143 \nL 334.348632 144.768053 \nL 334.95858 144.867092 \nL 335.568527 144.837977 \nL 336.178474 145.063818 \nL 337.398368 145.258794 \nL 338.008315 145.482193 \nL 338.618263 145.578308 \nL 339.22821 145.548002 \nL 339.838157 145.39211 \nL 341.058051 145.833382 \nL 341.667998 145.927664 \nL 342.277946 145.896927 \nL 342.887893 145.741973 \nL 343.49784 145.959914 \nL 344.107787 146.053106 \nL 344.717734 146.022352 \nL 345.327681 146.115003 \nL 347.157523 145.655768 \nL 350.207259 145.50923 \nL 350.817206 145.359404 \nL 352.647048 145.634494 \nL 355.086836 145.519411 \nL 355.696783 145.372078 \nL 356.306731 145.343977 \nL 357.526625 145.524379 \nL 358.136572 145.260374 \nL 358.746519 145.468007 \nL 359.356466 145.557389 \nL 359.966414 145.529254 \nL 360.576361 145.618145 \nL 361.186308 145.473339 \nL 361.796255 145.445542 \nL 362.406202 145.301681 \nL 363.016149 145.274357 \nL 363.626097 145.36286 \nL 364.236044 145.104567 \nL 364.845991 145.193053 \nL 365.455938 145.396191 \nL 366.065885 145.368952 \nL 366.675832 145.456365 \nL 367.895727 145.744229 \nL 369.115621 145.688897 \nL 369.725568 145.888199 \nL 369.725568 145.888199 \n\" clip-path=\"url(#pe0f8ecf4f9)\" style=\"fill: none; stroke: #2ca02c; stroke-width: 1.5; stroke-linecap: square\"/>\n   </g>\n   <g id=\"line2d_19\">\n    <path d=\"M 65.361932 18.54 \nL 65.971879 46.890006 \nL 66.581826 94.139994 \nL 67.191773 89.414999 \nL 69.021615 148.139999 \nL 69.631562 153.202505 \nL 70.241509 150.839999 \nL 71.461403 157.712728 \nL 72.071351 160.289998 \nL 72.681298 166.832305 \nL 73.901192 169.739997 \nL 74.511139 167.377499 \nL 75.731034 176.040001 \nL 76.340981 176.70316 \nL 76.950928 180.135 \nL 77.560875 180.540001 \nL 78.170822 178.330911 \nL 78.780769 181.244348 \nL 79.390717 179.190001 \nL 80.000664 179.568003 \nL 80.610611 177.736155 \nL 81.220558 180.239999 \nL 82.440452 176.908968 \nL 83.0504 179.190001 \nL 84.270294 176.236874 \nL 84.880241 178.330911 \nL 86.710083 174.465001 \nL 87.32003 176.38054 \nL 87.929977 173.71895 \nL 88.539924 175.555386 \nL 89.759819 176.193658 \nL 90.369766 172.439997 \nL 90.979713 172.816744 \nL 91.58966 174.465001 \nL 92.199607 173.520002 \nL 93.419502 176.576172 \nL 94.029449 173.283752 \nL 94.639396 174.754285 \nL 95.249343 175.032002 \nL 95.85929 174.187056 \nL 96.469237 174.465001 \nL 97.689132 172.889997 \nL 98.909026 175.477503 \nL 99.518973 174.713683 \nL 101.958762 175.626885 \nL 102.568709 173.093228 \nL 103.178656 172.439997 \nL 103.788603 173.57906 \nL 104.398551 172.93846 \nL 105.618445 173.407166 \nL 106.228392 171.963526 \nL 106.838339 171.38348 \nL 107.448286 171.630004 \nL 108.668181 168.952504 \nL 109.278128 168.445482 \nL 109.888075 167.185945 \nL 111.107969 166.258418 \nL 111.717917 166.549096 \nL 112.937811 165.672914 \nL 113.547758 166.66875 \nL 114.767652 167.204634 \nL 116.597494 165.960001 \nL 117.207441 166.223718 \nL 117.817388 165.829659 \nL 118.427335 164.800229 \nL 119.64723 165.330004 \nL 120.257177 164.339998 \nL 120.867124 162.755218 \nL 122.087018 162.099579 \nL 122.696966 162.378952 \nL 123.306913 162.06188 \nL 123.91686 161.166805 \nL 124.526807 160.868574 \nL 125.746701 161.424 \nL 127.576543 160.565248 \nL 128.18649 159.744812 \nL 129.406384 160.289998 \nL 130.016332 159.495145 \nL 130.626279 159.240004 \nL 131.236226 159.509728 \nL 133.066067 157.252504 \nL 133.676015 157.028497 \nL 134.285962 156.311054 \nL 134.895909 157.085215 \nL 135.505856 157.357246 \nL 136.115803 157.139998 \nL 136.72575 156.445933 \nL 137.945645 156.982501 \nL 138.555592 155.369755 \nL 139.165539 154.71295 \nL 139.775486 154.988784 \nL 140.995381 154.620003 \nL 141.605328 154.889998 \nL 142.215275 153.816381 \nL 144.045116 153.311539 \nL 145.265011 153.846822 \nL 145.874958 153.68211 \nL 146.484905 153.942988 \nL 147.094852 154.620003 \nL 148.314747 154.288906 \nL 148.924694 153.716092 \nL 149.534641 153.967338 \nL 150.144588 153.810002 \nL 150.754535 154.459152 \nL 151.364482 153.10268 \nL 151.97443 152.558187 \nL 152.584377 152.415003 \nL 153.194324 151.491726 \nL 153.804271 152.134523 \nL 154.414218 151.997143 \nL 155.634113 153.250072 \nL 156.24406 152.730005 \nL 156.854007 152.967818 \nL 158.073901 152.69294 \nL 159.903743 153.384233 \nL 160.51369 153.247648 \nL 162.343531 153.911254 \nL 163.563426 152.940004 \nL 164.173373 153.50687 \nL 164.78332 153.37537 \nL 165.393267 152.901823 \nL 166.003214 153.458677 \nL 166.613162 153.669343 \nL 167.833056 154.754207 \nL 168.443003 154.953534 \nL 169.05295 155.48211 \nL 169.662897 154.685931 \nL 170.272845 154.8822 \nL 170.882792 154.750345 \nL 172.712633 155.324748 \nL 173.32258 154.55629 \nL 174.542475 154.934997 \nL 175.152422 155.434475 \nL 175.762369 154.993844 \nL 176.372316 154.86787 \nL 176.982263 154.435106 \nL 177.592211 154.620003 \nL 178.812105 154.377434 \nL 179.422052 154.559686 \nL 180.031999 155.040001 \nL 180.641946 154.918421 \nL 181.251894 155.094978 \nL 181.861841 154.974378 \nL 182.471788 155.148807 \nL 183.081735 155.613711 \nL 184.301629 155.372147 \nL 184.911577 154.677566 \nL 185.521524 155.135457 \nL 186.131471 154.733971 \nL 186.741418 155.187005 \nL 187.961312 155.518221 \nL 188.57126 155.402073 \nL 189.181207 155.565002 \nL 189.791154 155.173174 \nL 190.401101 155.060388 \nL 191.011048 154.674786 \nL 192.230943 155.542393 \nL 192.84089 155.430005 \nL 193.450837 155.049954 \nL 194.060784 155.475849 \nL 194.670731 155.631546 \nL 195.890626 154.883721 \nL 196.500573 155.040001 \nL 197.11052 154.67226 \nL 197.720467 154.828076 \nL 198.330414 154.464661 \nL 198.940361 154.362276 \nL 200.160256 154.671086 \nL 200.770203 153.806369 \nL 202.600044 154.268763 \nL 203.209992 154.669954 \nL 203.819939 154.818951 \nL 204.429886 154.719042 \nL 205.039833 154.37348 \nL 205.64978 154.521818 \nL 206.259727 154.424486 \nL 206.869675 154.571329 \nL 207.479622 154.232306 \nL 208.089569 154.13745 \nL 208.699516 154.523896 \nL 209.91941 154.810587 \nL 210.529358 155.18937 \nL 211.139305 154.856253 \nL 211.749252 154.99643 \nL 213.579093 154.71295 \nL 214.189041 154.851429 \nL 214.798988 154.527808 \nL 215.408935 153.977249 \nL 216.018882 154.11702 \nL 217.238776 153.9396 \nL 217.848724 154.077851 \nL 218.458671 154.439998 \nL 219.068618 154.126956 \nL 219.678565 154.039611 \nL 220.288512 154.175292 \nL 220.898459 154.088437 \nL 221.508407 153.781639 \nL 222.118354 153.25744 \nL 222.728301 153.175139 \nL 223.338248 153.311539 \nL 223.948195 153.664139 \nL 224.558142 153.581221 \nL 225.16809 153.283344 \nL 227.607878 153.813035 \nL 228.217825 153.731418 \nL 228.827773 154.07197 \nL 230.657614 154.453238 \nL 231.877508 155.116642 \nL 232.487456 154.413823 \nL 234.317297 154.78317 \nL 234.927244 154.498068 \nL 235.537191 154.417499 \nL 236.147139 154.53929 \nL 236.757086 154.258084 \nL 237.367033 154.57993 \nL 237.97698 154.500214 \nL 238.586927 154.818951 \nL 239.196874 154.738956 \nL 239.806822 155.054635 \nL 240.416769 154.974378 \nL 241.026716 155.287057 \nL 242.24661 155.126603 \nL 242.856557 155.435548 \nL 244.686399 155.773219 \nL 246.51624 155.533294 \nL 248.346082 155.863259 \nL 248.956029 155.784042 \nL 250.175923 155.254148 \nL 250.785871 154.805906 \nL 251.395818 154.545881 \nL 252.005765 154.656942 \nL 252.615712 154.583183 \nL 254.445554 154.911704 \nL 255.055501 155.201537 \nL 255.665448 155.308374 \nL 257.495289 155.086521 \nL 258.105237 155.371234 \nL 259.325131 155.579813 \nL 259.935078 155.505936 \nL 260.545025 154.902621 \nL 261.76492 155.462601 \nL 262.374867 155.389999 \nL 262.984814 154.968928 \nL 263.594761 155.072209 \nL 264.814655 155.622624 \nL 265.424603 155.722981 \nL 266.03455 155.650911 \nL 266.644497 155.407979 \nL 268.474338 155.706472 \nL 269.084286 155.635526 \nL 270.30418 155.831398 \nL 270.914127 156.096214 \nL 271.524074 155.8577 \nL 273.353916 155.647895 \nL 273.963863 155.90939 \nL 274.57381 155.674881 \nL 275.183757 155.60609 \nL 275.793704 155.373819 \nL 276.403652 155.633084 \nL 277.013599 155.727932 \nL 277.623546 155.659774 \nL 278.233493 155.753997 \nL 278.84344 155.686152 \nL 279.453387 155.779775 \nL 280.063335 156.033489 \nL 281.283229 156.217186 \nL 282.503123 156.081175 \nL 284.332965 156.352505 \nL 285.552859 156.217625 \nL 286.772753 155.772695 \nL 290.432436 156.30568 \nL 291.042384 156.545665 \nL 291.652331 156.631937 \nL 292.262278 156.565739 \nL 292.872225 156.803104 \nL 294.702067 157.056446 \nL 295.312014 156.990004 \nL 295.921961 157.073513 \nL 296.531908 156.708949 \nL 297.141855 156.792754 \nL 297.751802 156.727697 \nL 298.36175 156.811021 \nL 298.971697 157.041568 \nL 299.581644 156.829093 \nL 300.801538 156.993493 \nL 301.411485 157.221184 \nL 303.241327 157.027213 \nL 303.851274 156.384644 \nL 304.461221 156.178169 \nL 305.071168 156.116652 \nL 305.681116 156.342535 \nL 306.90101 156.505245 \nL 308.120904 156.38211 \nL 310.560693 156.702283 \nL 311.17064 156.360294 \nL 311.780587 156.440002 \nL 312.390534 155.960693 \nL 313.000482 155.901668 \nL 313.610429 155.703971 \nL 314.220376 155.923128 \nL 315.44027 155.530514 \nL 316.050217 155.610872 \nL 316.660165 155.416275 \nL 317.270112 155.085651 \nL 319.7099 155.406745 \nL 320.319848 155.621382 \nL 320.929795 155.565002 \nL 321.539742 155.643561 \nL 322.149689 155.587392 \nL 322.759636 155.665537 \nL 323.369583 155.609579 \nL 323.979531 155.82071 \nL 325.809372 156.05075 \nL 326.419319 156.258882 \nL 327.029266 156.334187 \nL 327.639214 155.882928 \nL 328.249161 155.958749 \nL 329.469055 155.586775 \nL 330.079002 155.662757 \nL 330.688949 155.608354 \nL 331.298897 155.424437 \nL 331.908844 155.37082 \nL 332.518791 155.446607 \nL 333.128738 155.393184 \nL 333.738685 155.21143 \nL 334.348632 155.287057 \nL 334.95858 155.490339 \nL 335.568527 155.565002 \nL 336.178474 155.511909 \nL 336.788421 155.33193 \nL 337.398368 155.406441 \nL 338.008315 155.354066 \nL 338.618263 155.554475 \nL 339.22821 155.627998 \nL 339.838157 155.575479 \nL 340.448104 155.774072 \nL 341.667998 155.918853 \nL 342.277946 155.741543 \nL 343.49784 155.637376 \nL 344.717734 156.028233 \nL 345.327681 155.852613 \nL 346.547576 155.258187 \nL 347.157523 155.207823 \nL 347.76747 155.279875 \nL 348.377417 155.107745 \nL 349.597312 155.251352 \nL 350.817206 155.151941 \nL 351.427153 155.343834 \nL 352.0371 155.414527 \nL 352.647048 155.24466 \nL 353.256995 155.195394 \nL 354.476889 155.574947 \nL 355.086836 155.644414 \nL 356.306731 155.545232 \nL 357.526625 155.683127 \nL 359.966414 156.424093 \nL 360.576361 156.256702 \nL 361.796255 156.389697 \nL 362.406202 156.571966 \nL 363.016149 156.521594 \nL 363.626097 156.355715 \nL 364.236044 156.536945 \nL 364.845991 156.486953 \nL 365.455938 156.20714 \nL 366.675832 156.10909 \nL 367.28578 156.174679 \nL 368.505674 155.849639 \nL 369.115621 155.915355 \nL 369.725568 155.867399 \nL 369.725568 155.867399 \n\" clip-path=\"url(#pe0f8ecf4f9)\" style=\"fill: none; stroke: #d62728; stroke-width: 1.5; stroke-linecap: square\"/>\n   </g>\n   <g id=\"line2d_20\">\n    <path d=\"M 65.361932 131.94 \nL 66.581826 188.64 \nL 67.191773 202.814999 \nL 67.80172 199.980002 \nL 68.411668 188.64 \nL 69.021615 196.739999 \nL 69.631562 181.552503 \nL 70.241509 169.739997 \nL 70.851456 171.630004 \nL 71.461403 157.712728 \nL 72.071351 165.015002 \nL 72.681298 158.109229 \nL 73.291245 160.289998 \nL 74.511139 149.65875 \nL 75.121086 138.610588 \nL 75.731034 144.539999 \nL 76.340981 134.924214 \nL 76.950928 137.610003 \nL 77.560875 131.94 \nL 78.170822 137.094549 \nL 78.780769 134.40522 \nL 79.390717 134.302498 \nL 80.000664 129.672004 \nL 80.610611 131.94 \nL 81.220558 131.94 \nL 81.830505 133.965004 \nL 83.0504 130.050002 \nL 83.660347 133.76903 \nL 85.490188 128.604706 \nL 86.100135 127.079999 \nL 86.710083 127.215005 \nL 87.32003 128.87514 \nL 88.539924 129.032308 \nL 89.149871 123.435 \nL 89.759819 126.408298 \nL 90.369766 127.89 \nL 90.979713 130.621396 \nL 91.58966 130.651365 \nL 92.199607 133.200002 \nL 92.809554 130.70739 \nL 93.419502 131.94 \nL 94.029449 134.302498 \nL 94.639396 135.411432 \nL 95.249343 135.341998 \nL 95.85929 133.051765 \nL 96.469237 133.030389 \nL 97.689132 135.09 \nL 98.909026 134.977502 \nL 99.518973 135.918952 \nL 100.12892 134.87276 \nL 100.738868 134.823055 \nL 101.348815 135.720005 \nL 101.958762 134.728528 \nL 102.568709 135.598069 \nL 103.178656 137.34 \nL 103.788603 136.369687 \nL 104.398551 138.046155 \nL 105.008498 138.812729 \nL 106.838339 143.444347 \nL 107.448286 144.089999 \nL 108.058234 143.120287 \nL 108.668181 143.752505 \nL 109.278128 143.590683 \nL 109.888075 144.199464 \nL 110.498022 145.548002 \nL 111.107969 145.368952 \nL 111.717917 145.930909 \nL 112.327864 145.024614 \nL 112.937811 144.858989 \nL 113.547758 143.988755 \nL 114.767652 146.460735 \nL 115.3776 146.285782 \nL 115.987547 147.465003 \nL 116.597494 147.282353 \nL 117.207441 148.422557 \nL 117.817388 148.884825 \nL 118.427335 148.047956 \nL 119.037283 147.866971 \nL 120.257177 148.763076 \nL 121.477071 150.839999 \nL 122.087018 150.035742 \nL 122.696966 148.651583 \nL 123.306913 147.886876 \nL 123.91686 148.307009 \nL 124.526807 148.139999 \nL 125.136754 148.549089 \nL 125.746701 149.517002 \nL 126.966596 149.172352 \nL 127.576543 148.454562 \nL 128.18649 148.295772 \nL 128.796437 147.600001 \nL 129.406384 148.522078 \nL 130.016332 148.897009 \nL 130.626279 148.215 \nL 131.846173 149.980909 \nL 132.45612 149.818376 \nL 133.066067 150.165003 \nL 133.676015 151.007254 \nL 134.895909 151.661744 \nL 135.505856 152.469313 \nL 136.115803 152.293845 \nL 136.72575 152.601868 \nL 137.335698 152.428234 \nL 139.165539 153.318686 \nL 139.775486 152.683908 \nL 140.385433 152.973876 \nL 140.995381 153.712805 \nL 141.605328 152.639998 \nL 142.825222 151.430623 \nL 144.045116 151.130769 \nL 144.655064 151.417105 \nL 145.874958 151.124213 \nL 146.484905 151.404178 \nL 147.094852 150.420001 \nL 147.704799 150.284116 \nL 148.924694 149.196524 \nL 149.534641 149.888207 \nL 150.754535 149.633623 \nL 151.364482 149.908315 \nL 151.97443 149.782662 \nL 152.584377 150.446252 \nL 153.194324 150.318622 \nL 154.414218 150.839999 \nL 155.024165 149.946082 \nL 155.634113 149.825236 \nL 156.24406 150.084003 \nL 156.854007 149.212848 \nL 158.073901 148.987058 \nL 158.683848 149.612728 \nL 159.293796 149.49871 \nL 161.123637 150.241897 \nL 162.343531 150.013124 \nL 162.953479 150.253041 \nL 163.563426 149.790004 \nL 164.78332 150.26378 \nL 165.393267 149.121818 \nL 166.613162 149.595095 \nL 167.223109 150.165003 \nL 167.833056 149.721661 \nL 168.443003 149.617063 \nL 169.05295 149.84526 \nL 169.662897 149.741161 \nL 172.102686 150.625226 \nL 173.932528 150.312065 \nL 174.542475 149.895 \nL 175.152422 150.422324 \nL 180.031999 152.040004 \nL 181.251894 151.829532 \nL 183.081735 152.398764 \nL 183.691682 152.293845 \nL 184.301629 152.768575 \nL 185.521524 153.130908 \nL 186.131471 153.024426 \nL 187.351365 153.378809 \nL 188.57126 153.167585 \nL 189.791154 153.513663 \nL 190.401101 153.40893 \nL 191.011048 153.579134 \nL 191.620995 153.202505 \nL 193.450837 153.70635 \nL 194.060784 153.336226 \nL 194.670731 153.768171 \nL 195.890626 153.565117 \nL 196.500573 152.940004 \nL 197.11052 153.365806 \nL 197.720467 152.227157 \nL 198.330414 152.134523 \nL 198.940361 152.300452 \nL 200.160256 152.117025 \nL 200.770203 152.535071 \nL 201.38015 152.189998 \nL 201.990097 152.1 \nL 202.600044 152.261679 \nL 203.209992 151.422825 \nL 203.819939 151.088685 \nL 205.039833 151.90826 \nL 206.259727 151.73612 \nL 206.869675 151.894505 \nL 207.479622 152.293845 \nL 208.699516 151.64085 \nL 209.91941 151.475293 \nL 210.529358 151.156319 \nL 211.139305 151.312498 \nL 212.969146 152.473334 \nL 213.579093 152.389183 \nL 214.798988 152.683908 \nL 215.408935 153.059033 \nL 216.018882 152.745247 \nL 217.848724 152.496577 \nL 218.458671 151.965003 \nL 220.288512 151.729412 \nL 220.898459 151.209142 \nL 221.508407 151.354785 \nL 222.118354 151.279539 \nL 222.728301 151.423788 \nL 223.948195 150.839999 \nL 224.558142 150.767861 \nL 225.778037 151.054771 \nL 226.387984 151.410565 \nL 226.997931 151.337372 \nL 228.217825 152.03888 \nL 228.827773 151.331821 \nL 229.43772 151.049997 \nL 230.047667 150.561031 \nL 230.657614 150.492577 \nL 231.267561 150.216922 \nL 231.877508 150.150217 \nL 233.097403 150.839999 \nL 234.927244 150.636776 \nL 235.537191 150.975004 \nL 236.147139 150.503705 \nL 236.757086 150.43787 \nL 237.367033 149.77145 \nL 237.97698 149.708666 \nL 238.586927 149.447374 \nL 239.196874 148.989651 \nL 239.806822 148.930247 \nL 240.416769 149.265003 \nL 241.026716 148.812663 \nL 241.636663 148.558966 \nL 242.24661 148.696701 \nL 242.856557 148.639315 \nL 243.466505 148.969357 \nL 244.076452 148.718575 \nL 245.296346 149.371418 \nL 247.126188 149.196524 \nL 247.736135 148.95 \nL 248.346082 148.516746 \nL 248.956029 148.461853 \nL 249.565976 148.220196 \nL 250.175923 148.166647 \nL 250.785871 147.741639 \nL 251.395818 147.504705 \nL 252.005765 147.454011 \nL 252.615712 147.219544 \nL 253.225659 147.353595 \nL 253.835606 147.12097 \nL 254.445554 147.072152 \nL 255.055501 147.205383 \nL 255.665448 147.518916 \nL 256.885342 147.780006 \nL 257.495289 147.371017 \nL 258.105237 147.680063 \nL 258.715184 147.452262 \nL 259.935078 146.646561 \nL 260.545025 146.954019 \nL 261.76492 147.212134 \nL 264.204708 147.025319 \nL 265.424603 147.278298 \nL 266.03455 147.23182 \nL 266.644497 147.014319 \nL 267.864391 146.923788 \nL 268.474338 146.709159 \nL 269.084286 146.834331 \nL 269.694233 146.621248 \nL 270.914127 147.205383 \nL 271.524074 146.993095 \nL 272.134021 147.115588 \nL 272.743969 146.904812 \nL 273.353916 146.861055 \nL 273.963863 146.486943 \nL 274.57381 146.279825 \nL 275.183757 146.402614 \nL 276.403652 146.319248 \nL 277.013599 146.115003 \nL 277.623546 146.074389 \nL 278.84344 146.316925 \nL 279.453387 145.953924 \nL 280.063335 145.753599 \nL 280.673282 146.034915 \nL 281.283229 145.835495 \nL 282.503123 145.757646 \nL 283.11307 146.035811 \nL 283.723018 145.996549 \nL 284.332965 145.642504 \nL 284.942912 145.761609 \nL 285.552859 145.566801 \nL 286.162806 145.685458 \nL 287.382701 145.610136 \nL 288.602595 145.844637 \nL 289.212542 145.652769 \nL 289.822489 145.615611 \nL 290.432436 145.731894 \nL 291.042384 145.694718 \nL 292.262278 145.924986 \nL 292.872225 145.887591 \nL 293.482172 146.152804 \nL 294.092119 146.2658 \nL 294.702067 146.227797 \nL 295.312014 146.339999 \nL 295.921961 146.302004 \nL 296.531908 146.41342 \nL 297.141855 146.226614 \nL 297.751802 146.337642 \nL 300.801538 146.151629 \nL 301.411485 145.96887 \nL 302.021433 146.078563 \nL 303.241327 146.00624 \nL 303.851274 146.115003 \nL 306.291063 145.399089 \nL 307.510957 145.616379 \nL 308.120904 145.58211 \nL 308.730851 145.264506 \nL 309.340799 145.514063 \nL 309.950746 145.480301 \nL 310.560693 145.306007 \nL 311.17064 145.553612 \nL 311.780587 145.660001 \nL 312.390534 145.90552 \nL 313.000482 146.010515 \nL 313.610429 146.253972 \nL 314.830323 146.460735 \nL 315.44027 146.701319 \nL 316.050217 146.665487 \nL 316.660165 146.904406 \nL 317.270112 147.005219 \nL 317.880059 146.968914 \nL 318.490006 147.069085 \nL 319.7099 146.996703 \nL 320.319848 147.096088 \nL 320.929795 146.925005 \nL 321.539742 146.889409 \nL 322.149689 147.122702 \nL 322.759636 146.818725 \nL 323.369583 146.917358 \nL 325.809372 146.777385 \nL 326.419319 146.87497 \nL 327.029266 147.103954 \nL 328.249161 147.296252 \nL 328.859108 147.260783 \nL 329.469055 147.486776 \nL 331.908844 147.862603 \nL 333.128738 147.790229 \nL 333.738685 148.011431 \nL 334.348632 147.975067 \nL 334.95858 147.682893 \nL 335.568527 147.775139 \nL 336.178474 147.612133 \nL 337.398368 147.795704 \nL 338.618263 147.725079 \nL 339.838157 147.90652 \nL 340.448104 147.620312 \nL 341.667998 147.551233 \nL 342.277946 147.641544 \nL 342.887893 147.482763 \nL 343.49784 147.448756 \nL 344.107787 147.29109 \nL 345.937629 147.191198 \nL 347.157523 147.37024 \nL 347.76747 147.336984 \nL 348.377417 147.547744 \nL 348.987365 147.635925 \nL 349.597312 147.359484 \nL 350.207259 147.326542 \nL 350.817206 147.172838 \nL 351.427153 147.140428 \nL 352.647048 147.556531 \nL 353.256995 147.403638 \nL 354.476889 146.861055 \nL 355.696783 147.036227 \nL 356.306731 146.88603 \nL 356.916678 146.854828 \nL 357.526625 146.705628 \nL 359.356466 146.966092 \nL 359.966414 146.935042 \nL 360.576361 147.021036 \nL 361.186308 147.223338 \nL 361.796255 147.308376 \nL 362.406202 147.160697 \nL 364.236044 147.414132 \nL 365.455938 147.121342 \nL 366.675832 147.289096 \nL 367.28578 147.143833 \nL 367.895727 147.227325 \nL 368.505674 147.19663 \nL 369.115621 147.279684 \nL 369.725568 147.249005 \nL 369.725568 147.249005 \n\" clip-path=\"url(#pe0f8ecf4f9)\" style=\"fill: none; stroke: #9467bd; stroke-width: 1.5; stroke-linecap: square\"/>\n   </g>\n   <g id=\"line2d_21\">\n    <path d=\"M 65.361932 245.34 \nL 66.581826 131.94 \nL 67.191773 146.115003 \nL 67.80172 143.279997 \nL 68.411668 160.289998 \nL 69.021615 148.139999 \nL 69.631562 139.027502 \nL 70.851456 137.610003 \nL 71.461403 142.249089 \nL 72.071351 131.94 \nL 73.291245 148.139999 \nL 74.511139 160.289998 \nL 75.731034 163.439998 \nL 76.950928 165.960001 \nL 78.170822 168.021817 \nL 78.780769 166.453048 \nL 79.390717 169.739997 \nL 80.000664 168.227997 \nL 81.220558 161.340001 \nL 81.830505 158.265002 \nL 82.440452 157.357246 \nL 83.0504 154.620003 \nL 83.660347 155.717422 \nL 84.270294 153.202505 \nL 85.490188 151.951763 \nL 86.100135 153 \nL 86.710083 155.565002 \nL 87.32003 156.458919 \nL 87.929977 155.813689 \nL 88.539924 153.747691 \nL 89.149871 156.037502 \nL 89.759819 155.449759 \nL 90.369766 157.589998 \nL 91.58966 156.424093 \nL 92.809554 160.289998 \nL 93.419502 156.067665 \nL 94.029449 155.565002 \nL 94.639396 153.925719 \nL 95.249343 154.620003 \nL 95.85929 156.398822 \nL 96.469237 155.92846 \nL 97.689132 152.940004 \nL 98.299079 153.589095 \nL 98.909026 155.2275 \nL 99.518973 153.824213 \nL 100.12892 151.491726 \nL 100.738868 150.199323 \nL 101.348815 150.839999 \nL 101.958762 149.600655 \nL 102.568709 151.144837 \nL 103.178656 150.839999 \nL 104.398551 152.003082 \nL 105.618445 151.404178 \nL 106.228392 149.450297 \nL 106.838339 149.196524 \nL 107.448286 148.139999 \nL 108.058234 147.911835 \nL 108.668181 148.477501 \nL 109.278128 147.474246 \nL 109.888075 148.796762 \nL 110.498022 149.327998 \nL 111.717917 147.403638 \nL 112.327864 147.932307 \nL 112.937811 147.729878 \nL 113.547758 148.95 \nL 114.157705 146.640005 \nL 114.767652 145.077809 \nL 115.3776 144.236386 \nL 115.987547 144.089999 \nL 116.597494 145.281175 \nL 117.207441 145.78535 \nL 117.817388 145.626206 \nL 118.427335 146.759321 \nL 119.037283 147.229885 \nL 119.64723 146.430006 \nL 120.867124 148.580215 \nL 122.087018 149.432554 \nL 122.696966 149.248426 \nL 123.306913 150.249374 \nL 126.966596 149.172352 \nL 128.18649 149.931347 \nL 128.796437 149.760002 \nL 129.406384 149.056981 \nL 130.016332 149.426919 \nL 131.236226 149.106053 \nL 131.846173 149.465454 \nL 132.45612 150.329191 \nL 134.895909 151.661744 \nL 135.505856 151.491726 \nL 136.115803 150.839999 \nL 136.72575 151.64085 \nL 137.335698 151.951763 \nL 137.945645 151.784998 \nL 138.555592 151.152399 \nL 139.165539 150.994919 \nL 139.775486 149.918048 \nL 140.385433 149.773064 \nL 140.995381 149.176804 \nL 141.605328 149.489999 \nL 142.215275 149.351816 \nL 142.825222 148.329847 \nL 143.435169 148.642323 \nL 144.045116 148.513848 \nL 144.655064 147.954502 \nL 145.265011 147.833183 \nL 147.704799 149.033383 \nL 148.924694 150.429134 \nL 150.144588 150.165003 \nL 150.754535 149.633623 \nL 151.364482 149.509017 \nL 152.584377 150.839999 \nL 153.804271 151.35781 \nL 155.634113 150.966851 \nL 156.24406 151.218005 \nL 156.854007 151.841327 \nL 157.463954 152.083423 \nL 158.073901 152.69294 \nL 158.683848 152.926367 \nL 159.293796 152.059352 \nL 159.903743 151.930387 \nL 160.51369 151.441911 \nL 161.123637 151.31848 \nL 161.733584 151.909814 \nL 162.343531 152.139372 \nL 162.953479 152.718261 \nL 165.393267 153.589095 \nL 167.223109 152.189998 \nL 168.443003 151.951763 \nL 169.05295 152.166316 \nL 169.662897 152.708021 \nL 170.272845 152.915722 \nL 170.882792 152.469313 \nL 171.492739 152.351999 \nL 172.102686 151.913861 \nL 172.712633 151.801017 \nL 173.32258 152.326517 \nL 173.932528 152.529385 \nL 175.152422 152.30188 \nL 175.762369 151.87846 \nL 176.982263 152.278045 \nL 177.592211 151.861621 \nL 178.202158 152.364199 \nL 178.812105 152.558187 \nL 179.422052 152.146917 \nL 180.031999 150.839999 \nL 180.641946 150.442103 \nL 181.861841 150.249374 \nL 183.081735 150.645157 \nL 183.691682 150.549236 \nL 184.301629 151.032855 \nL 184.911577 150.360309 \nL 185.521524 150.267278 \nL 186.131471 150.4601 \nL 186.741418 149.800498 \nL 187.351365 149.71164 \nL 189.791154 148.258538 \nL 190.401101 148.729804 \nL 191.011048 148.648694 \nL 191.620995 148.840967 \nL 192.230943 148.488806 \nL 192.84089 148.410002 \nL 193.450837 147.525785 \nL 194.060784 147.719722 \nL 194.670731 147.645633 \nL 195.280678 148.102147 \nL 196.500573 147.9525 \nL 197.720467 148.325783 \nL 198.330414 148.250959 \nL 200.160256 148.796762 \nL 201.38015 148.646252 \nL 203.209992 149.174802 \nL 204.429886 150.014671 \nL 205.039833 149.196524 \nL 205.64978 149.612728 \nL 206.869675 149.947729 \nL 208.089569 149.794465 \nL 208.699516 149.238304 \nL 209.309463 149.404554 \nL 209.91941 148.616469 \nL 210.529358 148.546698 \nL 211.139305 148.241251 \nL 211.749252 148.173609 \nL 212.969146 147.573336 \nL 213.579093 147.509267 \nL 214.189041 147.214289 \nL 214.798988 147.382685 \nL 216.018882 147.258147 \nL 216.628829 147.424338 \nL 217.848724 147.300958 \nL 218.458671 147.689999 \nL 219.068618 147.851856 \nL 220.288512 148.616469 \nL 220.898459 148.551328 \nL 222.118354 148.862097 \nL 223.338248 148.731924 \nL 223.948195 148.884825 \nL 224.558142 148.603745 \nL 225.778037 148.477501 \nL 226.387984 148.201135 \nL 226.997931 148.353158 \nL 227.607878 148.079327 \nL 228.217825 148.230673 \nL 229.43772 148.110005 \nL 230.657614 147.157284 \nL 231.267561 146.893845 \nL 231.877508 146.839273 \nL 232.487456 146.99127 \nL 233.097403 147.347613 \nL 233.70735 147.496678 \nL 234.317297 147.848636 \nL 234.927244 147.994837 \nL 235.537191 147.937503 \nL 236.147139 148.082352 \nL 236.757086 148.427238 \nL 237.367033 148.569333 \nL 237.97698 148.510773 \nL 238.586927 148.651583 \nL 239.196874 148.989651 \nL 239.806822 149.127809 \nL 240.416769 148.871248 \nL 241.026716 149.008856 \nL 242.24661 148.891551 \nL 242.856557 148.445141 \nL 243.466505 148.775834 \nL 244.076452 148.525719 \nL 244.686399 147.508473 \nL 245.906293 147.403638 \nL 247.126188 146.920941 \nL 247.736135 146.870999 \nL 249.565976 147.284559 \nL 250.175923 147.234085 \nL 251.395818 147.875293 \nL 252.005765 147.454011 \nL 252.615712 147.587733 \nL 253.225659 147.904079 \nL 253.835606 148.035485 \nL 255.055501 147.932307 \nL 255.665448 147.700062 \nL 256.275395 147.288724 \nL 257.495289 147.191586 \nL 258.105237 146.785741 \nL 259.935078 147.178127 \nL 260.545025 146.954019 \nL 261.76492 147.212134 \nL 262.374867 147.515004 \nL 263.594761 147.767298 \nL 264.204708 148.06569 \nL 266.03455 148.434546 \nL 266.644497 148.727311 \nL 267.864391 148.62649 \nL 269.084286 149.203883 \nL 269.694233 149.152505 \nL 270.30418 148.933179 \nL 270.914127 149.050653 \nL 271.524074 149.33469 \nL 273.353916 149.679475 \nL 273.963863 149.627759 \nL 275.183757 149.853912 \nL 276.403652 149.750666 \nL 277.013599 150.02535 \nL 277.623546 150.135989 \nL 278.233493 149.922002 \nL 278.84344 149.870768 \nL 279.453387 149.980909 \nL 280.063335 149.769178 \nL 280.673282 150.039156 \nL 281.283229 149.828456 \nL 281.893176 149.778201 \nL 282.503123 150.045881 \nL 283.723018 149.945017 \nL 284.332965 150.052505 \nL 284.942912 149.688203 \nL 285.552859 149.7958 \nL 286.162806 149.74661 \nL 286.772753 149.853464 \nL 287.382701 149.338357 \nL 288.602595 148.934556 \nL 289.212542 149.042449 \nL 289.822489 148.996098 \nL 290.432436 148.796762 \nL 291.042384 148.751323 \nL 291.652331 148.248872 \nL 292.262278 148.357162 \nL 292.872225 148.161662 \nL 293.482172 147.815998 \nL 294.092119 147.773779 \nL 295.312014 147.990004 \nL 295.921961 147.94765 \nL 296.531908 148.203949 \nL 297.141855 148.310076 \nL 297.751802 148.267223 \nL 298.36175 147.928513 \nL 298.971697 147.886876 \nL 299.581644 147.992725 \nL 300.191591 147.804254 \nL 301.411485 148.307009 \nL 302.021433 148.264934 \nL 302.63138 148.513848 \nL 303.241327 148.47146 \nL 303.851274 148.718575 \nL 304.461221 148.820157 \nL 305.071168 149.065126 \nL 305.681116 149.021774 \nL 306.291063 149.121818 \nL 307.510957 149.035479 \nL 308.120904 148.708419 \nL 309.340799 148.624792 \nL 309.950746 148.16015 \nL 311.17064 148.360542 \nL 311.780587 148.180005 \nL 312.390534 148.27966 \nL 313.610429 148.199564 \nL 314.220376 147.605281 \nL 314.830323 147.705367 \nL 315.44027 147.253137 \nL 316.660165 147.17898 \nL 317.880059 147.378798 \nL 318.490006 147.614279 \nL 319.099953 147.57669 \nL 319.7099 147.403638 \nL 320.319848 147.637379 \nL 321.539742 147.562808 \nL 322.149689 147.391421 \nL 322.759636 147.354896 \nL 323.369583 147.585992 \nL 323.979531 147.282353 \nL 324.589478 147.37944 \nL 325.199425 147.210495 \nL 325.809372 147.307295 \nL 327.029266 147.235817 \nL 327.639214 147.331881 \nL 328.249161 147.164997 \nL 328.859108 147.260783 \nL 329.469055 147.225484 \nL 330.079002 147.060002 \nL 330.688949 147.155366 \nL 331.908844 147.08589 \nL 332.518791 147.180552 \nL 333.738685 147.111431 \nL 334.348632 147.205383 \nL 335.568527 146.881214 \nL 336.178474 146.975056 \nL 336.788421 146.687091 \nL 337.398368 146.527253 \nL 338.008315 146.494691 \nL 338.618263 146.335994 \nL 339.838157 146.272154 \nL 341.667998 145.80278 \nL 342.277946 145.772305 \nL 342.887893 145.866317 \nL 344.107787 145.557904 \nL 344.717734 145.651764 \nL 345.327681 145.868479 \nL 345.937629 145.961257 \nL 346.547576 146.176368 \nL 347.157523 146.268081 \nL 347.76747 146.2372 \nL 348.987365 145.932489 \nL 349.597312 146.02394 \nL 350.207259 146.236153 \nL 350.817206 146.326565 \nL 352.0371 146.265479 \nL 352.647048 146.355258 \nL 353.256995 146.324782 \nL 353.866942 146.174813 \nL 355.086836 146.115003 \nL 356.306731 146.29293 \nL 356.916678 146.49971 \nL 358.136572 146.439173 \nL 358.746519 146.526721 \nL 359.966414 146.232148 \nL 360.576361 146.202678 \nL 361.186308 146.056672 \nL 362.406202 145.998813 \nL 363.016149 145.854108 \nL 365.455938 146.201259 \nL 366.065885 146.172388 \nL 366.675832 146.258179 \nL 367.28578 146.229318 \nL 369.115621 146.825172 \nL 369.725568 146.795398 \nL 369.725568 146.795398 \n\" clip-path=\"url(#pe0f8ecf4f9)\" style=\"fill: none; stroke: #8c564b; stroke-width: 1.5; stroke-linecap: square\"/>\n   </g>\n   <g id=\"line2d_22\">\n    <path d=\"M 50.14375 150.651001 \nL 384.94375 150.651001 \n\" clip-path=\"url(#pe0f8ecf4f9)\" style=\"fill: none; stroke-dasharray: 5.55,2.4; stroke-dashoffset: 0; stroke: #000000; stroke-width: 1.5\"/>\n   </g>\n   <g id=\"patch_3\">\n    <path d=\"M 50.14375 256.68 \nL 50.14375 7.2 \n\" style=\"fill: none; stroke: #000000; stroke-width: 0.8; stroke-linejoin: miter; stroke-linecap: square\"/>\n   </g>\n   <g id=\"patch_4\">\n    <path d=\"M 384.94375 256.68 \nL 384.94375 7.2 \n\" style=\"fill: none; stroke: #000000; stroke-width: 0.8; stroke-linejoin: miter; stroke-linecap: square\"/>\n   </g>\n   <g id=\"patch_5\">\n    <path d=\"M 50.14375 256.68 \nL 384.94375 256.68 \n\" style=\"fill: none; stroke: #000000; stroke-width: 0.8; stroke-linejoin: miter; stroke-linecap: square\"/>\n   </g>\n   <g id=\"patch_6\">\n    <path d=\"M 50.14375 7.2 \nL 384.94375 7.2 \n\" style=\"fill: none; stroke: #000000; stroke-width: 0.8; stroke-linejoin: miter; stroke-linecap: square\"/>\n   </g>\n   <g id=\"legend_1\">\n    <g id=\"patch_7\">\n     <path d=\"M 302.089063 103.26875 \nL 377.94375 103.26875 \nQ 379.94375 103.26875 379.94375 101.26875 \nL 379.94375 14.2 \nQ 379.94375 12.2 377.94375 12.2 \nL 302.089063 12.2 \nQ 300.089063 12.2 300.089063 14.2 \nL 300.089063 101.26875 \nQ 300.089063 103.26875 302.089063 103.26875 \nz\n\" style=\"fill: #ffffff; opacity: 0.8; stroke: #cccccc; stroke-linejoin: miter\"/>\n    </g>\n    <g id=\"line2d_23\">\n     <path d=\"M 304.089063 20.298438 \nL 314.089063 20.298438 \nL 324.089063 20.298438 \n\" style=\"fill: none; stroke: #1f77b4; stroke-width: 1.5; stroke-linecap: square\"/>\n    </g>\n    <g id=\"text_18\">\n     <!-- P(die=1) -->\n     <g transform=\"translate(332.089063 23.798438)scale(0.1 -0.1)\">\n      <defs>\n       <path id=\"DejaVuSans-50\" d=\"M 1259 4147 \nL 1259 2394 \nL 2053 2394 \nQ 2494 2394 2734 2622 \nQ 2975 2850 2975 3272 \nQ 2975 3691 2734 3919 \nQ 2494 4147 2053 4147 \nL 1259 4147 \nz\nM 628 4666 \nL 2053 4666 \nQ 2838 4666 3239 4311 \nQ 3641 3956 3641 3272 \nQ 3641 2581 3239 2228 \nQ 2838 1875 2053 1875 \nL 1259 1875 \nL 1259 0 \nL 628 0 \nL 628 4666 \nz\n\" transform=\"scale(0.015625)\"/>\n       <path id=\"DejaVuSans-28\" d=\"M 1984 4856 \nQ 1566 4138 1362 3434 \nQ 1159 2731 1159 2009 \nQ 1159 1288 1364 580 \nQ 1569 -128 1984 -844 \nL 1484 -844 \nQ 1016 -109 783 600 \nQ 550 1309 550 2009 \nQ 550 2706 781 3412 \nQ 1013 4119 1484 4856 \nL 1984 4856 \nz\n\" transform=\"scale(0.015625)\"/>\n       <path id=\"DejaVuSans-3d\" d=\"M 678 2906 \nL 4684 2906 \nL 4684 2381 \nL 678 2381 \nL 678 2906 \nz\nM 678 1631 \nL 4684 1631 \nL 4684 1100 \nL 678 1100 \nL 678 1631 \nz\n\" transform=\"scale(0.015625)\"/>\n       <path id=\"DejaVuSans-29\" d=\"M 513 4856 \nL 1013 4856 \nQ 1481 4119 1714 3412 \nQ 1947 2706 1947 2009 \nQ 1947 1309 1714 600 \nQ 1481 -109 1013 -844 \nL 513 -844 \nQ 928 -128 1133 580 \nQ 1338 1288 1338 2009 \nQ 1338 2731 1133 3434 \nQ 928 4138 513 4856 \nz\n\" transform=\"scale(0.015625)\"/>\n      </defs>\n      <use xlink:href=\"#DejaVuSans-50\"/>\n      <use xlink:href=\"#DejaVuSans-28\" x=\"60.302734\"/>\n      <use xlink:href=\"#DejaVuSans-64\" x=\"99.316406\"/>\n      <use xlink:href=\"#DejaVuSans-69\" x=\"162.792969\"/>\n      <use xlink:href=\"#DejaVuSans-65\" x=\"190.576172\"/>\n      <use xlink:href=\"#DejaVuSans-3d\" x=\"252.099609\"/>\n      <use xlink:href=\"#DejaVuSans-31\" x=\"335.888672\"/>\n      <use xlink:href=\"#DejaVuSans-29\" x=\"399.511719\"/>\n     </g>\n    </g>\n    <g id=\"line2d_24\">\n     <path d=\"M 304.089063 34.976563 \nL 314.089063 34.976563 \nL 324.089063 34.976563 \n\" style=\"fill: none; stroke: #ff7f0e; stroke-width: 1.5; stroke-linecap: square\"/>\n    </g>\n    <g id=\"text_19\">\n     <!-- P(die=2) -->\n     <g transform=\"translate(332.089063 38.476563)scale(0.1 -0.1)\">\n      <use xlink:href=\"#DejaVuSans-50\"/>\n      <use xlink:href=\"#DejaVuSans-28\" x=\"60.302734\"/>\n      <use xlink:href=\"#DejaVuSans-64\" x=\"99.316406\"/>\n      <use xlink:href=\"#DejaVuSans-69\" x=\"162.792969\"/>\n      <use xlink:href=\"#DejaVuSans-65\" x=\"190.576172\"/>\n      <use xlink:href=\"#DejaVuSans-3d\" x=\"252.099609\"/>\n      <use xlink:href=\"#DejaVuSans-32\" x=\"335.888672\"/>\n      <use xlink:href=\"#DejaVuSans-29\" x=\"399.511719\"/>\n     </g>\n    </g>\n    <g id=\"line2d_25\">\n     <path d=\"M 304.089063 49.654688 \nL 314.089063 49.654688 \nL 324.089063 49.654688 \n\" style=\"fill: none; stroke: #2ca02c; stroke-width: 1.5; stroke-linecap: square\"/>\n    </g>\n    <g id=\"text_20\">\n     <!-- P(die=3) -->\n     <g transform=\"translate(332.089063 53.154688)scale(0.1 -0.1)\">\n      <use xlink:href=\"#DejaVuSans-50\"/>\n      <use xlink:href=\"#DejaVuSans-28\" x=\"60.302734\"/>\n      <use xlink:href=\"#DejaVuSans-64\" x=\"99.316406\"/>\n      <use xlink:href=\"#DejaVuSans-69\" x=\"162.792969\"/>\n      <use xlink:href=\"#DejaVuSans-65\" x=\"190.576172\"/>\n      <use xlink:href=\"#DejaVuSans-3d\" x=\"252.099609\"/>\n      <use xlink:href=\"#DejaVuSans-33\" x=\"335.888672\"/>\n      <use xlink:href=\"#DejaVuSans-29\" x=\"399.511719\"/>\n     </g>\n    </g>\n    <g id=\"line2d_26\">\n     <path d=\"M 304.089063 64.332813 \nL 314.089063 64.332813 \nL 324.089063 64.332813 \n\" style=\"fill: none; stroke: #d62728; stroke-width: 1.5; stroke-linecap: square\"/>\n    </g>\n    <g id=\"text_21\">\n     <!-- P(die=4) -->\n     <g transform=\"translate(332.089063 67.832813)scale(0.1 -0.1)\">\n      <use xlink:href=\"#DejaVuSans-50\"/>\n      <use xlink:href=\"#DejaVuSans-28\" x=\"60.302734\"/>\n      <use xlink:href=\"#DejaVuSans-64\" x=\"99.316406\"/>\n      <use xlink:href=\"#DejaVuSans-69\" x=\"162.792969\"/>\n      <use xlink:href=\"#DejaVuSans-65\" x=\"190.576172\"/>\n      <use xlink:href=\"#DejaVuSans-3d\" x=\"252.099609\"/>\n      <use xlink:href=\"#DejaVuSans-34\" x=\"335.888672\"/>\n      <use xlink:href=\"#DejaVuSans-29\" x=\"399.511719\"/>\n     </g>\n    </g>\n    <g id=\"line2d_27\">\n     <path d=\"M 304.089063 79.010938 \nL 314.089063 79.010938 \nL 324.089063 79.010938 \n\" style=\"fill: none; stroke: #9467bd; stroke-width: 1.5; stroke-linecap: square\"/>\n    </g>\n    <g id=\"text_22\">\n     <!-- P(die=5) -->\n     <g transform=\"translate(332.089063 82.510938)scale(0.1 -0.1)\">\n      <use xlink:href=\"#DejaVuSans-50\"/>\n      <use xlink:href=\"#DejaVuSans-28\" x=\"60.302734\"/>\n      <use xlink:href=\"#DejaVuSans-64\" x=\"99.316406\"/>\n      <use xlink:href=\"#DejaVuSans-69\" x=\"162.792969\"/>\n      <use xlink:href=\"#DejaVuSans-65\" x=\"190.576172\"/>\n      <use xlink:href=\"#DejaVuSans-3d\" x=\"252.099609\"/>\n      <use xlink:href=\"#DejaVuSans-35\" x=\"335.888672\"/>\n      <use xlink:href=\"#DejaVuSans-29\" x=\"399.511719\"/>\n     </g>\n    </g>\n    <g id=\"line2d_28\">\n     <path d=\"M 304.089063 93.689063 \nL 314.089063 93.689063 \nL 324.089063 93.689063 \n\" style=\"fill: none; stroke: #8c564b; stroke-width: 1.5; stroke-linecap: square\"/>\n    </g>\n    <g id=\"text_23\">\n     <!-- P(die=6) -->\n     <g transform=\"translate(332.089063 97.189063)scale(0.1 -0.1)\">\n      <defs>\n       <path id=\"DejaVuSans-36\" d=\"M 2113 2584 \nQ 1688 2584 1439 2293 \nQ 1191 2003 1191 1497 \nQ 1191 994 1439 701 \nQ 1688 409 2113 409 \nQ 2538 409 2786 701 \nQ 3034 994 3034 1497 \nQ 3034 2003 2786 2293 \nQ 2538 2584 2113 2584 \nz\nM 3366 4563 \nL 3366 3988 \nQ 3128 4100 2886 4159 \nQ 2644 4219 2406 4219 \nQ 1781 4219 1451 3797 \nQ 1122 3375 1075 2522 \nQ 1259 2794 1537 2939 \nQ 1816 3084 2150 3084 \nQ 2853 3084 3261 2657 \nQ 3669 2231 3669 1497 \nQ 3669 778 3244 343 \nQ 2819 -91 2113 -91 \nQ 1303 -91 875 529 \nQ 447 1150 447 2328 \nQ 447 3434 972 4092 \nQ 1497 4750 2381 4750 \nQ 2619 4750 2861 4703 \nQ 3103 4656 3366 4563 \nz\n\" transform=\"scale(0.015625)\"/>\n      </defs>\n      <use xlink:href=\"#DejaVuSans-50\"/>\n      <use xlink:href=\"#DejaVuSans-28\" x=\"60.302734\"/>\n      <use xlink:href=\"#DejaVuSans-64\" x=\"99.316406\"/>\n      <use xlink:href=\"#DejaVuSans-69\" x=\"162.792969\"/>\n      <use xlink:href=\"#DejaVuSans-65\" x=\"190.576172\"/>\n      <use xlink:href=\"#DejaVuSans-3d\" x=\"252.099609\"/>\n      <use xlink:href=\"#DejaVuSans-36\" x=\"335.888672\"/>\n      <use xlink:href=\"#DejaVuSans-29\" x=\"399.511719\"/>\n     </g>\n    </g>\n   </g>\n  </g>\n </g>\n <defs>\n  <clipPath id=\"pe0f8ecf4f9\">\n   <rect x=\"50.14375\" y=\"7.2\" width=\"334.8\" height=\"249.48\"/>\n  </clipPath>\n </defs>\n</svg>\n"
     },
     "metadata": {},
     "output_type": "display_data"
    }
   ],
   "source": [
    "# 进行500组实验，每组抽取10个样本\n",
    "counts = multinomial.Multinomial(10, fair_probs).sample((500,))\n",
    "print(counts)\n",
    "cum_counts=counts.cumsum(dim=0)\n",
    "print(cum_counts)\n",
    "estimates=cum_counts/cum_counts.sum(dim=1,keepdims=True)\n",
    "print(estimates)\n",
    "\n",
    "d2l.set_figsize((6,4.5))\n",
    "for i in range(6):\n",
    "    d2l.plt.plot(estimates[:, i].numpy(),\n",
    "                 label=(\"P(die=\" + str(i + 1) + \")\"))\n",
    "d2l.plt.axhline(y=0.167, color='black', linestyle='dashed')\n",
    "d2l.plt.gca().set_xlabel('Groups of experiments')\n",
    "d2l.plt.gca().set_ylabel('Estimated probability')\n",
    "d2l.plt.legend();"
   ],
   "metadata": {
    "collapsed": false,
    "pycharm": {
     "name": "#%%\n"
    }
   }
  },
  {
   "cell_type": "code",
   "execution_count": 36,
   "outputs": [
    {
     "data": {
      "text/plain": "<Figure size 600x450 with 1 Axes>",
      "image/svg+xml": "<?xml version=\"1.0\" encoding=\"utf-8\" standalone=\"no\"?>\n<!DOCTYPE svg PUBLIC \"-//W3C//DTD SVG 1.1//EN\"\n  \"http://www.w3.org/Graphics/SVG/1.1/DTD/svg11.dtd\">\n<svg xmlns:xlink=\"http://www.w3.org/1999/xlink\" width=\"378.465625pt\" height=\"280.558125pt\" viewBox=\"0 0 378.465625 280.558125\" xmlns=\"http://www.w3.org/2000/svg\" version=\"1.1\">\n <metadata>\n  <rdf:RDF xmlns:dc=\"http://purl.org/dc/elements/1.1/\" xmlns:cc=\"http://creativecommons.org/ns#\" xmlns:rdf=\"http://www.w3.org/1999/02/22-rdf-syntax-ns#\">\n   <cc:Work>\n    <dc:type rdf:resource=\"http://purl.org/dc/dcmitype/StillImage\"/>\n    <dc:date>2023-05-20T12:22:20.392869</dc:date>\n    <dc:format>image/svg+xml</dc:format>\n    <dc:creator>\n     <cc:Agent>\n      <dc:title>Matplotlib v3.5.1, https://matplotlib.org/</dc:title>\n     </cc:Agent>\n    </dc:creator>\n   </cc:Work>\n  </rdf:RDF>\n </metadata>\n <defs>\n  <style type=\"text/css\">*{stroke-linejoin: round; stroke-linecap: butt}</style>\n </defs>\n <g id=\"figure_1\">\n  <g id=\"patch_1\">\n   <path d=\"M 0 280.558125 \nL 378.465625 280.558125 \nL 378.465625 0 \nL 0 0 \nz\n\" style=\"fill: #ffffff\"/>\n  </g>\n  <g id=\"axes_1\">\n   <g id=\"patch_2\">\n    <path d=\"M 36.465625 256.68 \nL 371.265625 256.68 \nL 371.265625 7.2 \nL 36.465625 7.2 \nz\n\" style=\"fill: #ffffff\"/>\n   </g>\n   <g id=\"matplotlib.axis_1\">\n    <g id=\"xtick_1\">\n     <g id=\"line2d_1\">\n      <defs>\n       <path id=\"m966b012fab\" d=\"M 0 0 \nL 0 3.5 \n\" style=\"stroke: #000000; stroke-width: 0.8\"/>\n      </defs>\n      <g>\n       <use xlink:href=\"#m966b012fab\" x=\"51.683807\" y=\"256.68\" style=\"stroke: #000000; stroke-width: 0.8\"/>\n      </g>\n     </g>\n     <g id=\"text_1\">\n      <!-- 0 -->\n      <g transform=\"translate(48.502557 271.278438)scale(0.1 -0.1)\">\n       <defs>\n        <path id=\"DejaVuSans-30\" d=\"M 2034 4250 \nQ 1547 4250 1301 3770 \nQ 1056 3291 1056 2328 \nQ 1056 1369 1301 889 \nQ 1547 409 2034 409 \nQ 2525 409 2770 889 \nQ 3016 1369 3016 2328 \nQ 3016 3291 2770 3770 \nQ 2525 4250 2034 4250 \nz\nM 2034 4750 \nQ 2819 4750 3233 4129 \nQ 3647 3509 3647 2328 \nQ 3647 1150 3233 529 \nQ 2819 -91 2034 -91 \nQ 1250 -91 836 529 \nQ 422 1150 422 2328 \nQ 422 3509 836 4129 \nQ 1250 4750 2034 4750 \nz\n\" transform=\"scale(0.015625)\"/>\n       </defs>\n       <use xlink:href=\"#DejaVuSans-30\"/>\n      </g>\n     </g>\n    </g>\n    <g id=\"xtick_2\">\n     <g id=\"line2d_2\">\n      <g>\n       <use xlink:href=\"#m966b012fab\" x=\"112.678524\" y=\"256.68\" style=\"stroke: #000000; stroke-width: 0.8\"/>\n      </g>\n     </g>\n     <g id=\"text_2\">\n      <!-- 100 -->\n      <g transform=\"translate(103.134774 271.278438)scale(0.1 -0.1)\">\n       <defs>\n        <path id=\"DejaVuSans-31\" d=\"M 794 531 \nL 1825 531 \nL 1825 4091 \nL 703 3866 \nL 703 4441 \nL 1819 4666 \nL 2450 4666 \nL 2450 531 \nL 3481 531 \nL 3481 0 \nL 794 0 \nL 794 531 \nz\n\" transform=\"scale(0.015625)\"/>\n       </defs>\n       <use xlink:href=\"#DejaVuSans-31\"/>\n       <use xlink:href=\"#DejaVuSans-30\" x=\"63.623047\"/>\n       <use xlink:href=\"#DejaVuSans-30\" x=\"127.246094\"/>\n      </g>\n     </g>\n    </g>\n    <g id=\"xtick_3\">\n     <g id=\"line2d_3\">\n      <g>\n       <use xlink:href=\"#m966b012fab\" x=\"173.67324\" y=\"256.68\" style=\"stroke: #000000; stroke-width: 0.8\"/>\n      </g>\n     </g>\n     <g id=\"text_3\">\n      <!-- 200 -->\n      <g transform=\"translate(164.12949 271.278438)scale(0.1 -0.1)\">\n       <defs>\n        <path id=\"DejaVuSans-32\" d=\"M 1228 531 \nL 3431 531 \nL 3431 0 \nL 469 0 \nL 469 531 \nQ 828 903 1448 1529 \nQ 2069 2156 2228 2338 \nQ 2531 2678 2651 2914 \nQ 2772 3150 2772 3378 \nQ 2772 3750 2511 3984 \nQ 2250 4219 1831 4219 \nQ 1534 4219 1204 4116 \nQ 875 4013 500 3803 \nL 500 4441 \nQ 881 4594 1212 4672 \nQ 1544 4750 1819 4750 \nQ 2544 4750 2975 4387 \nQ 3406 4025 3406 3419 \nQ 3406 3131 3298 2873 \nQ 3191 2616 2906 2266 \nQ 2828 2175 2409 1742 \nQ 1991 1309 1228 531 \nz\n\" transform=\"scale(0.015625)\"/>\n       </defs>\n       <use xlink:href=\"#DejaVuSans-32\"/>\n       <use xlink:href=\"#DejaVuSans-30\" x=\"63.623047\"/>\n       <use xlink:href=\"#DejaVuSans-30\" x=\"127.246094\"/>\n      </g>\n     </g>\n    </g>\n    <g id=\"xtick_4\">\n     <g id=\"line2d_4\">\n      <g>\n       <use xlink:href=\"#m966b012fab\" x=\"234.667957\" y=\"256.68\" style=\"stroke: #000000; stroke-width: 0.8\"/>\n      </g>\n     </g>\n     <g id=\"text_4\">\n      <!-- 300 -->\n      <g transform=\"translate(225.124207 271.278438)scale(0.1 -0.1)\">\n       <defs>\n        <path id=\"DejaVuSans-33\" d=\"M 2597 2516 \nQ 3050 2419 3304 2112 \nQ 3559 1806 3559 1356 \nQ 3559 666 3084 287 \nQ 2609 -91 1734 -91 \nQ 1441 -91 1130 -33 \nQ 819 25 488 141 \nL 488 750 \nQ 750 597 1062 519 \nQ 1375 441 1716 441 \nQ 2309 441 2620 675 \nQ 2931 909 2931 1356 \nQ 2931 1769 2642 2001 \nQ 2353 2234 1838 2234 \nL 1294 2234 \nL 1294 2753 \nL 1863 2753 \nQ 2328 2753 2575 2939 \nQ 2822 3125 2822 3475 \nQ 2822 3834 2567 4026 \nQ 2313 4219 1838 4219 \nQ 1578 4219 1281 4162 \nQ 984 4106 628 3988 \nL 628 4550 \nQ 988 4650 1302 4700 \nQ 1616 4750 1894 4750 \nQ 2613 4750 3031 4423 \nQ 3450 4097 3450 3541 \nQ 3450 3153 3228 2886 \nQ 3006 2619 2597 2516 \nz\n\" transform=\"scale(0.015625)\"/>\n       </defs>\n       <use xlink:href=\"#DejaVuSans-33\"/>\n       <use xlink:href=\"#DejaVuSans-30\" x=\"63.623047\"/>\n       <use xlink:href=\"#DejaVuSans-30\" x=\"127.246094\"/>\n      </g>\n     </g>\n    </g>\n    <g id=\"xtick_5\">\n     <g id=\"line2d_5\">\n      <g>\n       <use xlink:href=\"#m966b012fab\" x=\"295.662674\" y=\"256.68\" style=\"stroke: #000000; stroke-width: 0.8\"/>\n      </g>\n     </g>\n     <g id=\"text_5\">\n      <!-- 400 -->\n      <g transform=\"translate(286.118924 271.278438)scale(0.1 -0.1)\">\n       <defs>\n        <path id=\"DejaVuSans-34\" d=\"M 2419 4116 \nL 825 1625 \nL 2419 1625 \nL 2419 4116 \nz\nM 2253 4666 \nL 3047 4666 \nL 3047 1625 \nL 3713 1625 \nL 3713 1100 \nL 3047 1100 \nL 3047 0 \nL 2419 0 \nL 2419 1100 \nL 313 1100 \nL 313 1709 \nL 2253 4666 \nz\n\" transform=\"scale(0.015625)\"/>\n       </defs>\n       <use xlink:href=\"#DejaVuSans-34\"/>\n       <use xlink:href=\"#DejaVuSans-30\" x=\"63.623047\"/>\n       <use xlink:href=\"#DejaVuSans-30\" x=\"127.246094\"/>\n      </g>\n     </g>\n    </g>\n    <g id=\"xtick_6\">\n     <g id=\"line2d_6\">\n      <g>\n       <use xlink:href=\"#m966b012fab\" x=\"356.65739\" y=\"256.68\" style=\"stroke: #000000; stroke-width: 0.8\"/>\n      </g>\n     </g>\n     <g id=\"text_6\">\n      <!-- 500 -->\n      <g transform=\"translate(347.11364 271.278438)scale(0.1 -0.1)\">\n       <defs>\n        <path id=\"DejaVuSans-35\" d=\"M 691 4666 \nL 3169 4666 \nL 3169 4134 \nL 1269 4134 \nL 1269 2991 \nQ 1406 3038 1543 3061 \nQ 1681 3084 1819 3084 \nQ 2600 3084 3056 2656 \nQ 3513 2228 3513 1497 \nQ 3513 744 3044 326 \nQ 2575 -91 1722 -91 \nQ 1428 -91 1123 -41 \nQ 819 9 494 109 \nL 494 744 \nQ 775 591 1075 516 \nQ 1375 441 1709 441 \nQ 2250 441 2565 725 \nQ 2881 1009 2881 1497 \nQ 2881 1984 2565 2268 \nQ 2250 2553 1709 2553 \nQ 1456 2553 1204 2497 \nQ 953 2441 691 2322 \nL 691 4666 \nz\n\" transform=\"scale(0.015625)\"/>\n       </defs>\n       <use xlink:href=\"#DejaVuSans-35\"/>\n       <use xlink:href=\"#DejaVuSans-30\" x=\"63.623047\"/>\n       <use xlink:href=\"#DejaVuSans-30\" x=\"127.246094\"/>\n      </g>\n     </g>\n    </g>\n   </g>\n   <g id=\"matplotlib.axis_2\">\n    <g id=\"ytick_1\">\n     <g id=\"line2d_7\">\n      <defs>\n       <path id=\"m44796a6ee7\" d=\"M 0 0 \nL -3.5 0 \n\" style=\"stroke: #000000; stroke-width: 0.8\"/>\n      </defs>\n      <g>\n       <use xlink:href=\"#m44796a6ee7\" x=\"36.465625\" y=\"245.34\" style=\"stroke: #000000; stroke-width: 0.8\"/>\n      </g>\n     </g>\n     <g id=\"text_7\">\n      <!-- 0.00 -->\n      <g transform=\"translate(7.2 249.139219)scale(0.1 -0.1)\">\n       <defs>\n        <path id=\"DejaVuSans-2e\" d=\"M 684 794 \nL 1344 794 \nL 1344 0 \nL 684 0 \nL 684 794 \nz\n\" transform=\"scale(0.015625)\"/>\n       </defs>\n       <use xlink:href=\"#DejaVuSans-30\"/>\n       <use xlink:href=\"#DejaVuSans-2e\" x=\"63.623047\"/>\n       <use xlink:href=\"#DejaVuSans-30\" x=\"95.410156\"/>\n       <use xlink:href=\"#DejaVuSans-30\" x=\"159.033203\"/>\n      </g>\n     </g>\n    </g>\n    <g id=\"ytick_2\">\n     <g id=\"line2d_8\">\n      <g>\n       <use xlink:href=\"#m44796a6ee7\" x=\"36.465625\" y=\"216.99\" style=\"stroke: #000000; stroke-width: 0.8\"/>\n      </g>\n     </g>\n     <g id=\"text_8\">\n      <!-- 0.05 -->\n      <g transform=\"translate(7.2 220.789219)scale(0.1 -0.1)\">\n       <use xlink:href=\"#DejaVuSans-30\"/>\n       <use xlink:href=\"#DejaVuSans-2e\" x=\"63.623047\"/>\n       <use xlink:href=\"#DejaVuSans-30\" x=\"95.410156\"/>\n       <use xlink:href=\"#DejaVuSans-35\" x=\"159.033203\"/>\n      </g>\n     </g>\n    </g>\n    <g id=\"ytick_3\">\n     <g id=\"line2d_9\">\n      <g>\n       <use xlink:href=\"#m44796a6ee7\" x=\"36.465625\" y=\"188.640001\" style=\"stroke: #000000; stroke-width: 0.8\"/>\n      </g>\n     </g>\n     <g id=\"text_9\">\n      <!-- 0.10 -->\n      <g transform=\"translate(7.2 192.43922)scale(0.1 -0.1)\">\n       <use xlink:href=\"#DejaVuSans-30\"/>\n       <use xlink:href=\"#DejaVuSans-2e\" x=\"63.623047\"/>\n       <use xlink:href=\"#DejaVuSans-31\" x=\"95.410156\"/>\n       <use xlink:href=\"#DejaVuSans-30\" x=\"159.033203\"/>\n      </g>\n     </g>\n    </g>\n    <g id=\"ytick_4\">\n     <g id=\"line2d_10\">\n      <g>\n       <use xlink:href=\"#m44796a6ee7\" x=\"36.465625\" y=\"160.290001\" style=\"stroke: #000000; stroke-width: 0.8\"/>\n      </g>\n     </g>\n     <g id=\"text_10\">\n      <!-- 0.15 -->\n      <g transform=\"translate(7.2 164.08922)scale(0.1 -0.1)\">\n       <use xlink:href=\"#DejaVuSans-30\"/>\n       <use xlink:href=\"#DejaVuSans-2e\" x=\"63.623047\"/>\n       <use xlink:href=\"#DejaVuSans-31\" x=\"95.410156\"/>\n       <use xlink:href=\"#DejaVuSans-35\" x=\"159.033203\"/>\n      </g>\n     </g>\n    </g>\n    <g id=\"ytick_5\">\n     <g id=\"line2d_11\">\n      <g>\n       <use xlink:href=\"#m44796a6ee7\" x=\"36.465625\" y=\"131.940002\" style=\"stroke: #000000; stroke-width: 0.8\"/>\n      </g>\n     </g>\n     <g id=\"text_11\">\n      <!-- 0.20 -->\n      <g transform=\"translate(7.2 135.73922)scale(0.1 -0.1)\">\n       <use xlink:href=\"#DejaVuSans-30\"/>\n       <use xlink:href=\"#DejaVuSans-2e\" x=\"63.623047\"/>\n       <use xlink:href=\"#DejaVuSans-32\" x=\"95.410156\"/>\n       <use xlink:href=\"#DejaVuSans-30\" x=\"159.033203\"/>\n      </g>\n     </g>\n    </g>\n    <g id=\"ytick_6\">\n     <g id=\"line2d_12\">\n      <g>\n       <use xlink:href=\"#m44796a6ee7\" x=\"36.465625\" y=\"103.590002\" style=\"stroke: #000000; stroke-width: 0.8\"/>\n      </g>\n     </g>\n     <g id=\"text_12\">\n      <!-- 0.25 -->\n      <g transform=\"translate(7.2 107.389221)scale(0.1 -0.1)\">\n       <use xlink:href=\"#DejaVuSans-30\"/>\n       <use xlink:href=\"#DejaVuSans-2e\" x=\"63.623047\"/>\n       <use xlink:href=\"#DejaVuSans-32\" x=\"95.410156\"/>\n       <use xlink:href=\"#DejaVuSans-35\" x=\"159.033203\"/>\n      </g>\n     </g>\n    </g>\n    <g id=\"ytick_7\">\n     <g id=\"line2d_13\">\n      <g>\n       <use xlink:href=\"#m44796a6ee7\" x=\"36.465625\" y=\"75.240003\" style=\"stroke: #000000; stroke-width: 0.8\"/>\n      </g>\n     </g>\n     <g id=\"text_13\">\n      <!-- 0.30 -->\n      <g transform=\"translate(7.2 79.039221)scale(0.1 -0.1)\">\n       <use xlink:href=\"#DejaVuSans-30\"/>\n       <use xlink:href=\"#DejaVuSans-2e\" x=\"63.623047\"/>\n       <use xlink:href=\"#DejaVuSans-33\" x=\"95.410156\"/>\n       <use xlink:href=\"#DejaVuSans-30\" x=\"159.033203\"/>\n      </g>\n     </g>\n    </g>\n    <g id=\"ytick_8\">\n     <g id=\"line2d_14\">\n      <g>\n       <use xlink:href=\"#m44796a6ee7\" x=\"36.465625\" y=\"46.890003\" style=\"stroke: #000000; stroke-width: 0.8\"/>\n      </g>\n     </g>\n     <g id=\"text_14\">\n      <!-- 0.35 -->\n      <g transform=\"translate(7.2 50.689222)scale(0.1 -0.1)\">\n       <use xlink:href=\"#DejaVuSans-30\"/>\n       <use xlink:href=\"#DejaVuSans-2e\" x=\"63.623047\"/>\n       <use xlink:href=\"#DejaVuSans-33\" x=\"95.410156\"/>\n       <use xlink:href=\"#DejaVuSans-35\" x=\"159.033203\"/>\n      </g>\n     </g>\n    </g>\n    <g id=\"ytick_9\">\n     <g id=\"line2d_15\">\n      <g>\n       <use xlink:href=\"#m44796a6ee7\" x=\"36.465625\" y=\"18.540003\" style=\"stroke: #000000; stroke-width: 0.8\"/>\n      </g>\n     </g>\n     <g id=\"text_15\">\n      <!-- 0.40 -->\n      <g transform=\"translate(7.2 22.339222)scale(0.1 -0.1)\">\n       <use xlink:href=\"#DejaVuSans-30\"/>\n       <use xlink:href=\"#DejaVuSans-2e\" x=\"63.623047\"/>\n       <use xlink:href=\"#DejaVuSans-34\" x=\"95.410156\"/>\n       <use xlink:href=\"#DejaVuSans-30\" x=\"159.033203\"/>\n      </g>\n     </g>\n    </g>\n   </g>\n   <g id=\"line2d_16\">\n    <path d=\"M 51.683807 131.94 \nL 52.293754 188.64 \nL 54.123595 188.64 \nL 54.733543 160.289998 \nL 55.34349 148.139999 \nL 55.953437 153.202505 \nL 56.563384 150.839999 \nL 57.783278 147.403638 \nL 58.393226 136.665004 \nL 59.003173 140.663076 \nL 59.61312 140.039999 \nL 60.223067 128.160004 \nL 61.442961 135.275294 \nL 62.052909 125.64 \nL 63.272803 126.270005 \nL 63.88275 129.24 \nL 64.492697 126.78546 \nL 65.102644 129.474788 \nL 65.712592 129.577502 \nL 66.322539 131.94 \nL 66.932486 136.301538 \nL 67.542433 136.140003 \nL 68.762327 139.760694 \nL 69.372275 141.389999 \nL 69.982222 144.74323 \nL 70.592169 146.115003 \nL 71.202116 145.685458 \nL 71.812063 148.616469 \nL 73.031958 150.839999 \nL 73.641905 144.199464 \nL 74.251852 143.87684 \nL 74.861799 145.024614 \nL 75.471746 147.532502 \nL 76.081694 148.535123 \nL 76.691641 145.439999 \nL 77.301588 143.807441 \nL 77.911535 143.537733 \nL 78.521482 142.020004 \nL 79.131429 141.800872 \nL 79.741377 142.797452 \nL 80.351324 142.571248 \nL 80.961271 143.511431 \nL 81.571218 143.279997 \nL 83.40106 145.847551 \nL 84.011007 146.640005 \nL 84.620954 145.341822 \nL 85.840848 144.871578 \nL 86.450795 145.626206 \nL 87.060743 147.316276 \nL 87.67069 148.005001 \nL 88.280637 147.741639 \nL 88.890584 148.401291 \nL 89.500531 146.339999 \nL 90.110478 145.229062 \nL 90.720426 145.024614 \nL 91.330373 143.967278 \nL 92.550267 145.281175 \nL 93.160214 145.08783 \nL 93.770161 145.710002 \nL 94.380109 147.113239 \nL 94.990056 146.902505 \nL 95.600003 147.474246 \nL 96.20995 147.264323 \nL 97.429844 148.353158 \nL 98.039792 148.139999 \nL 99.259686 149.165314 \nL 100.47958 148.740002 \nL 101.699475 149.701451 \nL 102.309422 148.815003 \nL 102.919369 147.282353 \nL 103.529316 146.444656 \nL 104.139263 146.92966 \nL 104.74921 148.047956 \nL 105.969105 148.95 \nL 107.798946 146.572261 \nL 108.408893 147.019785 \nL 109.018841 148.05474 \nL 109.628788 147.296252 \nL 110.848682 148.139999 \nL 112.068576 147.815998 \nL 113.288471 148.616469 \nL 113.898418 147.904079 \nL 114.508365 147.750578 \nL 115.728259 146.382455 \nL 116.338207 146.247474 \nL 116.948154 146.640005 \nL 117.558101 147.545505 \nL 118.168048 147.403638 \nL 118.777995 147.775139 \nL 119.387942 147.127501 \nL 119.99789 145.989561 \nL 120.607837 146.36369 \nL 121.217784 145.252179 \nL 122.437678 145.993845 \nL 123.047625 145.874749 \nL 123.657573 144.804705 \nL 124.26752 143.279997 \nL 124.877467 144.123474 \nL 125.487414 144.488359 \nL 126.097361 145.308297 \nL 126.707308 145.657746 \nL 127.317256 145.548002 \nL 127.927203 145.889999 \nL 129.147097 147.443906 \nL 129.757044 147.32372 \nL 130.976939 147.954502 \nL 132.196833 149.418951 \nL 132.80678 149.288508 \nL 133.416727 149.580005 \nL 134.636622 149.322481 \nL 135.246569 149.607389 \nL 135.856516 149.072375 \nL 136.466463 148.95 \nL 137.07641 149.633623 \nL 137.686357 149.908315 \nL 138.296305 150.575664 \nL 138.906252 150.446252 \nL 139.516199 151.100691 \nL 140.736093 151.611431 \nL 141.34604 152.244731 \nL 141.955988 151.347384 \nL 142.565935 151.596003 \nL 143.175882 151.46583 \nL 143.785829 152.083423 \nL 144.395776 151.951763 \nL 145.005723 150.349089 \nL 146.225618 150.839999 \nL 146.835565 150.719618 \nL 147.445512 149.883036 \nL 148.055459 149.770191 \nL 149.275354 148.844346 \nL 149.885301 149.09 \nL 150.495248 148.984785 \nL 151.105195 148.535123 \nL 151.715142 149.121818 \nL 152.325089 149.359885 \nL 153.544984 149.152505 \nL 154.764878 149.617063 \nL 155.374825 149.51369 \nL 155.984772 149.741161 \nL 157.204667 149.536552 \nL 157.814614 148.463999 \nL 159.644455 148.185505 \nL 160.254403 147.461226 \nL 162.084244 147.205383 \nL 162.694191 147.431807 \nL 163.304138 147.963914 \nL 163.914086 147.877295 \nL 166.353874 148.740002 \nL 166.963821 149.248426 \nL 167.573769 149.157803 \nL 168.793663 149.566943 \nL 169.40361 149.183817 \nL 170.013557 149.386153 \nL 170.623504 148.718575 \nL 171.233452 149.209037 \nL 171.843399 149.408187 \nL 172.453346 149.320403 \nL 173.67324 148.583282 \nL 174.283187 148.500896 \nL 174.893135 148.977933 \nL 175.503082 149.172352 \nL 177.94287 148.840967 \nL 178.552818 148.488806 \nL 180.382659 149.056981 \nL 180.992606 148.976623 \nL 182.822448 150.314997 \nL 183.432395 149.707745 \nL 184.652289 150.581097 \nL 185.262236 150.496363 \nL 185.872184 150.155836 \nL 186.482131 150.329191 \nL 187.702025 151.177501 \nL 189.531867 151.672601 \nL 190.751761 151.500259 \nL 191.361708 151.90826 \nL 191.971655 151.821818 \nL 192.581602 151.980515 \nL 193.19155 151.407811 \nL 193.801497 151.809229 \nL 194.411444 151.724681 \nL 195.631338 152.036202 \nL 196.241285 152.428234 \nL 196.851233 152.579749 \nL 197.46118 152.966255 \nL 198.071127 152.408463 \nL 198.681074 152.323889 \nL 199.291021 152.473334 \nL 201.73081 153.977249 \nL 202.950704 154.255667 \nL 203.560651 153.9396 \nL 204.170599 154.077851 \nL 204.780546 153.989998 \nL 205.390493 154.126956 \nL 206.610387 153.952941 \nL 207.220334 154.309927 \nL 207.830282 154.443505 \nL 208.440229 154.795818 \nL 209.050176 154.707568 \nL 209.660123 154.401927 \nL 210.880017 154.663287 \nL 212.099912 154.49114 \nL 212.709859 154.620003 \nL 215.149648 154.282755 \nL 216.979489 155.287057 \nL 218.199383 155.116642 \nL 218.809331 154.826183 \nL 219.419278 153.92152 \nL 220.029225 154.04686 \nL 223.078961 153.654896 \nL 223.688908 153.377812 \nL 224.298855 153.50197 \nL 224.908802 153.22737 \nL 225.518749 153.35119 \nL 226.128697 153.276585 \nL 226.738644 153.005627 \nL 227.348591 152.932738 \nL 229.178432 153.299592 \nL 229.78838 152.452626 \nL 230.398327 152.768575 \nL 231.008274 152.890172 \nL 231.618221 152.819395 \nL 232.228168 152.940004 \nL 232.838115 152.869531 \nL 233.448063 152.609903 \nL 234.667957 152.849305 \nL 235.277904 152.780065 \nL 235.887851 152.898418 \nL 236.497798 152.829475 \nL 237.107746 153.132792 \nL 237.717693 153.063528 \nL 238.937587 153.294548 \nL 239.547534 153.041941 \nL 240.157481 152.60807 \nL 240.767429 152.723922 \nL 241.377376 152.475582 \nL 241.987323 152.591121 \nL 242.59727 152.886497 \nL 243.207217 152.820004 \nL 243.817164 152.933355 \nL 244.427112 152.688267 \nL 245.037059 152.979621 \nL 245.647006 152.913669 \nL 246.8669 153.136265 \nL 247.476847 152.718261 \nL 248.696742 152.239999 \nL 249.306689 152.351999 \nL 249.916636 152.115462 \nL 251.13653 151.992437 \nL 251.746478 151.414469 \nL 252.356425 151.183635 \nL 252.966372 151.468094 \nL 254.186266 151.350814 \nL 254.796213 151.122937 \nL 255.406161 150.557913 \nL 257.236002 150.39266 \nL 257.845949 150.505487 \nL 258.455896 150.284116 \nL 259.065844 150.562873 \nL 259.675791 150.674213 \nL 260.285738 150.619591 \nL 260.895685 150.894942 \nL 261.505632 150.675649 \nL 262.725527 150.567663 \nL 263.945421 151.110779 \nL 264.555368 151.218005 \nL 265.165315 151.001543 \nL 266.38521 151.214786 \nL 266.995157 150.679832 \nL 267.605104 150.946481 \nL 268.215051 151.052363 \nL 268.824998 150.998822 \nL 269.434945 151.103969 \nL 270.044893 150.734708 \nL 271.264787 151.258839 \nL 272.484681 151.464791 \nL 274.314523 151.304759 \nL 274.92447 151.560982 \nL 275.534417 151.661744 \nL 276.144364 151.454635 \nL 277.974206 151.754514 \nL 279.1941 151.648555 \nL 279.804047 151.8984 \nL 280.413994 151.99612 \nL 281.633889 151.890001 \nL 282.243836 152.136567 \nL 283.46373 152.03055 \nL 284.073677 151.829532 \nL 284.683625 151.777596 \nL 285.293572 151.873593 \nL 285.903519 152.116366 \nL 287.73336 151.960364 \nL 288.953255 151.566922 \nL 289.563202 151.661744 \nL 290.173149 151.611431 \nL 290.783096 151.417105 \nL 292.002991 150.744306 \nL 292.612938 150.839999 \nL 293.222885 151.07804 \nL 293.832832 151.029948 \nL 295.662674 151.311324 \nL 296.272621 151.545225 \nL 296.882568 151.355884 \nL 297.492515 151.588517 \nL 298.102462 151.540003 \nL 298.712409 151.77104 \nL 299.322357 151.722315 \nL 300.542251 151.902835 \nL 301.152198 151.854144 \nL 301.762145 151.943652 \nL 302.372092 151.757479 \nL 302.98204 151.846785 \nL 303.591987 151.661744 \nL 304.201934 151.614219 \nL 306.031775 151.066076 \nL 306.641723 150.749789 \nL 307.861617 150.929786 \nL 309.081511 151.376169 \nL 309.691458 151.464056 \nL 310.911353 151.904787 \nL 311.5213 151.990823 \nL 312.131247 151.811494 \nL 313.351141 151.71907 \nL 313.961089 151.804734 \nL 316.400877 151.622068 \nL 317.010824 151.186795 \nL 317.620772 151.012999 \nL 318.230719 151.098908 \nL 318.840666 151.055261 \nL 320.06056 151.482854 \nL 321.890402 151.733924 \nL 322.500349 151.944269 \nL 323.110296 152.026545 \nL 324.33019 151.936876 \nL 324.940138 151.766055 \nL 325.550085 151.974001 \nL 326.160032 152.055297 \nL 326.769979 152.010796 \nL 327.989873 151.672601 \nL 328.599821 151.629233 \nL 329.209768 151.710393 \nL 329.819715 151.667135 \nL 330.429662 151.500259 \nL 331.649556 151.415221 \nL 332.259504 151.618959 \nL 332.869451 151.699089 \nL 333.479398 151.656413 \nL 334.089345 151.73612 \nL 334.699292 151.693546 \nL 335.919187 151.851778 \nL 336.529134 151.809229 \nL 337.139081 152.008658 \nL 338.358975 152.164204 \nL 338.968923 152.121359 \nL 339.57887 152.198566 \nL 340.798764 152.590741 \nL 341.408711 152.428234 \nL 342.018658 152.623016 \nL 342.628606 152.579749 \nL 343.238553 152.418289 \nL 343.8485 152.375631 \nL 344.458447 152.451021 \nL 346.288289 151.972438 \nL 346.898236 151.931139 \nL 347.508183 152.006665 \nL 348.11813 151.849032 \nL 349.338024 151.999508 \nL 349.947972 151.842856 \nL 353.607655 152.402304 \nL 354.827549 151.978555 \nL 356.047443 151.671604 \nL 356.047443 151.671604 \n\" clip-path=\"url(#pb70cd94fa9)\" style=\"fill: none; stroke: #1f77b4; stroke-width: 1.5; stroke-linecap: square\"/>\n   </g>\n   <g id=\"line2d_17\">\n    <path d=\"M 51.683807 245.34 \nL 52.293754 216.99 \nL 52.903701 226.439999 \nL 53.513648 216.99 \nL 54.123595 211.320001 \nL 54.733543 216.99 \nL 55.34349 212.94 \nL 55.953437 202.814999 \nL 56.563384 207.539999 \nL 57.173331 211.320001 \nL 57.783278 204.103638 \nL 58.393226 202.814999 \nL 59.003173 193.001538 \nL 59.61312 196.739999 \nL 60.223067 196.200001 \nL 60.833014 192.183751 \nL 61.442961 191.975294 \nL 62.052909 188.64 \nL 62.662856 191.62421 \nL 63.272803 185.805003 \nL 63.88275 188.64 \nL 64.492697 188.64 \nL 65.102644 181.244348 \nL 65.712592 179.190001 \nL 66.322539 181.835999 \nL 66.932486 177.736155 \nL 68.15238 174.465001 \nL 68.762327 174.953794 \nL 69.372275 173.520002 \nL 69.982222 168.520644 \nL 70.592169 170.921254 \nL 71.202116 171.458186 \nL 71.812063 170.295879 \nL 73.641905 171.783243 \nL 74.251852 173.71895 \nL 75.471746 174.465001 \nL 76.081694 173.427807 \nL 76.691641 175.140001 \nL 77.911535 173.176366 \nL 78.521482 174.779999 \nL 80.351324 175.64625 \nL 80.961271 174.754285 \nL 81.571218 175.032002 \nL 82.791112 171.193843 \nL 83.40106 171.523023 \nL 84.011007 169.739997 \nL 85.230901 168.389997 \nL 85.840848 168.745268 \nL 86.450795 170.065865 \nL 87.060743 168.458645 \nL 87.67069 164.070003 \nL 88.280637 164.47279 \nL 89.500531 167.039997 \nL 90.110478 166.491567 \nL 90.720426 165.087697 \nL 92.550267 166.126766 \nL 93.160214 165.631303 \nL 94.380109 166.279439 \nL 94.990056 167.377499 \nL 95.600003 167.668769 \nL 96.20995 166.419734 \nL 96.819897 164.448001 \nL 97.429844 164.766315 \nL 98.039792 164.339998 \nL 98.649739 163.19769 \nL 99.259686 163.519747 \nL 99.869633 162.416254 \nL 101.699475 163.364101 \nL 102.309422 164.339998 \nL 104.139263 163.222758 \nL 104.74921 162.222959 \nL 105.969105 161.549999 \nL 106.579052 161.84769 \nL 107.188999 161.522608 \nL 107.798946 162.423875 \nL 109.018841 161.782109 \nL 109.628788 162.06188 \nL 110.848682 161.447142 \nL 111.458629 160.576367 \nL 112.068576 158.589003 \nL 112.678524 158.886533 \nL 113.898418 160.565248 \nL 114.508365 160.289998 \nL 115.118312 161.1 \nL 116.338207 161.614769 \nL 116.948154 161.340001 \nL 117.558101 159.509728 \nL 118.777995 157.991349 \nL 119.99789 158.533806 \nL 120.607837 158.30053 \nL 121.217784 158.564349 \nL 121.827731 157.357246 \nL 122.437678 157.139998 \nL 123.657573 157.66941 \nL 124.26752 158.4 \nL 124.877467 158.64992 \nL 125.487414 158.430982 \nL 126.097361 158.676585 \nL 126.707308 158.460967 \nL 127.317256 159.156004 \nL 127.927203 159.389998 \nL 129.147097 160.732968 \nL 129.757044 160.509772 \nL 130.976939 160.939241 \nL 131.586886 159.860453 \nL 132.196833 159.65053 \nL 133.416727 160.079999 \nL 134.026674 159.873092 \nL 134.636622 159.25533 \nL 135.246569 159.468261 \nL 135.856516 159.270217 \nL 136.466463 159.480005 \nL 137.07641 159.284682 \nL 137.686357 159.890709 \nL 138.296305 159.695242 \nL 138.906252 159.108749 \nL 139.516199 159.312411 \nL 140.126146 157.959868 \nL 140.736093 158.554286 \nL 141.955988 158.958121 \nL 143.175882 158.600265 \nL 143.785829 158.797895 \nL 144.395776 157.881175 \nL 145.615671 158.278064 \nL 146.225618 157.745772 \nL 146.835565 157.942548 \nL 147.445512 158.495701 \nL 148.055459 158.685287 \nL 148.665406 159.226874 \nL 149.275354 159.409566 \nL 149.885301 159.94 \nL 150.495248 159.768224 \nL 151.105195 159.944267 \nL 151.715142 160.461816 \nL 152.935037 160.120241 \nL 153.544984 160.289998 \nL 154.154931 160.122252 \nL 155.374825 159.129474 \nL 155.984772 159.301047 \nL 157.204667 158.986552 \nL 158.424561 159.323522 \nL 159.034508 158.848479 \nL 160.86435 160.289998 \nL 161.474297 159.820109 \nL 162.694191 160.754758 \nL 163.304138 160.289998 \nL 163.914086 160.136759 \nL 164.524033 159.375483 \nL 165.13398 159.83519 \nL 166.353874 159.540001 \nL 166.963821 159.693155 \nL 168.183716 159.404065 \nL 168.793663 158.674202 \nL 169.40361 158.244125 \nL 170.013557 158.690771 \nL 170.623504 158.84357 \nL 171.233452 159.282637 \nL 172.453346 159.577692 \nL 173.063293 160.006502 \nL 173.67324 159.866866 \nL 174.283187 160.009307 \nL 174.893135 159.871039 \nL 175.503082 159.456179 \nL 176.113029 159.598535 \nL 176.722976 159.464273 \nL 177.332923 159.605218 \nL 177.94287 159.199618 \nL 178.552818 159.611775 \nL 179.162765 159.210001 \nL 179.772712 159.618204 \nL 181.602553 158.435325 \nL 182.212501 158.83954 \nL 182.822448 158.452502 \nL 184.652289 158.866027 \nL 185.262236 158.743636 \nL 185.872184 158.878912 \nL 186.482131 158.757568 \nL 187.092078 158.891569 \nL 187.702025 159.2775 \nL 188.921919 158.533806 \nL 189.531867 158.416653 \nL 190.751761 157.195026 \nL 191.361708 157.085215 \nL 191.971655 157.221818 \nL 192.581602 157.112843 \nL 193.19155 157.248153 \nL 193.801497 156.89769 \nL 194.411444 157.274041 \nL 195.021391 157.406951 \nL 195.631338 157.060257 \nL 196.851233 157.324523 \nL 197.46118 157.69125 \nL 198.071127 157.819666 \nL 198.681074 158.181324 \nL 199.291021 158.073338 \nL 199.900968 158.19861 \nL 200.510916 157.628576 \nL 201.73081 158.338787 \nL 202.950704 157.671328 \nL 203.560651 157.795198 \nL 204.170599 157.466297 \nL 204.780546 157.589998 \nL 205.390493 157.488619 \nL 206.610387 156.843533 \nL 208.440229 157.213259 \nL 209.050176 157.115674 \nL 209.660123 157.236925 \nL 210.27007 156.922759 \nL 211.489965 156.732775 \nL 212.099912 157.06841 \nL 212.709859 157.187549 \nL 213.319806 157.092633 \nL 213.929753 156.786071 \nL 214.5397 156.270229 \nL 215.149648 156.390559 \nL 215.759595 156.300003 \nL 216.369542 156.419336 \nL 216.979489 156.746251 \nL 217.589436 156.655383 \nL 219.419278 157.003049 \nL 220.639172 156.414824 \nL 221.249119 156.530321 \nL 221.859066 156.442503 \nL 222.469014 156.557079 \nL 223.078961 156.469785 \nL 224.908802 156.808419 \nL 225.518749 156.721471 \nL 226.128697 156.43756 \nL 226.738644 156.746251 \nL 227.348591 156.856612 \nL 227.958538 157.161729 \nL 229.178432 156.988973 \nL 229.78838 157.290516 \nL 230.398327 157.01143 \nL 231.008274 157.310853 \nL 233.448063 157.729972 \nL 235.887851 157.389504 \nL 236.497798 157.492303 \nL 237.717693 158.066469 \nL 238.32764 158.166057 \nL 238.937587 157.896822 \nL 239.547534 157.812814 \nL 240.767429 158.01106 \nL 241.987323 157.844472 \nL 242.59727 158.123119 \nL 243.207217 157.860001 \nL 243.817164 157.957409 \nL 244.427112 157.875336 \nL 245.037059 158.150375 \nL 246.256953 157.986567 \nL 246.8669 158.258691 \nL 249.916636 157.855033 \nL 250.526583 157.428995 \nL 251.13653 157.351281 \nL 251.746478 157.446383 \nL 252.356425 157.712728 \nL 252.966372 157.634862 \nL 253.576319 157.728257 \nL 254.796213 157.573835 \nL 256.016108 157.758749 \nL 257.236002 157.605975 \nL 257.845949 157.69752 \nL 258.455896 157.621766 \nL 259.675791 157.139998 \nL 260.895685 157.652791 \nL 261.505632 157.742612 \nL 262.115579 157.995785 \nL 262.725527 157.92069 \nL 263.335474 157.520176 \nL 263.945421 157.284416 \nL 264.555368 157.212 \nL 265.165315 157.301542 \nL 266.38521 157.800343 \nL 266.995157 157.727294 \nL 267.605104 157.814369 \nL 268.215051 157.741691 \nL 268.824998 157.828233 \nL 269.434945 157.280783 \nL 270.044893 157.368137 \nL 270.65484 157.297504 \nL 273.094628 157.641925 \nL 273.704576 157.882197 \nL 274.314523 157.81131 \nL 274.92447 158.049807 \nL 275.534417 157.824786 \nL 276.144364 158.061948 \nL 276.754311 157.83811 \nL 277.364259 157.768305 \nL 278.584153 157.933837 \nL 279.1941 158.167544 \nL 282.243836 157.821533 \nL 284.683625 158.143396 \nL 285.293572 157.632192 \nL 285.903519 157.712728 \nL 286.513466 157.939743 \nL 287.123413 157.872557 \nL 287.73336 157.659592 \nL 288.343308 157.884985 \nL 289.563202 157.752277 \nL 290.783096 158.198019 \nL 291.393043 158.275285 \nL 292.002991 158.495701 \nL 293.222885 158.076269 \nL 293.832832 158.15307 \nL 294.442779 158.371577 \nL 295.052726 158.447255 \nL 295.662674 157.956962 \nL 296.272621 157.892243 \nL 296.882568 157.968537 \nL 298.712409 157.357246 \nL 299.322357 157.434106 \nL 299.932304 157.232649 \nL 300.542251 157.448072 \nL 301.152198 157.385854 \nL 302.372092 157.812814 \nL 302.98204 157.750173 \nL 303.591987 157.961744 \nL 304.201934 157.899036 \nL 304.811881 157.97293 \nL 305.421828 158.182447 \nL 306.031775 158.255311 \nL 306.641723 158.057183 \nL 308.471564 158.2746 \nL 309.081511 158.480425 \nL 309.691458 158.284105 \nL 310.301406 158.222115 \nL 311.5213 157.833446 \nL 312.131247 157.905423 \nL 313.351141 157.784654 \nL 313.961089 157.856242 \nL 315.180983 158.260322 \nL 316.400877 158.139316 \nL 317.010824 158.209264 \nL 317.620772 158.408651 \nL 318.230719 158.348225 \nL 318.840666 158.417219 \nL 319.450613 158.357045 \nL 320.06056 158.425718 \nL 320.670507 158.237509 \nL 321.280455 158.30614 \nL 321.890402 158.246761 \nL 322.500349 157.932806 \nL 323.110296 158.128788 \nL 324.33019 158.01188 \nL 324.940138 158.080088 \nL 325.550085 157.770003 \nL 327.379926 157.974443 \nL 329.209768 158.549208 \nL 329.819715 158.61506 \nL 330.429662 158.804409 \nL 331.039609 158.622351 \nL 331.649556 158.564349 \nL 332.259504 158.752583 \nL 333.479398 158.881683 \nL 334.089345 158.823622 \nL 334.699292 159.009677 \nL 335.30924 158.95159 \nL 335.919187 159.01516 \nL 336.529134 158.95731 \nL 337.139081 159.020601 \nL 338.968923 158.127715 \nL 339.57887 158.312097 \nL 340.188817 158.376081 \nL 340.798764 158.320419 \nL 341.408711 158.384116 \nL 342.018658 158.209814 \nL 342.628606 158.392091 \nL 343.238553 158.218499 \nL 343.8485 158.281875 \nL 344.458447 158.227109 \nL 345.068394 157.819666 \nL 345.678341 157.766091 \nL 346.288289 157.947026 \nL 346.898236 158.010308 \nL 347.508183 157.956666 \nL 349.947972 158.207144 \nL 350.557919 158.038165 \nL 351.167866 157.985122 \nL 351.777813 158.047306 \nL 352.38776 157.994458 \nL 352.997707 157.598185 \nL 353.607655 157.432138 \nL 354.217602 157.49493 \nL 354.827549 157.671328 \nL 355.437496 157.506134 \nL 356.047443 157.568403 \nL 356.047443 157.568403 \n\" clip-path=\"url(#pb70cd94fa9)\" style=\"fill: none; stroke: #ff7f0e; stroke-width: 1.5; stroke-linecap: square\"/>\n   </g>\n   <g id=\"line2d_18\">\n    <path d=\"M 51.683807 131.94 \nL 52.903701 75.239996 \nL 53.513648 61.06501 \nL 54.123595 52.560001 \nL 54.733543 46.890006 \nL 55.34349 50.939998 \nL 55.953437 75.239996 \nL 56.563384 87.839995 \nL 57.173331 80.910007 \nL 58.393226 108.315006 \nL 59.003173 105.770771 \nL 59.61312 91.439995 \nL 60.223067 101.700004 \nL 61.442961 105.257649 \nL 62.052909 106.740002 \nL 62.662856 111.050525 \nL 63.88275 107.640002 \nL 64.492697 106.167272 \nL 65.102644 112.218264 \nL 66.322539 113.796006 \nL 67.542433 119.340001 \nL 68.762327 124.119315 \nL 69.372275 126.270005 \nL 69.982222 124.62387 \nL 70.592169 126.62438 \nL 71.202116 126.78546 \nL 71.812063 128.604706 \nL 72.42201 128.700002 \nL 73.031958 125.64 \nL 74.251852 128.955794 \nL 74.861799 127.578462 \nL 75.471746 127.687504 \nL 76.081694 125.025364 \nL 76.691641 126.54 \nL 77.911535 126.78546 \nL 78.521482 123.120006 \nL 79.131429 122.079136 \nL 79.741377 122.288941 \nL 80.351324 123.67125 \nL 81.571218 121.734005 \nL 82.181165 124.157648 \nL 82.791112 125.397693 \nL 83.40106 125.521132 \nL 84.011007 127.740006 \nL 84.620954 127.816368 \nL 85.230901 125.865005 \nL 87.060743 129.056954 \nL 88.280637 132.869512 \nL 88.890584 131.025485 \nL 89.500531 131.04 \nL 90.110478 131.94 \nL 91.330373 131.94 \nL 91.94032 129.401198 \nL 92.550267 130.272353 \nL 93.160214 130.296526 \nL 93.770161 129.510004 \nL 94.380109 130.342817 \nL 94.990056 129.577502 \nL 96.20995 131.173789 \nL 96.819897 131.184004 \nL 98.039792 132.676369 \nL 98.649739 134.120769 \nL 99.869633 134.066248 \nL 100.47958 134.740002 \nL 101.089527 134.014388 \nL 101.699475 134.672528 \nL 102.309422 133.965004 \nL 102.919369 135.275294 \nL 103.529316 134.577207 \nL 104.139263 134.546901 \nL 104.74921 135.161596 \nL 105.359158 134.488316 \nL 106.579052 134.432308 \nL 107.188999 135.021521 \nL 107.798946 133.76903 \nL 110.848682 136.568576 \nL 111.458629 137.094549 \nL 112.068576 138.177004 \nL 112.678524 138.115251 \nL 113.288471 137.498823 \nL 113.898418 137.995343 \nL 114.508365 139.027502 \nL 115.118312 139.500001 \nL 116.338207 139.358692 \nL 116.948154 140.340005 \nL 117.558101 140.262934 \nL 119.387942 141.55875 \nL 120.607837 141.389999 \nL 121.217784 140.814786 \nL 121.827731 140.73828 \nL 122.437678 141.632307 \nL 123.047625 141.069665 \nL 124.26752 141.862499 \nL 124.877467 142.717685 \nL 126.097361 143.464396 \nL 126.707308 143.371449 \nL 127.317256 142.826398 \nL 127.927203 142.739999 \nL 129.757044 143.807441 \nL 130.366991 143.716158 \nL 130.976939 143.193438 \nL 131.586886 143.537733 \nL 132.196833 143.024214 \nL 132.80678 142.095225 \nL 133.416727 141.599998 \nL 134.026674 141.945882 \nL 134.636622 142.700585 \nL 135.856516 142.545758 \nL 136.466463 142.875005 \nL 137.07641 142.395324 \nL 137.686357 142.720989 \nL 138.906252 141.783755 \nL 140.126146 141.648909 \nL 140.736093 140.811432 \nL 141.34604 140.368377 \nL 141.955988 140.692352 \nL 142.565935 140.634003 \nL 143.175882 140.951921 \nL 143.785829 140.146583 \nL 144.395776 140.834117 \nL 145.615671 141.450967 \nL 146.225618 141.389999 \nL 146.835565 141.69096 \nL 147.445512 141.62924 \nL 148.055459 140.855096 \nL 148.665406 140.445 \nL 149.885301 140.340005 \nL 150.495248 139.592762 \nL 151.105195 139.546099 \nL 151.715142 139.843637 \nL 152.325089 139.454461 \nL 152.935037 139.748983 \nL 153.544984 139.027502 \nL 154.154931 138.985561 \nL 154.764878 139.27765 \nL 155.374825 138.903158 \nL 155.984772 138.862679 \nL 156.59472 138.494913 \nL 157.814614 139.715999 \nL 158.424561 139.671819 \nL 159.034508 140.268814 \nL 160.86435 140.129998 \nL 161.474297 139.771492 \nL 162.084244 140.039999 \nL 162.694191 139.066232 \nL 163.304138 139.027502 \nL 163.914086 139.29568 \nL 164.524033 139.25613 \nL 165.13398 138.30738 \nL 165.743927 138.273508 \nL 166.353874 138.840002 \nL 166.963821 138.803689 \nL 167.573769 139.064609 \nL 169.40361 138.954435 \nL 170.623504 138.304288 \nL 171.233452 138.559801 \nL 171.843399 137.667278 \nL 172.453346 137.923417 \nL 173.063293 137.893499 \nL 175.503082 138.888533 \nL 176.113029 139.407806 \nL 176.722976 139.371552 \nL 177.94287 139.845293 \nL 178.552818 139.536171 \nL 179.162765 139.770004 \nL 179.772712 140.270335 \nL 181.602553 140.153553 \nL 182.212501 139.85163 \nL 182.822448 140.340005 \nL 184.042342 140.783119 \nL 185.872184 140.663076 \nL 186.482131 140.368377 \nL 187.092078 140.330584 \nL 187.702025 139.786877 \nL 188.311972 139.752 \nL 188.921919 139.466552 \nL 189.531867 139.683175 \nL 190.141814 140.146583 \nL 190.751761 140.110743 \nL 191.361708 140.568262 \nL 191.971655 140.039999 \nL 193.801497 139.936153 \nL 195.021391 140.348902 \nL 195.631338 140.313416 \nL 196.241285 140.51647 \nL 197.46118 139.972501 \nL 198.071127 139.93917 \nL 198.681074 139.671819 \nL 199.291021 139.64 \nL 199.900968 139.376063 \nL 200.510916 139.577149 \nL 201.120863 138.854636 \nL 201.73081 138.367528 \nL 202.340757 138.798873 \nL 202.950704 138.999037 \nL 203.560651 139.4244 \nL 204.170599 139.620483 \nL 204.780546 139.365004 \nL 206.00044 139.752997 \nL 206.610387 139.722352 \nL 207.220334 139.913442 \nL 207.830282 139.66179 \nL 208.440229 139.631864 \nL 209.050176 139.821078 \nL 209.660123 140.226924 \nL 210.27007 140.195173 \nL 211.489965 140.994757 \nL 212.709859 140.070568 \nL 213.319806 140.039999 \nL 214.5397 140.402688 \nL 215.149648 140.792793 \nL 215.759595 140.760003 \nL 216.369542 141.145909 \nL 216.979489 140.903601 \nL 217.589436 141.286153 \nL 218.199383 141.045113 \nL 218.809331 141.424361 \nL 220.639172 141.322019 \nL 221.249119 141.491615 \nL 221.859066 141.457498 \nL 223.078961 141.792127 \nL 223.688908 142.158027 \nL 224.908802 142.08632 \nL 225.518749 142.249089 \nL 228.568485 142.071957 \nL 229.178432 142.231439 \nL 229.78838 142.002802 \nL 230.398327 142.354287 \nL 231.008274 142.511185 \nL 231.618221 142.283924 \nL 232.228168 142.249089 \nL 233.448063 142.93866 \nL 235.277904 143.392647 \nL 236.497798 144.06336 \nL 237.717693 143.984117 \nL 238.32764 144.129574 \nL 238.937587 144.458179 \nL 239.547534 144.234172 \nL 240.157481 144.560327 \nL 240.767429 144.337427 \nL 241.377376 144.297691 \nL 242.59727 143.857839 \nL 243.817164 144.500128 \nL 244.427112 144.639367 \nL 245.037059 144.064534 \nL 246.256953 144.697505 \nL 246.8669 144.834395 \nL 247.476847 144.794347 \nL 248.086795 144.579008 \nL 248.696742 144.715002 \nL 249.306689 145.024614 \nL 249.916636 145.158404 \nL 250.526583 145.117984 \nL 251.13653 144.732078 \nL 251.746478 144.865537 \nL 253.576319 144.748739 \nL 256.016108 145.271248 \nL 256.626055 145.23169 \nL 257.236002 144.689115 \nL 257.845949 144.651508 \nL 259.675791 145.037372 \nL 260.285738 144.999183 \nL 260.895685 144.7964 \nL 261.505632 144.759131 \nL 262.115579 144.885959 \nL 264.555368 144.738 \nL 265.165315 144.863079 \nL 266.38521 144.468614 \nL 267.605104 144.398031 \nL 268.215051 144.522307 \nL 268.824998 144.328234 \nL 269.434945 144.452012 \nL 270.044893 144.733041 \nL 272.484681 144.59207 \nL 273.094628 144.713076 \nL 273.704576 144.988765 \nL 274.314523 145.108031 \nL 274.92447 144.608664 \nL 275.534417 144.728318 \nL 276.144364 144.69366 \nL 276.754311 144.812436 \nL 277.364259 144.624911 \nL 277.974206 144.74323 \nL 280.413994 144.003828 \nL 281.633889 143.940005 \nL 282.243836 143.758732 \nL 283.46373 143.696692 \nL 284.073677 143.814343 \nL 285.293572 144.34313 \nL 285.903519 144.16364 \nL 286.513466 144.131974 \nL 287.123413 143.953954 \nL 288.343308 143.892184 \nL 290.173149 144.234645 \nL 291.393043 144.747869 \nL 292.612938 144.969544 \nL 293.222885 144.793907 \nL 293.832832 144.761607 \nL 295.662674 145.089874 \nL 296.272621 145.339254 \nL 296.882568 145.446699 \nL 297.492515 145.413266 \nL 298.102462 145.660001 \nL 298.712409 145.765867 \nL 299.322357 145.731894 \nL 299.932304 145.837058 \nL 300.542251 145.803085 \nL 301.762145 146.011537 \nL 302.98204 145.943388 \nL 303.591987 146.046524 \nL 304.201934 146.012534 \nL 304.811881 145.706107 \nL 305.421828 145.673097 \nL 306.031775 145.911535 \nL 306.641723 145.878187 \nL 307.25167 145.979997 \nL 307.861617 145.811973 \nL 308.471564 145.510379 \nL 309.691458 145.178918 \nL 310.301406 145.147766 \nL 310.911353 144.983662 \nL 311.5213 145.218687 \nL 312.131247 145.187662 \nL 313.351141 144.862327 \nL 313.961089 144.9639 \nL 314.571036 144.8025 \nL 315.180983 144.772793 \nL 316.400877 144.974487 \nL 317.010824 145.204679 \nL 317.620772 145.304072 \nL 318.230719 145.273563 \nL 318.840666 145.11403 \nL 319.450613 145.084095 \nL 320.06056 144.797143 \nL 320.670507 144.768053 \nL 321.280455 144.867092 \nL 321.890402 144.837977 \nL 322.500349 145.063818 \nL 323.720243 145.258794 \nL 324.33019 145.482193 \nL 324.940138 145.578308 \nL 325.550085 145.548002 \nL 326.160032 145.39211 \nL 327.379926 145.833382 \nL 327.989873 145.927664 \nL 328.599821 145.896927 \nL 329.209768 145.741973 \nL 329.819715 145.959914 \nL 330.429662 146.053106 \nL 331.039609 146.022352 \nL 331.649556 146.115003 \nL 333.479398 145.655768 \nL 336.529134 145.50923 \nL 337.139081 145.359404 \nL 338.968923 145.634494 \nL 341.408711 145.519411 \nL 342.018658 145.372078 \nL 342.628606 145.343977 \nL 343.8485 145.524379 \nL 344.458447 145.260374 \nL 345.068394 145.468007 \nL 345.678341 145.557389 \nL 346.288289 145.529254 \nL 346.898236 145.618145 \nL 347.508183 145.473339 \nL 348.11813 145.445542 \nL 348.728077 145.301681 \nL 349.338024 145.274357 \nL 349.947972 145.36286 \nL 350.557919 145.104567 \nL 351.167866 145.193053 \nL 351.777813 145.396191 \nL 352.38776 145.368952 \nL 352.997707 145.456365 \nL 354.217602 145.744229 \nL 355.437496 145.688897 \nL 356.047443 145.888199 \nL 356.047443 145.888199 \n\" clip-path=\"url(#pb70cd94fa9)\" style=\"fill: none; stroke: #2ca02c; stroke-width: 1.5; stroke-linecap: square\"/>\n   </g>\n   <g id=\"line2d_19\">\n    <path d=\"M 51.683807 18.54 \nL 52.293754 46.890006 \nL 52.903701 94.139994 \nL 53.513648 89.414999 \nL 55.34349 148.139999 \nL 55.953437 153.202505 \nL 56.563384 150.839999 \nL 57.783278 157.712728 \nL 58.393226 160.289998 \nL 59.003173 166.832305 \nL 60.223067 169.739997 \nL 60.833014 167.377499 \nL 62.052909 176.040001 \nL 62.662856 176.70316 \nL 63.272803 180.135 \nL 63.88275 180.540001 \nL 64.492697 178.330911 \nL 65.102644 181.244348 \nL 65.712592 179.190001 \nL 66.322539 179.568003 \nL 66.932486 177.736155 \nL 67.542433 180.239999 \nL 68.762327 176.908968 \nL 69.372275 179.190001 \nL 70.592169 176.236874 \nL 71.202116 178.330911 \nL 73.031958 174.465001 \nL 73.641905 176.38054 \nL 74.251852 173.71895 \nL 74.861799 175.555386 \nL 76.081694 176.193658 \nL 76.691641 172.439997 \nL 77.301588 172.816744 \nL 77.911535 174.465001 \nL 78.521482 173.520002 \nL 79.741377 176.576172 \nL 80.351324 173.283752 \nL 80.961271 174.754285 \nL 81.571218 175.032002 \nL 82.181165 174.187056 \nL 82.791112 174.465001 \nL 84.011007 172.889997 \nL 85.230901 175.477503 \nL 85.840848 174.713683 \nL 88.280637 175.626885 \nL 88.890584 173.093228 \nL 89.500531 172.439997 \nL 90.110478 173.57906 \nL 90.720426 172.93846 \nL 91.94032 173.407166 \nL 92.550267 171.963526 \nL 93.160214 171.38348 \nL 93.770161 171.630004 \nL 94.990056 168.952504 \nL 95.600003 168.445482 \nL 96.20995 167.185945 \nL 97.429844 166.258418 \nL 98.039792 166.549096 \nL 99.259686 165.672914 \nL 99.869633 166.66875 \nL 101.089527 167.204634 \nL 102.919369 165.960001 \nL 103.529316 166.223718 \nL 104.139263 165.829659 \nL 104.74921 164.800229 \nL 105.969105 165.330004 \nL 106.579052 164.339998 \nL 107.188999 162.755218 \nL 108.408893 162.099579 \nL 109.018841 162.378952 \nL 109.628788 162.06188 \nL 110.238735 161.166805 \nL 110.848682 160.868574 \nL 112.068576 161.424 \nL 113.898418 160.565248 \nL 114.508365 159.744812 \nL 115.728259 160.289998 \nL 116.338207 159.495145 \nL 116.948154 159.240004 \nL 117.558101 159.509728 \nL 119.387942 157.252504 \nL 119.99789 157.028497 \nL 120.607837 156.311054 \nL 121.217784 157.085215 \nL 121.827731 157.357246 \nL 122.437678 157.139998 \nL 123.047625 156.445933 \nL 124.26752 156.982501 \nL 124.877467 155.369755 \nL 125.487414 154.71295 \nL 126.097361 154.988784 \nL 127.317256 154.620003 \nL 127.927203 154.889998 \nL 128.53715 153.816381 \nL 130.366991 153.311539 \nL 131.586886 153.846822 \nL 132.196833 153.68211 \nL 132.80678 153.942988 \nL 133.416727 154.620003 \nL 134.636622 154.288906 \nL 135.246569 153.716092 \nL 135.856516 153.967338 \nL 136.466463 153.810002 \nL 137.07641 154.459152 \nL 137.686357 153.10268 \nL 138.296305 152.558187 \nL 138.906252 152.415003 \nL 139.516199 151.491726 \nL 140.126146 152.134523 \nL 140.736093 151.997143 \nL 141.955988 153.250072 \nL 142.565935 152.730005 \nL 143.175882 152.967818 \nL 144.395776 152.69294 \nL 146.225618 153.384233 \nL 146.835565 153.247648 \nL 148.665406 153.911254 \nL 149.885301 152.940004 \nL 150.495248 153.50687 \nL 151.105195 153.37537 \nL 151.715142 152.901823 \nL 152.325089 153.458677 \nL 152.935037 153.669343 \nL 154.154931 154.754207 \nL 154.764878 154.953534 \nL 155.374825 155.48211 \nL 155.984772 154.685931 \nL 156.59472 154.8822 \nL 157.204667 154.750345 \nL 159.034508 155.324748 \nL 159.644455 154.55629 \nL 160.86435 154.934997 \nL 161.474297 155.434475 \nL 162.084244 154.993844 \nL 162.694191 154.86787 \nL 163.304138 154.435106 \nL 163.914086 154.620003 \nL 165.13398 154.377434 \nL 165.743927 154.559686 \nL 166.353874 155.040001 \nL 166.963821 154.918421 \nL 167.573769 155.094978 \nL 168.183716 154.974378 \nL 168.793663 155.148807 \nL 169.40361 155.613711 \nL 170.623504 155.372147 \nL 171.233452 154.677566 \nL 171.843399 155.135457 \nL 172.453346 154.733971 \nL 173.063293 155.187005 \nL 174.283187 155.518221 \nL 174.893135 155.402073 \nL 175.503082 155.565002 \nL 176.113029 155.173174 \nL 176.722976 155.060388 \nL 177.332923 154.674786 \nL 178.552818 155.542393 \nL 179.162765 155.430005 \nL 179.772712 155.049954 \nL 180.382659 155.475849 \nL 180.992606 155.631546 \nL 182.212501 154.883721 \nL 182.822448 155.040001 \nL 183.432395 154.67226 \nL 184.042342 154.828076 \nL 184.652289 154.464661 \nL 185.262236 154.362276 \nL 186.482131 154.671086 \nL 187.092078 153.806369 \nL 188.921919 154.268763 \nL 189.531867 154.669954 \nL 190.141814 154.818951 \nL 190.751761 154.719042 \nL 191.361708 154.37348 \nL 191.971655 154.521818 \nL 192.581602 154.424486 \nL 193.19155 154.571329 \nL 193.801497 154.232306 \nL 194.411444 154.13745 \nL 195.021391 154.523896 \nL 196.241285 154.810587 \nL 196.851233 155.18937 \nL 197.46118 154.856253 \nL 198.071127 154.99643 \nL 199.900968 154.71295 \nL 200.510916 154.851429 \nL 201.120863 154.527808 \nL 201.73081 153.977249 \nL 202.340757 154.11702 \nL 203.560651 153.9396 \nL 204.170599 154.077851 \nL 204.780546 154.439998 \nL 205.390493 154.126956 \nL 206.00044 154.039611 \nL 206.610387 154.175292 \nL 207.220334 154.088437 \nL 207.830282 153.781639 \nL 208.440229 153.25744 \nL 209.050176 153.175139 \nL 209.660123 153.311539 \nL 210.27007 153.664139 \nL 210.880017 153.581221 \nL 211.489965 153.283344 \nL 213.929753 153.813035 \nL 214.5397 153.731418 \nL 215.149648 154.07197 \nL 216.979489 154.453238 \nL 218.199383 155.116642 \nL 218.809331 154.413823 \nL 220.639172 154.78317 \nL 221.249119 154.498068 \nL 221.859066 154.417499 \nL 222.469014 154.53929 \nL 223.078961 154.258084 \nL 223.688908 154.57993 \nL 224.298855 154.500214 \nL 224.908802 154.818951 \nL 225.518749 154.738956 \nL 226.128697 155.054635 \nL 226.738644 154.974378 \nL 227.348591 155.287057 \nL 228.568485 155.126603 \nL 229.178432 155.435548 \nL 231.008274 155.773219 \nL 232.838115 155.533294 \nL 234.667957 155.863259 \nL 235.277904 155.784042 \nL 236.497798 155.254148 \nL 237.107746 154.805906 \nL 237.717693 154.545881 \nL 238.32764 154.656942 \nL 238.937587 154.583183 \nL 240.767429 154.911704 \nL 241.377376 155.201537 \nL 241.987323 155.308374 \nL 243.817164 155.086521 \nL 244.427112 155.371234 \nL 245.647006 155.579813 \nL 246.256953 155.505936 \nL 246.8669 154.902621 \nL 248.086795 155.462601 \nL 248.696742 155.389999 \nL 249.306689 154.968928 \nL 249.916636 155.072209 \nL 251.13653 155.622624 \nL 251.746478 155.722981 \nL 252.356425 155.650911 \nL 252.966372 155.407979 \nL 254.796213 155.706472 \nL 255.406161 155.635526 \nL 256.626055 155.831398 \nL 257.236002 156.096214 \nL 257.845949 155.8577 \nL 259.675791 155.647895 \nL 260.285738 155.90939 \nL 260.895685 155.674881 \nL 261.505632 155.60609 \nL 262.115579 155.373819 \nL 262.725527 155.633084 \nL 263.335474 155.727932 \nL 263.945421 155.659774 \nL 264.555368 155.753997 \nL 265.165315 155.686152 \nL 265.775262 155.779775 \nL 266.38521 156.033489 \nL 267.605104 156.217186 \nL 268.824998 156.081175 \nL 270.65484 156.352505 \nL 271.874734 156.217625 \nL 273.094628 155.772695 \nL 276.754311 156.30568 \nL 277.364259 156.545665 \nL 277.974206 156.631937 \nL 278.584153 156.565739 \nL 279.1941 156.803104 \nL 281.023942 157.056446 \nL 281.633889 156.990004 \nL 282.243836 157.073513 \nL 282.853783 156.708949 \nL 283.46373 156.792754 \nL 284.073677 156.727697 \nL 284.683625 156.811021 \nL 285.293572 157.041568 \nL 285.903519 156.829093 \nL 287.123413 156.993493 \nL 287.73336 157.221184 \nL 289.563202 157.027213 \nL 290.173149 156.384644 \nL 290.783096 156.178169 \nL 291.393043 156.116652 \nL 292.002991 156.342535 \nL 293.222885 156.505245 \nL 294.442779 156.38211 \nL 296.882568 156.702283 \nL 297.492515 156.360294 \nL 298.102462 156.440002 \nL 298.712409 155.960693 \nL 299.322357 155.901668 \nL 299.932304 155.703971 \nL 300.542251 155.923128 \nL 301.762145 155.530514 \nL 302.372092 155.610872 \nL 302.98204 155.416275 \nL 303.591987 155.085651 \nL 306.031775 155.406745 \nL 306.641723 155.621382 \nL 307.25167 155.565002 \nL 307.861617 155.643561 \nL 308.471564 155.587392 \nL 309.081511 155.665537 \nL 309.691458 155.609579 \nL 310.301406 155.82071 \nL 312.131247 156.05075 \nL 312.741194 156.258882 \nL 313.351141 156.334187 \nL 313.961089 155.882928 \nL 314.571036 155.958749 \nL 315.79093 155.586775 \nL 316.400877 155.662757 \nL 317.010824 155.608354 \nL 317.620772 155.424437 \nL 318.230719 155.37082 \nL 318.840666 155.446607 \nL 319.450613 155.393184 \nL 320.06056 155.21143 \nL 320.670507 155.287057 \nL 321.280455 155.490339 \nL 321.890402 155.565002 \nL 322.500349 155.511909 \nL 323.110296 155.33193 \nL 323.720243 155.406441 \nL 324.33019 155.354066 \nL 324.940138 155.554475 \nL 325.550085 155.627998 \nL 326.160032 155.575479 \nL 326.769979 155.774072 \nL 327.989873 155.918853 \nL 328.599821 155.741543 \nL 329.819715 155.637376 \nL 331.039609 156.028233 \nL 331.649556 155.852613 \nL 332.869451 155.258187 \nL 333.479398 155.207823 \nL 334.089345 155.279875 \nL 334.699292 155.107745 \nL 335.919187 155.251352 \nL 337.139081 155.151941 \nL 337.749028 155.343834 \nL 338.358975 155.414527 \nL 338.968923 155.24466 \nL 339.57887 155.195394 \nL 340.798764 155.574947 \nL 341.408711 155.644414 \nL 342.628606 155.545232 \nL 343.8485 155.683127 \nL 346.288289 156.424093 \nL 346.898236 156.256702 \nL 348.11813 156.389697 \nL 348.728077 156.571966 \nL 349.338024 156.521594 \nL 349.947972 156.355715 \nL 350.557919 156.536945 \nL 351.167866 156.486953 \nL 351.777813 156.20714 \nL 352.997707 156.10909 \nL 353.607655 156.174679 \nL 354.827549 155.849639 \nL 355.437496 155.915355 \nL 356.047443 155.867399 \nL 356.047443 155.867399 \n\" clip-path=\"url(#pb70cd94fa9)\" style=\"fill: none; stroke: #d62728; stroke-width: 1.5; stroke-linecap: square\"/>\n   </g>\n   <g id=\"line2d_20\">\n    <path d=\"M 51.683807 131.94 \nL 52.903701 188.64 \nL 53.513648 202.814999 \nL 54.123595 199.980002 \nL 54.733543 188.64 \nL 55.34349 196.739999 \nL 55.953437 181.552503 \nL 56.563384 169.739997 \nL 57.173331 171.630004 \nL 57.783278 157.712728 \nL 58.393226 165.015002 \nL 59.003173 158.109229 \nL 59.61312 160.289998 \nL 60.833014 149.65875 \nL 61.442961 138.610588 \nL 62.052909 144.539999 \nL 62.662856 134.924214 \nL 63.272803 137.610003 \nL 63.88275 131.94 \nL 64.492697 137.094549 \nL 65.102644 134.40522 \nL 65.712592 134.302498 \nL 66.322539 129.672004 \nL 66.932486 131.94 \nL 67.542433 131.94 \nL 68.15238 133.965004 \nL 69.372275 130.050002 \nL 69.982222 133.76903 \nL 71.812063 128.604706 \nL 72.42201 127.079999 \nL 73.031958 127.215005 \nL 73.641905 128.87514 \nL 74.861799 129.032308 \nL 75.471746 123.435 \nL 76.081694 126.408298 \nL 76.691641 127.89 \nL 77.301588 130.621396 \nL 77.911535 130.651365 \nL 78.521482 133.200002 \nL 79.131429 130.70739 \nL 79.741377 131.94 \nL 80.351324 134.302498 \nL 80.961271 135.411432 \nL 81.571218 135.341998 \nL 82.181165 133.051765 \nL 82.791112 133.030389 \nL 84.011007 135.09 \nL 85.230901 134.977502 \nL 85.840848 135.918952 \nL 86.450795 134.87276 \nL 87.060743 134.823055 \nL 87.67069 135.720005 \nL 88.280637 134.728528 \nL 88.890584 135.598069 \nL 89.500531 137.34 \nL 90.110478 136.369687 \nL 90.720426 138.046155 \nL 91.330373 138.812729 \nL 93.160214 143.444347 \nL 93.770161 144.089999 \nL 94.380109 143.120287 \nL 94.990056 143.752505 \nL 95.600003 143.590683 \nL 96.20995 144.199464 \nL 96.819897 145.548002 \nL 97.429844 145.368952 \nL 98.039792 145.930909 \nL 98.649739 145.024614 \nL 99.259686 144.858989 \nL 99.869633 143.988755 \nL 101.089527 146.460735 \nL 101.699475 146.285782 \nL 102.309422 147.465003 \nL 102.919369 147.282353 \nL 103.529316 148.422557 \nL 104.139263 148.884825 \nL 104.74921 148.047956 \nL 105.359158 147.866971 \nL 106.579052 148.763076 \nL 107.798946 150.839999 \nL 108.408893 150.035742 \nL 109.018841 148.651583 \nL 109.628788 147.886876 \nL 110.238735 148.307009 \nL 110.848682 148.139999 \nL 111.458629 148.549089 \nL 112.068576 149.517002 \nL 113.288471 149.172352 \nL 113.898418 148.454562 \nL 114.508365 148.295772 \nL 115.118312 147.600001 \nL 115.728259 148.522078 \nL 116.338207 148.897009 \nL 116.948154 148.215 \nL 118.168048 149.980909 \nL 118.777995 149.818376 \nL 119.387942 150.165003 \nL 119.99789 151.007254 \nL 121.217784 151.661744 \nL 121.827731 152.469313 \nL 122.437678 152.293845 \nL 123.047625 152.601868 \nL 123.657573 152.428234 \nL 125.487414 153.318686 \nL 126.097361 152.683908 \nL 126.707308 152.973876 \nL 127.317256 153.712805 \nL 127.927203 152.639998 \nL 129.147097 151.430623 \nL 130.366991 151.130769 \nL 130.976939 151.417105 \nL 132.196833 151.124213 \nL 132.80678 151.404178 \nL 133.416727 150.420001 \nL 134.026674 150.284116 \nL 135.246569 149.196524 \nL 135.856516 149.888207 \nL 137.07641 149.633623 \nL 137.686357 149.908315 \nL 138.296305 149.782662 \nL 138.906252 150.446252 \nL 139.516199 150.318622 \nL 140.736093 150.839999 \nL 141.34604 149.946082 \nL 141.955988 149.825236 \nL 142.565935 150.084003 \nL 143.175882 149.212848 \nL 144.395776 148.987058 \nL 145.005723 149.612728 \nL 145.615671 149.49871 \nL 147.445512 150.241897 \nL 148.665406 150.013124 \nL 149.275354 150.253041 \nL 149.885301 149.790004 \nL 151.105195 150.26378 \nL 151.715142 149.121818 \nL 152.935037 149.595095 \nL 153.544984 150.165003 \nL 154.154931 149.721661 \nL 154.764878 149.617063 \nL 155.374825 149.84526 \nL 155.984772 149.741161 \nL 158.424561 150.625226 \nL 160.254403 150.312065 \nL 160.86435 149.895 \nL 161.474297 150.422324 \nL 166.353874 152.040004 \nL 167.573769 151.829532 \nL 169.40361 152.398764 \nL 170.013557 152.293845 \nL 170.623504 152.768575 \nL 171.843399 153.130908 \nL 172.453346 153.024426 \nL 173.67324 153.378809 \nL 174.893135 153.167585 \nL 176.113029 153.513663 \nL 176.722976 153.40893 \nL 177.332923 153.579134 \nL 177.94287 153.202505 \nL 179.772712 153.70635 \nL 180.382659 153.336226 \nL 180.992606 153.768171 \nL 182.212501 153.565117 \nL 182.822448 152.940004 \nL 183.432395 153.365806 \nL 184.042342 152.227157 \nL 184.652289 152.134523 \nL 185.262236 152.300452 \nL 186.482131 152.117025 \nL 187.092078 152.535071 \nL 187.702025 152.189998 \nL 188.311972 152.1 \nL 188.921919 152.261679 \nL 189.531867 151.422825 \nL 190.141814 151.088685 \nL 191.361708 151.90826 \nL 192.581602 151.73612 \nL 193.19155 151.894505 \nL 193.801497 152.293845 \nL 195.021391 151.64085 \nL 196.241285 151.475293 \nL 196.851233 151.156319 \nL 197.46118 151.312498 \nL 199.291021 152.473334 \nL 199.900968 152.389183 \nL 201.120863 152.683908 \nL 201.73081 153.059033 \nL 202.340757 152.745247 \nL 204.170599 152.496577 \nL 204.780546 151.965003 \nL 206.610387 151.729412 \nL 207.220334 151.209142 \nL 207.830282 151.354785 \nL 208.440229 151.279539 \nL 209.050176 151.423788 \nL 210.27007 150.839999 \nL 210.880017 150.767861 \nL 212.099912 151.054771 \nL 212.709859 151.410565 \nL 213.319806 151.337372 \nL 214.5397 152.03888 \nL 215.149648 151.331821 \nL 215.759595 151.049997 \nL 216.369542 150.561031 \nL 216.979489 150.492577 \nL 217.589436 150.216922 \nL 218.199383 150.150217 \nL 219.419278 150.839999 \nL 221.249119 150.636776 \nL 221.859066 150.975004 \nL 222.469014 150.503705 \nL 223.078961 150.43787 \nL 223.688908 149.77145 \nL 224.298855 149.708666 \nL 224.908802 149.447374 \nL 225.518749 148.989651 \nL 226.128697 148.930247 \nL 226.738644 149.265003 \nL 227.348591 148.812663 \nL 227.958538 148.558966 \nL 228.568485 148.696701 \nL 229.178432 148.639315 \nL 229.78838 148.969357 \nL 230.398327 148.718575 \nL 231.618221 149.371418 \nL 233.448063 149.196524 \nL 234.05801 148.95 \nL 234.667957 148.516746 \nL 235.277904 148.461853 \nL 235.887851 148.220196 \nL 236.497798 148.166647 \nL 237.107746 147.741639 \nL 237.717693 147.504705 \nL 238.32764 147.454011 \nL 238.937587 147.219544 \nL 239.547534 147.353595 \nL 240.157481 147.12097 \nL 240.767429 147.072152 \nL 241.377376 147.205383 \nL 241.987323 147.518916 \nL 243.207217 147.780006 \nL 243.817164 147.371017 \nL 244.427112 147.680063 \nL 245.037059 147.452262 \nL 246.256953 146.646561 \nL 246.8669 146.954019 \nL 248.086795 147.212134 \nL 250.526583 147.025319 \nL 251.746478 147.278298 \nL 252.356425 147.23182 \nL 252.966372 147.014319 \nL 254.186266 146.923788 \nL 254.796213 146.709159 \nL 255.406161 146.834331 \nL 256.016108 146.621248 \nL 257.236002 147.205383 \nL 257.845949 146.993095 \nL 258.455896 147.115588 \nL 259.065844 146.904812 \nL 259.675791 146.861055 \nL 260.285738 146.486943 \nL 260.895685 146.279825 \nL 261.505632 146.402614 \nL 262.725527 146.319248 \nL 263.335474 146.115003 \nL 263.945421 146.074389 \nL 265.165315 146.316925 \nL 265.775262 145.953924 \nL 266.38521 145.753599 \nL 266.995157 146.034915 \nL 267.605104 145.835495 \nL 268.824998 145.757646 \nL 269.434945 146.035811 \nL 270.044893 145.996549 \nL 270.65484 145.642504 \nL 271.264787 145.761609 \nL 271.874734 145.566801 \nL 272.484681 145.685458 \nL 273.704576 145.610136 \nL 274.92447 145.844637 \nL 275.534417 145.652769 \nL 276.144364 145.615611 \nL 276.754311 145.731894 \nL 277.364259 145.694718 \nL 278.584153 145.924986 \nL 279.1941 145.887591 \nL 279.804047 146.152804 \nL 280.413994 146.2658 \nL 281.023942 146.227797 \nL 281.633889 146.339999 \nL 282.243836 146.302004 \nL 282.853783 146.41342 \nL 283.46373 146.226614 \nL 284.073677 146.337642 \nL 287.123413 146.151629 \nL 287.73336 145.96887 \nL 288.343308 146.078563 \nL 289.563202 146.00624 \nL 290.173149 146.115003 \nL 292.612938 145.399089 \nL 293.832832 145.616379 \nL 294.442779 145.58211 \nL 295.052726 145.264506 \nL 295.662674 145.514063 \nL 296.272621 145.480301 \nL 296.882568 145.306007 \nL 297.492515 145.553612 \nL 298.102462 145.660001 \nL 298.712409 145.90552 \nL 299.322357 146.010515 \nL 299.932304 146.253972 \nL 301.152198 146.460735 \nL 301.762145 146.701319 \nL 302.372092 146.665487 \nL 302.98204 146.904406 \nL 303.591987 147.005219 \nL 304.201934 146.968914 \nL 304.811881 147.069085 \nL 306.031775 146.996703 \nL 306.641723 147.096088 \nL 307.25167 146.925005 \nL 307.861617 146.889409 \nL 308.471564 147.122702 \nL 309.081511 146.818725 \nL 309.691458 146.917358 \nL 312.131247 146.777385 \nL 312.741194 146.87497 \nL 313.351141 147.103954 \nL 314.571036 147.296252 \nL 315.180983 147.260783 \nL 315.79093 147.486776 \nL 318.230719 147.862603 \nL 319.450613 147.790229 \nL 320.06056 148.011431 \nL 320.670507 147.975067 \nL 321.280455 147.682893 \nL 321.890402 147.775139 \nL 322.500349 147.612133 \nL 323.720243 147.795704 \nL 324.940138 147.725079 \nL 326.160032 147.90652 \nL 326.769979 147.620312 \nL 327.989873 147.551233 \nL 328.599821 147.641544 \nL 329.209768 147.482763 \nL 329.819715 147.448756 \nL 330.429662 147.29109 \nL 332.259504 147.191198 \nL 333.479398 147.37024 \nL 334.089345 147.336984 \nL 334.699292 147.547744 \nL 335.30924 147.635925 \nL 335.919187 147.359484 \nL 336.529134 147.326542 \nL 337.139081 147.172838 \nL 337.749028 147.140428 \nL 338.968923 147.556531 \nL 339.57887 147.403638 \nL 340.798764 146.861055 \nL 342.018658 147.036227 \nL 342.628606 146.88603 \nL 343.238553 146.854828 \nL 343.8485 146.705628 \nL 345.678341 146.966092 \nL 346.288289 146.935042 \nL 346.898236 147.021036 \nL 347.508183 147.223338 \nL 348.11813 147.308376 \nL 348.728077 147.160697 \nL 350.557919 147.414132 \nL 351.777813 147.121342 \nL 352.997707 147.289096 \nL 353.607655 147.143833 \nL 354.217602 147.227325 \nL 354.827549 147.19663 \nL 355.437496 147.279684 \nL 356.047443 147.249005 \nL 356.047443 147.249005 \n\" clip-path=\"url(#pb70cd94fa9)\" style=\"fill: none; stroke: #9467bd; stroke-width: 1.5; stroke-linecap: square\"/>\n   </g>\n   <g id=\"line2d_21\">\n    <path d=\"M 51.683807 245.34 \nL 52.903701 131.94 \nL 53.513648 146.115003 \nL 54.123595 143.279997 \nL 54.733543 160.289998 \nL 55.34349 148.139999 \nL 55.953437 139.027502 \nL 57.173331 137.610003 \nL 57.783278 142.249089 \nL 58.393226 131.94 \nL 59.61312 148.139999 \nL 60.833014 160.289998 \nL 62.052909 163.439998 \nL 63.272803 165.960001 \nL 64.492697 168.021817 \nL 65.102644 166.453048 \nL 65.712592 169.739997 \nL 66.322539 168.227997 \nL 67.542433 161.340001 \nL 68.15238 158.265002 \nL 68.762327 157.357246 \nL 69.372275 154.620003 \nL 69.982222 155.717422 \nL 70.592169 153.202505 \nL 71.812063 151.951763 \nL 72.42201 153 \nL 73.031958 155.565002 \nL 73.641905 156.458919 \nL 74.251852 155.813689 \nL 74.861799 153.747691 \nL 75.471746 156.037502 \nL 76.081694 155.449759 \nL 76.691641 157.589998 \nL 77.911535 156.424093 \nL 79.131429 160.289998 \nL 79.741377 156.067665 \nL 80.351324 155.565002 \nL 80.961271 153.925719 \nL 81.571218 154.620003 \nL 82.181165 156.398822 \nL 82.791112 155.92846 \nL 84.011007 152.940004 \nL 84.620954 153.589095 \nL 85.230901 155.2275 \nL 85.840848 153.824213 \nL 86.450795 151.491726 \nL 87.060743 150.199323 \nL 87.67069 150.839999 \nL 88.280637 149.600655 \nL 88.890584 151.144837 \nL 89.500531 150.839999 \nL 90.720426 152.003082 \nL 91.94032 151.404178 \nL 92.550267 149.450297 \nL 93.160214 149.196524 \nL 93.770161 148.139999 \nL 94.380109 147.911835 \nL 94.990056 148.477501 \nL 95.600003 147.474246 \nL 96.20995 148.796762 \nL 96.819897 149.327998 \nL 98.039792 147.403638 \nL 98.649739 147.932307 \nL 99.259686 147.729878 \nL 99.869633 148.95 \nL 100.47958 146.640005 \nL 101.089527 145.077809 \nL 101.699475 144.236386 \nL 102.309422 144.089999 \nL 102.919369 145.281175 \nL 103.529316 145.78535 \nL 104.139263 145.626206 \nL 104.74921 146.759321 \nL 105.359158 147.229885 \nL 105.969105 146.430006 \nL 107.188999 148.580215 \nL 108.408893 149.432554 \nL 109.018841 149.248426 \nL 109.628788 150.249374 \nL 113.288471 149.172352 \nL 114.508365 149.931347 \nL 115.118312 149.760002 \nL 115.728259 149.056981 \nL 116.338207 149.426919 \nL 117.558101 149.106053 \nL 118.168048 149.465454 \nL 118.777995 150.329191 \nL 121.217784 151.661744 \nL 121.827731 151.491726 \nL 122.437678 150.839999 \nL 123.047625 151.64085 \nL 123.657573 151.951763 \nL 124.26752 151.784998 \nL 124.877467 151.152399 \nL 125.487414 150.994919 \nL 126.097361 149.918048 \nL 126.707308 149.773064 \nL 127.317256 149.176804 \nL 127.927203 149.489999 \nL 128.53715 149.351816 \nL 129.147097 148.329847 \nL 129.757044 148.642323 \nL 130.366991 148.513848 \nL 130.976939 147.954502 \nL 131.586886 147.833183 \nL 134.026674 149.033383 \nL 135.246569 150.429134 \nL 136.466463 150.165003 \nL 137.07641 149.633623 \nL 137.686357 149.509017 \nL 138.906252 150.839999 \nL 140.126146 151.35781 \nL 141.955988 150.966851 \nL 142.565935 151.218005 \nL 143.175882 151.841327 \nL 143.785829 152.083423 \nL 144.395776 152.69294 \nL 145.005723 152.926367 \nL 145.615671 152.059352 \nL 146.225618 151.930387 \nL 146.835565 151.441911 \nL 147.445512 151.31848 \nL 148.055459 151.909814 \nL 148.665406 152.139372 \nL 149.275354 152.718261 \nL 151.715142 153.589095 \nL 153.544984 152.189998 \nL 154.764878 151.951763 \nL 155.374825 152.166316 \nL 155.984772 152.708021 \nL 156.59472 152.915722 \nL 157.204667 152.469313 \nL 157.814614 152.351999 \nL 158.424561 151.913861 \nL 159.034508 151.801017 \nL 159.644455 152.326517 \nL 160.254403 152.529385 \nL 161.474297 152.30188 \nL 162.084244 151.87846 \nL 163.304138 152.278045 \nL 163.914086 151.861621 \nL 164.524033 152.364199 \nL 165.13398 152.558187 \nL 165.743927 152.146917 \nL 166.353874 150.839999 \nL 166.963821 150.442103 \nL 168.183716 150.249374 \nL 169.40361 150.645157 \nL 170.013557 150.549236 \nL 170.623504 151.032855 \nL 171.233452 150.360309 \nL 171.843399 150.267278 \nL 172.453346 150.4601 \nL 173.063293 149.800498 \nL 173.67324 149.71164 \nL 176.113029 148.258538 \nL 176.722976 148.729804 \nL 177.332923 148.648694 \nL 177.94287 148.840967 \nL 178.552818 148.488806 \nL 179.162765 148.410002 \nL 179.772712 147.525785 \nL 180.382659 147.719722 \nL 180.992606 147.645633 \nL 181.602553 148.102147 \nL 182.822448 147.9525 \nL 184.042342 148.325783 \nL 184.652289 148.250959 \nL 186.482131 148.796762 \nL 187.702025 148.646252 \nL 189.531867 149.174802 \nL 190.751761 150.014671 \nL 191.361708 149.196524 \nL 191.971655 149.612728 \nL 193.19155 149.947729 \nL 194.411444 149.794465 \nL 195.021391 149.238304 \nL 195.631338 149.404554 \nL 196.241285 148.616469 \nL 196.851233 148.546698 \nL 197.46118 148.241251 \nL 198.071127 148.173609 \nL 199.291021 147.573336 \nL 199.900968 147.509267 \nL 200.510916 147.214289 \nL 201.120863 147.382685 \nL 202.340757 147.258147 \nL 202.950704 147.424338 \nL 204.170599 147.300958 \nL 204.780546 147.689999 \nL 205.390493 147.851856 \nL 206.610387 148.616469 \nL 207.220334 148.551328 \nL 208.440229 148.862097 \nL 209.660123 148.731924 \nL 210.27007 148.884825 \nL 210.880017 148.603745 \nL 212.099912 148.477501 \nL 212.709859 148.201135 \nL 213.319806 148.353158 \nL 213.929753 148.079327 \nL 214.5397 148.230673 \nL 215.759595 148.110005 \nL 216.979489 147.157284 \nL 217.589436 146.893845 \nL 218.199383 146.839273 \nL 218.809331 146.99127 \nL 219.419278 147.347613 \nL 220.029225 147.496678 \nL 220.639172 147.848636 \nL 221.249119 147.994837 \nL 221.859066 147.937503 \nL 222.469014 148.082352 \nL 223.078961 148.427238 \nL 223.688908 148.569333 \nL 224.298855 148.510773 \nL 224.908802 148.651583 \nL 225.518749 148.989651 \nL 226.128697 149.127809 \nL 226.738644 148.871248 \nL 227.348591 149.008856 \nL 228.568485 148.891551 \nL 229.178432 148.445141 \nL 229.78838 148.775834 \nL 230.398327 148.525719 \nL 231.008274 147.508473 \nL 232.228168 147.403638 \nL 233.448063 146.920941 \nL 234.05801 146.870999 \nL 235.887851 147.284559 \nL 236.497798 147.234085 \nL 237.717693 147.875293 \nL 238.32764 147.454011 \nL 238.937587 147.587733 \nL 239.547534 147.904079 \nL 240.157481 148.035485 \nL 241.377376 147.932307 \nL 241.987323 147.700062 \nL 242.59727 147.288724 \nL 243.817164 147.191586 \nL 244.427112 146.785741 \nL 246.256953 147.178127 \nL 246.8669 146.954019 \nL 248.086795 147.212134 \nL 248.696742 147.515004 \nL 249.916636 147.767298 \nL 250.526583 148.06569 \nL 252.356425 148.434546 \nL 252.966372 148.727311 \nL 254.186266 148.62649 \nL 255.406161 149.203883 \nL 256.016108 149.152505 \nL 256.626055 148.933179 \nL 257.236002 149.050653 \nL 257.845949 149.33469 \nL 259.675791 149.679475 \nL 260.285738 149.627759 \nL 261.505632 149.853912 \nL 262.725527 149.750666 \nL 263.335474 150.02535 \nL 263.945421 150.135989 \nL 264.555368 149.922002 \nL 265.165315 149.870768 \nL 265.775262 149.980909 \nL 266.38521 149.769178 \nL 266.995157 150.039156 \nL 267.605104 149.828456 \nL 268.215051 149.778201 \nL 268.824998 150.045881 \nL 270.044893 149.945017 \nL 270.65484 150.052505 \nL 271.264787 149.688203 \nL 271.874734 149.7958 \nL 272.484681 149.74661 \nL 273.094628 149.853464 \nL 273.704576 149.338357 \nL 274.92447 148.934556 \nL 275.534417 149.042449 \nL 276.144364 148.996098 \nL 276.754311 148.796762 \nL 277.364259 148.751323 \nL 277.974206 148.248872 \nL 278.584153 148.357162 \nL 279.1941 148.161662 \nL 279.804047 147.815998 \nL 280.413994 147.773779 \nL 281.633889 147.990004 \nL 282.243836 147.94765 \nL 282.853783 148.203949 \nL 283.46373 148.310076 \nL 284.073677 148.267223 \nL 284.683625 147.928513 \nL 285.293572 147.886876 \nL 285.903519 147.992725 \nL 286.513466 147.804254 \nL 287.73336 148.307009 \nL 288.343308 148.264934 \nL 288.953255 148.513848 \nL 289.563202 148.47146 \nL 290.173149 148.718575 \nL 290.783096 148.820157 \nL 291.393043 149.065126 \nL 292.002991 149.021774 \nL 292.612938 149.121818 \nL 293.832832 149.035479 \nL 294.442779 148.708419 \nL 295.662674 148.624792 \nL 296.272621 148.16015 \nL 297.492515 148.360542 \nL 298.102462 148.180005 \nL 298.712409 148.27966 \nL 299.932304 148.199564 \nL 300.542251 147.605281 \nL 301.152198 147.705367 \nL 301.762145 147.253137 \nL 302.98204 147.17898 \nL 304.201934 147.378798 \nL 304.811881 147.614279 \nL 305.421828 147.57669 \nL 306.031775 147.403638 \nL 306.641723 147.637379 \nL 307.861617 147.562808 \nL 308.471564 147.391421 \nL 309.081511 147.354896 \nL 309.691458 147.585992 \nL 310.301406 147.282353 \nL 310.911353 147.37944 \nL 311.5213 147.210495 \nL 312.131247 147.307295 \nL 313.351141 147.235817 \nL 313.961089 147.331881 \nL 314.571036 147.164997 \nL 315.180983 147.260783 \nL 315.79093 147.225484 \nL 316.400877 147.060002 \nL 317.010824 147.155366 \nL 318.230719 147.08589 \nL 318.840666 147.180552 \nL 320.06056 147.111431 \nL 320.670507 147.205383 \nL 321.890402 146.881214 \nL 322.500349 146.975056 \nL 323.110296 146.687091 \nL 323.720243 146.527253 \nL 324.33019 146.494691 \nL 324.940138 146.335994 \nL 326.160032 146.272154 \nL 327.989873 145.80278 \nL 328.599821 145.772305 \nL 329.209768 145.866317 \nL 330.429662 145.557904 \nL 331.039609 145.651764 \nL 331.649556 145.868479 \nL 332.259504 145.961257 \nL 332.869451 146.176368 \nL 333.479398 146.268081 \nL 334.089345 146.2372 \nL 335.30924 145.932489 \nL 335.919187 146.02394 \nL 336.529134 146.236153 \nL 337.139081 146.326565 \nL 338.358975 146.265479 \nL 338.968923 146.355258 \nL 339.57887 146.324782 \nL 340.188817 146.174813 \nL 341.408711 146.115003 \nL 342.628606 146.29293 \nL 343.238553 146.49971 \nL 344.458447 146.439173 \nL 345.068394 146.526721 \nL 346.288289 146.232148 \nL 346.898236 146.202678 \nL 347.508183 146.056672 \nL 348.728077 145.998813 \nL 349.338024 145.854108 \nL 351.777813 146.201259 \nL 352.38776 146.172388 \nL 352.997707 146.258179 \nL 353.607655 146.229318 \nL 355.437496 146.825172 \nL 356.047443 146.795398 \nL 356.047443 146.795398 \n\" clip-path=\"url(#pb70cd94fa9)\" style=\"fill: none; stroke: #8c564b; stroke-width: 1.5; stroke-linecap: square\"/>\n   </g>\n   <g id=\"patch_3\">\n    <path d=\"M 36.465625 256.68 \nL 36.465625 7.2 \n\" style=\"fill: none; stroke: #000000; stroke-width: 0.8; stroke-linejoin: miter; stroke-linecap: square\"/>\n   </g>\n   <g id=\"patch_4\">\n    <path d=\"M 371.265625 256.68 \nL 371.265625 7.2 \n\" style=\"fill: none; stroke: #000000; stroke-width: 0.8; stroke-linejoin: miter; stroke-linecap: square\"/>\n   </g>\n   <g id=\"patch_5\">\n    <path d=\"M 36.465625 256.68 \nL 371.265625 256.68 \n\" style=\"fill: none; stroke: #000000; stroke-width: 0.8; stroke-linejoin: miter; stroke-linecap: square\"/>\n   </g>\n   <g id=\"patch_6\">\n    <path d=\"M 36.465625 7.2 \nL 371.265625 7.2 \n\" style=\"fill: none; stroke: #000000; stroke-width: 0.8; stroke-linejoin: miter; stroke-linecap: square\"/>\n   </g>\n  </g>\n </g>\n <defs>\n  <clipPath id=\"pb70cd94fa9\">\n   <rect x=\"36.465625\" y=\"7.2\" width=\"334.8\" height=\"249.48\"/>\n  </clipPath>\n </defs>\n</svg>\n"
     },
     "metadata": {},
     "output_type": "display_data"
    }
   ],
   "source": [
    "import matplotlib.pyplot as plt\n",
    "plt.plot(torch.arange(500),estimates)\n",
    "plt.show()"
   ],
   "metadata": {
    "collapsed": false,
    "pycharm": {
     "name": "#%%\n"
    }
   }
  },
  {
   "cell_type": "markdown",
   "source": [
    "# 查阅文档"
   ],
   "metadata": {
    "collapsed": false
   }
  },
  {
   "cell_type": "markdown",
   "source": [
    "为了知道模块中可以调用哪些函数和类，可以调用dir函数。 例如，我们可以查询随机数生成模块中的所有属性："
   ],
   "metadata": {
    "collapsed": false
   }
  },
  {
   "cell_type": "code",
   "execution_count": 37,
   "outputs": [
    {
     "name": "stdout",
     "output_type": "stream",
     "text": [
      "['AbsTransform', 'AffineTransform', 'Bernoulli', 'Beta', 'Binomial', 'CatTransform', 'Categorical', 'Cauchy', 'Chi2', 'ComposeTransform', 'ContinuousBernoulli', 'CorrCholeskyTransform', 'CumulativeDistributionTransform', 'Dirichlet', 'Distribution', 'ExpTransform', 'Exponential', 'ExponentialFamily', 'FisherSnedecor', 'Gamma', 'Geometric', 'Gumbel', 'HalfCauchy', 'HalfNormal', 'Independent', 'IndependentTransform', 'Kumaraswamy', 'LKJCholesky', 'Laplace', 'LogNormal', 'LogisticNormal', 'LowRankMultivariateNormal', 'LowerCholeskyTransform', 'MixtureSameFamily', 'Multinomial', 'MultivariateNormal', 'NegativeBinomial', 'Normal', 'OneHotCategorical', 'OneHotCategoricalStraightThrough', 'Pareto', 'Poisson', 'PositiveDefiniteTransform', 'PowerTransform', 'RelaxedBernoulli', 'RelaxedOneHotCategorical', 'ReshapeTransform', 'SigmoidTransform', 'SoftmaxTransform', 'SoftplusTransform', 'StackTransform', 'StickBreakingTransform', 'StudentT', 'TanhTransform', 'Transform', 'TransformedDistribution', 'Uniform', 'VonMises', 'Weibull', 'Wishart', '__all__', '__builtins__', '__cached__', '__doc__', '__file__', '__loader__', '__name__', '__package__', '__path__', '__spec__', 'bernoulli', 'beta', 'biject_to', 'binomial', 'categorical', 'cauchy', 'chi2', 'constraint_registry', 'constraints', 'continuous_bernoulli', 'dirichlet', 'distribution', 'exp_family', 'exponential', 'fishersnedecor', 'gamma', 'geometric', 'gumbel', 'half_cauchy', 'half_normal', 'identity_transform', 'independent', 'kl', 'kl_divergence', 'kumaraswamy', 'laplace', 'lkj_cholesky', 'log_normal', 'logistic_normal', 'lowrank_multivariate_normal', 'mixture_same_family', 'multinomial', 'multivariate_normal', 'negative_binomial', 'normal', 'one_hot_categorical', 'pareto', 'poisson', 'register_kl', 'relaxed_bernoulli', 'relaxed_categorical', 'studentT', 'transform_to', 'transformed_distribution', 'transforms', 'uniform', 'utils', 'von_mises', 'weibull', 'wishart']\n"
     ]
    }
   ],
   "source": [
    "import torch\n",
    "\n",
    "print(dir(torch.distributions))"
   ],
   "metadata": {
    "collapsed": false,
    "pycharm": {
     "name": "#%%\n"
    }
   }
  },
  {
   "cell_type": "markdown",
   "source": [
    "通常可以忽略以“__”（双下划线）开始和结束的函数，它们是Python中的特殊对象， 或以单个“_”（单下划线）开始的函数，它们通常是内部函数。 根据剩余的函数名或属性名，我们可能会猜测这个模块提供了各种生成随机数的方法， 包括从均匀分布（uniform）、正态分布（normal）和多项分布（multinomial）中采样。"
   ],
   "metadata": {
    "collapsed": false
   }
  },
  {
   "cell_type": "markdown",
   "source": [
    "有关如何使用给定函数或类的更具体说明，可以调用help函数。 例如，我们来查看张量ones函数的用法。"
   ],
   "metadata": {
    "collapsed": false
   }
  },
  {
   "cell_type": "code",
   "execution_count": 38,
   "outputs": [
    {
     "name": "stdout",
     "output_type": "stream",
     "text": [
      "Help on built-in function ones in module torch:\n",
      "\n",
      "ones(...)\n",
      "    ones(*size, *, out=None, dtype=None, layout=torch.strided, device=None, requires_grad=False) -> Tensor\n",
      "    \n",
      "    Returns a tensor filled with the scalar value `1`, with the shape defined\n",
      "    by the variable argument :attr:`size`.\n",
      "    \n",
      "    Args:\n",
      "        size (int...): a sequence of integers defining the shape of the output tensor.\n",
      "            Can be a variable number of arguments or a collection like a list or tuple.\n",
      "    \n",
      "    Keyword arguments:\n",
      "        out (Tensor, optional): the output tensor.\n",
      "        dtype (:class:`torch.dtype`, optional): the desired data type of returned tensor.\n",
      "            Default: if ``None``, uses a global default (see :func:`torch.set_default_tensor_type`).\n",
      "        layout (:class:`torch.layout`, optional): the desired layout of returned Tensor.\n",
      "            Default: ``torch.strided``.\n",
      "        device (:class:`torch.device`, optional): the desired device of returned tensor.\n",
      "            Default: if ``None``, uses the current device for the default tensor type\n",
      "            (see :func:`torch.set_default_tensor_type`). :attr:`device` will be the CPU\n",
      "            for CPU tensor types and the current CUDA device for CUDA tensor types.\n",
      "        requires_grad (bool, optional): If autograd should record operations on the\n",
      "            returned tensor. Default: ``False``.\n",
      "    \n",
      "    Example::\n",
      "    \n",
      "        >>> torch.ones(2, 3)\n",
      "        tensor([[ 1.,  1.,  1.],\n",
      "                [ 1.,  1.,  1.]])\n",
      "    \n",
      "        >>> torch.ones(5)\n",
      "        tensor([ 1.,  1.,  1.,  1.,  1.])\n",
      "\n"
     ]
    }
   ],
   "source": [
    "help(torch.ones)"
   ],
   "metadata": {
    "collapsed": false,
    "pycharm": {
     "name": "#%%\n"
    }
   }
  },
  {
   "cell_type": "markdown",
   "source": [
    "在Jupyter记事本中，我们可以使用?指令在另一个浏览器窗口中显示文档。 例如，list?指令将创建与help(list)指令几乎相同的内容，并在新的浏览器窗口中显示它。 此外，如果我们使用两个问号，如list??，将显示实现该函数的Python代码。"
   ],
   "metadata": {
    "collapsed": false,
    "pycharm": {
     "name": "#%% md\n"
    }
   }
  }
 ],
 "metadata": {
  "kernelspec": {
   "display_name": "Python 3",
   "language": "python",
   "name": "python3"
  },
  "language_info": {
   "codemirror_mode": {
    "name": "ipython",
    "version": 2
   },
   "file_extension": ".py",
   "mimetype": "text/x-python",
   "name": "python",
   "nbconvert_exporter": "python",
   "pygments_lexer": "ipython2",
   "version": "2.7.6"
  }
 },
 "nbformat": 4,
 "nbformat_minor": 0
}