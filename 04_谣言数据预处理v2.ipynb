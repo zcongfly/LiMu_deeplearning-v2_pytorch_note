{
 "cells": [
  {
   "cell_type": "markdown",
   "source": [
    "目的：从经过预处理后的文本pre_text.txt中读取文本数据，对文本进行去重（去除相似表述的句子），存为final_text.txt文件。"
   ],
   "metadata": {
    "collapsed": false
   }
  },
  {
   "cell_type": "code",
   "execution_count": 1,
   "metadata": {
    "collapsed": true
   },
   "outputs": [],
   "source": [
    "import jieba\n",
    "\n",
    "\n",
    "def tokenize(file_input, file_output):\n",
    "    \"\"\"获得文件所有不重复的词，存入新文件\"\"\"\n",
    "    with open(file_input, mode='r', encoding='utf-8') as f_in, open(file_output, mode='w', encoding='utf-8') as f_out:\n",
    "        token_set = set()\n",
    "        for line in f_in:\n",
    "            token_set.update(list(jieba.cut(line.strip(), cut_all=False)))\n",
    "        token_str = ' '.join(token for token in token_set)\n",
    "        f_out.write(token_str)\n",
    "\n",
    "\n",
    "tokenize('./datasets/pre_text.txt', './datasets/tokens.txt')"
   ]
  },
  {
   "cell_type": "markdown",
   "source": [
    "jieba.analyse.extract_tags(sentence, topK=20, withWeight=False, allowPOS=())\n",
    "* sentence 为待提取的文本\n",
    "* topK 为返回几个 TF/IDF 权重最大的关键词，默认值为 20\n",
    "* withWeight 为是否一并返回关键词权重值，默认值为 False\n",
    "* allowPOS 仅包括指定词性的词，默认值为空，即不筛选"
   ],
   "metadata": {
    "collapsed": false
   }
  },
  {
   "cell_type": "markdown",
   "source": [
    "jieba.analyse.textrank和jieba.analyse.extract_tags都是结巴分词库中的关键词提取方法。\n",
    "\n",
    "jieba.analyse.textrank(corpus)使用基于PageRank算法的TextRank，对语料库(corpus)进行关键词抽取。它将文本中的词语作为节点，构建图模型并计算节点之间的权重，然后通过迭代计算每个节点的权重得到每个词语的关键程度，并返回排名前几的关键词列表。\n",
    "\n",
    "jieba.analyse.extract_tags(text)则是基于TF-IDF算法的关键词提取器，可以直接对文本进行处理。它将文本中的词语按照出现频率和位置加权，选出其中权重最大的关键词。\n",
    "\n",
    "所以，两者的区别在于jieba.analyse.textrank需要将文本先转化为语料库，而jieba.analyse.extract_tags不需要；另外，由于使用不同的算法，两种方法可能会得出不同的关键词列表。"
   ],
   "metadata": {
    "collapsed": false
   }
  },
  {
   "cell_type": "code",
   "execution_count": 1,
   "outputs": [
    {
     "name": "stderr",
     "output_type": "stream",
     "text": [
      "Building prefix dict from the default dictionary ...\n",
      "Loading model from cache C:\\Users\\cong\\AppData\\Local\\Temp\\jieba.cache\n"
     ]
    },
    {
     "name": "stdout",
     "output_type": "stream",
     "text": [
      "31669\n"
     ]
    },
    {
     "name": "stderr",
     "output_type": "stream",
     "text": [
      "Loading model cost 0.778 seconds.\n",
      "Prefix dict has been built successfully.\n"
     ]
    },
    {
     "name": "stdout",
     "output_type": "stream",
     "text": [
      "['小女孩', '帮忙', '拐走', '一个三岁', '请告', '孩子', '一个四十多岁', '爽歪歪', '知情者', '转发', '手机号码', '寻人启事', '扩散', '联系人', '今天上午', '小孩', '兄弟姐妹', '监控', '万分', '一下']\n",
      "['孩子', '中国', '帮忙', '大家', '转发', '扩散', '小女孩', '小孩', '朋友', '看到', '没有', '高考', '小区', '医院', '信息', '爸爸', '感谢', '兄弟姐妹', '发生', '死亡']\n"
     ]
    }
   ],
   "source": [
    "import jieba.analyse\n",
    "def tf_idf(text):\n",
    "    keywords=jieba.analyse.extract_tags(text, topK=20, withWeight=False, allowPOS=())\n",
    "    return keywords\n",
    "\n",
    "def text_rank(text):\n",
    "    keywords=jieba.analyse.textrank(text)\n",
    "    return keywords\n",
    "\n",
    "with open('datasets/pre_text.txt',mode='r',encoding='utf-8') as f:\n",
    "    texts = f.readlines()\n",
    "    print(len(texts))\n",
    "    text = ''.join(t for t in texts)\n",
    "    keywords1=tf_idf(text)\n",
    "    print(keywords1)\n",
    "    keywords2=text_rank(text)\n",
    "    print(keywords2)"
   ],
   "metadata": {
    "collapsed": false,
    "pycharm": {
     "name": "#%%\n"
    }
   }
  }
 ],
 "metadata": {
  "kernelspec": {
   "display_name": "Python 3",
   "language": "python",
   "name": "python3"
  },
  "language_info": {
   "codemirror_mode": {
    "name": "ipython",
    "version": 2
   },
   "file_extension": ".py",
   "mimetype": "text/x-python",
   "name": "python",
   "nbconvert_exporter": "python",
   "pygments_lexer": "ipython2",
   "version": "2.7.6"
  }
 },
 "nbformat": 4,
 "nbformat_minor": 0
}